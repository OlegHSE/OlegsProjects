{
 "cells": [
  {
   "cell_type": "markdown",
   "metadata": {
    "id": "0UruJ4mcyd9y",
    "pycharm": {
     "name": "#%% md\n"
    }
   },
   "source": [
    "# Машинное обучение, ФКН ВШЭ\n",
    "\n",
    "# Практическое задание 6. Бустинговое\n",
    "\n",
    "## Общая информация\n",
    "\n",
    "Дата выдачи: 12.12.2023\n",
    "\n",
    "Мягкий дедлайн: 24.12.2023 23:59 MSK\n",
    "\n",
    "Жёсткий дедлайн: 24.12.2023 23:59 MSK\n",
    "\n",
    "## Оценивание и штрафы\n",
    "\n",
    "Каждая из задач имеет определенную «стоимость» (указана в скобках около задачи). Максимально допустимая оценка за работу — 10 баллов.\n",
    "\n",
    "Сдавать задание после указанного срока сдачи нельзя. При выставлении неполного балла за задание в связи с наличием ошибок на усмотрение проверяющего предусмотрена возможность исправить работу на указанных в ответном письме условиях.\n",
    "\n",
    "Задание выполняется самостоятельно. «Похожие» решения считаются плагиатом и все задействованные студенты (в том числе те, у кого списали) не могут получить за него больше 0 баллов (подробнее о плагиате см. на странице курса). Если вы нашли решение какого-то из заданий (или его часть) в открытом источнике, необходимо указать ссылку на этот источник в отдельном блоке в конце вашей работы (скорее всего вы будете не единственным, кто это нашел, поэтому чтобы исключить подозрение в плагиате, необходима ссылка на источник).\n",
    "\n",
    "Неэффективная реализация кода может негативно отразиться на оценке.\n",
    "\n",
    "## Формат сдачи\n",
    "Задания сдаются через систему anytask. Посылка должна содержать:\n",
    "* Ноутбук homework-practice-06-Username.ipynb\n",
    "\n",
    "Username — ваша фамилия на латинице"
   ]
  },
  {
   "cell_type": "markdown",
   "metadata": {
    "id": "xy7edo8syd90",
    "pycharm": {
     "name": "#%% md\n"
    }
   },
   "source": [
    "## О задании\n",
    "\n",
    "В этом задании вам предстоит вручную запрограммировать один из самых мощных алгоритмов машинного обучения — бустинг."
   ]
  },
  {
   "cell_type": "code",
   "execution_count": 1,
   "metadata": {
    "id": "qAYqzR7vyd90",
    "pycharm": {
     "name": "#%%\n"
    }
   },
   "outputs": [],
   "source": [
    "from warnings import filterwarnings\n",
    "\n",
    "import matplotlib.pyplot as plt\n",
    "import numpy as np\n",
    "import seaborn as sns\n",
    "from scipy.sparse import load_npz\n",
    "from sklearn.model_selection import train_test_split\n",
    "\n",
    "\n",
    "sns.set(style='darkgrid')\n",
    "filterwarnings('ignore')"
   ]
  },
  {
   "cell_type": "code",
   "execution_count": 2,
   "metadata": {
    "id": "uPAGezwGyd91",
    "pycharm": {
     "name": "#%%\n"
    }
   },
   "outputs": [],
   "source": [
    "x = load_npz('x.npz')\n",
    "y = np.load('y.npy')"
   ]
  },
  {
   "cell_type": "markdown",
   "metadata": {
    "id": "ZoEfkDYKyd91",
    "pycharm": {
     "name": "#%% md\n"
    }
   },
   "source": [
    "Разделим на обучающую, валидационную и тестовую выборки (`random_state` оставьте равным 1337 для воспроизводимости)."
   ]
  },
  {
   "cell_type": "code",
   "execution_count": 3,
   "metadata": {
    "colab": {
     "base_uri": "https://localhost:8080/"
    },
    "id": "R07Gb8LNyd91",
    "outputId": "f7967253-a84a-4411-e688-538da43ff022",
    "pycharm": {
     "name": "#%%\n"
    }
   },
   "outputs": [
    {
     "data": {
      "text/plain": [
       "((18825, 169), (2354, 169), (2353, 169))"
      ]
     },
     "execution_count": 3,
     "metadata": {},
     "output_type": "execute_result"
    }
   ],
   "source": [
    "x_train, x_test, y_train, y_test = train_test_split(x, y, test_size=0.2, random_state=1337)\n",
    "\n",
    "x_test, x_valid, y_test, y_valid = train_test_split(x_test, y_test, test_size=0.5, random_state=1337)\n",
    "\n",
    "x_train.shape, x_valid.shape, x_test.shape"
   ]
  },
  {
   "cell_type": "markdown",
   "metadata": {
    "id": "55z40_7_yd92",
    "pycharm": {
     "name": "#%% md\n"
    }
   },
   "source": [
    "## Задание 1. Реализация градиентного бустингового (4 балла)\n",
    "\n",
    "Вам нужно дописать код в файлике `boosting.py`. Для вас уже подготовлен шаблон класса `Boosting`, вы можете менять его по своему усмотрению.\n",
    "\n",
    "### Инструкции для функций:\n",
    "\n",
    "#### `__init__`\n",
    "\n",
    "В `__init__` приходит кучка параметров, распишем что есть что:\n",
    "\n",
    " - `base_model_class` - класс базовой модели нашего бустинга\n",
    " - `base_model_params` - словарь с гиперпараметрами для базовой модели\n",
    " - `n_estimators` - какое количество базовых моделей нужно обучить\n",
    " - `learning_rate` - темп обучения, должен быть из полуинтервала $(0, 1]$\n",
    " - `subsample` - доля объектов, на которой будет обучаться базовая модель (какую часть составляет бутстрапная выборка от исходной обучающей)\n",
    " - `early_stopping_rounds` - число итераций, после которых при отсутствии улучшения качества на валидационной выборке обучение останавливается\n",
    " - `plot` - строить ли после обучения всех базовых моделей график с качеством\n",
    "\n",
    "#### `fit`\n",
    "\n",
    "В `fit` приходит две выборки, обучающая и валидационная. На обучающей мы обучаем новые базовые модели, на валидационной считаем качество для ранней остановки (если это предусматривают параметры).\n",
    "\n",
    "Сначала нам нужно сделать какую-то нулевую модель, сделать предсказания для обучающей и валидационной выборок (в шаблоне это нулевая модель, соответственно предсказания это просто `np.zeros`). После этого нужно обучить `n_estimators` базовых моделей (как и на что обучаются базовые модели смотрите в лекциях и семинарах). После каждой обученной базовой модели мы должны обновить текущие предсказания, посчитать ошибку на обучающей и валидационной выборках (используем `loss_fn` для этого), проверить на раннюю остановку.\n",
    "\n",
    "После всего цикла обучения надо нарисовать график (если `plot`).\n",
    "\n",
    "\n",
    "#### `fit_new_base_model`\n",
    "\n",
    "В `fit_new_base_model` приходит обучающая выборка (целиком) и текущие предсказания для неё. Мы должны сгенерировать бутстрап выборку для обучения базовой модели и обучить базовую модель. После обучения модели запускаем поиск оптимальной гаммы, добавляем новую модель и гамму (не забываем про темп обучения) в соответствующие списки.\n",
    "\n",
    "#### `predict_proba`\n",
    "\n",
    "В `predict_proba` приходит выборка, нужно предсказать вероятности для неё. Суммируем предсказания базовых моделей на этой выборке (не забываем про гаммы) и накидываем сигмоиду."
   ]
  },
  {
   "cell_type": "code",
   "execution_count": null,
   "metadata": {
    "id": "QoO3Ti2zyd92",
    "outputId": "a07fcc8a-54e8-4254-f7b5-0273f9deb0f2",
    "pycharm": {
     "name": "#%%\n"
    }
   },
   "outputs": [
    {
     "name": "stderr",
     "output_type": "stream",
     "text": [
      "UsageError: Line magic function `%` not found.\n"
     ]
    }
   ],
   "source": [
    "% load_ext autoreload"
   ]
  },
  {
   "cell_type": "code",
   "execution_count": null,
   "metadata": {
    "id": "NIWkwMGKyd93",
    "outputId": "fc84da67-f008-4dbb-f4b8-2dfd85060456",
    "pycharm": {
     "name": "#%%\n"
    }
   },
   "outputs": [
    {
     "name": "stderr",
     "output_type": "stream",
     "text": [
      "UsageError: Line magic function `%` not found.\n"
     ]
    }
   ],
   "source": [
    "% autoreload 2\n",
    "\n",
    "from boosting import Boosting"
   ]
  },
  {
   "cell_type": "code",
   "execution_count": 4,
   "metadata": {
    "id": "iXV2Acj-yd93"
   },
   "outputs": [],
   "source": [
    "from __future__ import annotations\n",
    "\n",
    "from collections import defaultdict\n",
    "\n",
    "import numpy as np\n",
    "from sklearn.metrics import roc_auc_score\n",
    "from sklearn.tree import DecisionTreeRegressor\n",
    "\n",
    "\n",
    "def score(clf, x, y):\n",
    "    return roc_auc_score(y == 1, clf.predict_proba(x)[:, 1])\n",
    "\n",
    "class Boosting:\n",
    "\n",
    "    def __init__(\n",
    "            self,\n",
    "            base_model_params: dict = None,\n",
    "            n_estimators: int = 10,\n",
    "            learning_rate: float = 0.1,\n",
    "            subsample: float = 0.3,\n",
    "            early_stopping_rounds: int = None,\n",
    "            plot: bool = False,\n",
    "    ):\n",
    "        self.base_model_class = DecisionTreeRegressor\n",
    "        self.base_model_params: dict = {} if base_model_params is None else base_model_params\n",
    "\n",
    "        self.n_estimators: int = n_estimators\n",
    "\n",
    "        self.models: list = []\n",
    "        self.gammas: list = []\n",
    "\n",
    "        self.learning_rate: float = learning_rate\n",
    "        self.subsample: float = subsample\n",
    "\n",
    "        self.early_stopping_rounds: int = early_stopping_rounds\n",
    "        if early_stopping_rounds is not None:\n",
    "#             self.validation_loss = np.full(self.early_stopping_rounds, np.inf)\n",
    "            self.validation_loss = []\n",
    "\n",
    "        self.plot: bool = plot\n",
    "\n",
    "        self.history = defaultdict(list)\n",
    "\n",
    "        self.sigmoid = lambda x: 1 / (1 + np.exp(-x))\n",
    "        self.loss_fn = lambda y, z: -np.log(self.sigmoid(y * z)).mean()\n",
    "        self.loss_derivative = lambda y, z: -y * self.sigmoid(-y * z)\n",
    "\n",
    "    def fit_new_base_model(self, x, y, predictions):\n",
    "        # бутстрап выборка:\n",
    "        idx = np.random.randint(x.shape[0], size=int(np.round(self.subsample*x.shape[0])))\n",
    "        x_boot = x[idx,:]\n",
    "\n",
    "        s_i = -self.loss_derivative(y[idx], predictions[idx])\n",
    "\n",
    "        base_model = self.base_model_class(**self.base_model_params)\n",
    "        base_model.fit(x_boot, s_i)\n",
    "\n",
    "        pred = base_model.predict(x)\n",
    "\n",
    "        gamma_optim = self.find_optimal_gamma(y, predictions, pred)\n",
    "\n",
    "        predictions = predictions + self.learning_rate*gamma_optim*pred\n",
    "\n",
    "        self.models.append(base_model)\n",
    "        self.gammas.append(gamma_optim)\n",
    "\n",
    "        return predictions\n",
    "\n",
    "    def fit(self, x_train, y_train, x_valid, y_valid):\n",
    "        \"\"\"\n",
    "        :param x_train: features array (train set)\n",
    "        :param y_train: targets array (train set)\n",
    "        :param x_valid: features array (validation set)\n",
    "        :param y_valid: targets array (validation set)\n",
    "        \"\"\"\n",
    "        train_predictions = np.zeros(y_train.shape[0])\n",
    "        valid_predictions = np.zeros(y_valid.shape[0])\n",
    "\n",
    "        for i in range(self.n_estimators):\n",
    "            train_predictions = self.fit_new_base_model(x_train, y_train, train_predictions)\n",
    "            valid_predictions = valid_predictions + self.learning_rate*self.gammas[-1]*self.models[-1].predict(x_valid)\n",
    "            train_loss = self.loss_fn(y_train, train_predictions)\n",
    "            val_loss = self.loss_fn(y_valid, valid_predictions)\n",
    "\n",
    "            self.history['train'].append(train_loss)\n",
    "            self.history['val'].append(val_loss)\n",
    "\n",
    "            if (self.early_stopping_rounds is not None) & (i > 0):\n",
    "                diff = self.history['val'][i-1] - val_loss\n",
    "                if np.abs(diff) <= 0.005:\n",
    "                    self.validation_loss.append(val_loss)\n",
    "                    if len(self.validation_loss) == self.early_stopping_rounds:\n",
    "                        break\n",
    "                    else:\n",
    "                        continue\n",
    "                else:\n",
    "                    if len(self.validation_loss) == 0:\n",
    "                        continue\n",
    "                    else:\n",
    "                        self.validation_loss = []\n",
    "\n",
    "        if self.plot:\n",
    "            plt.figure(figsize=(12, 7))\n",
    "            length = len(self.history['train'])\n",
    "            sns.lineplot(x=np.arange(1, length+1), y=self.history['train'])\n",
    "            sns.lineplot(x=np.arange(1, length+1), y=self.history['val'])\n",
    "            plt.legend(['train', 'validation'])\n",
    "\n",
    "\n",
    "    def predict_proba(self, x):\n",
    "        y_pred = np.zeros(x.shape[0])\n",
    "\n",
    "        for gamma, model in zip(self.gammas, self.models):\n",
    "            y_pred += self.learning_rate*gamma*model.predict(x)\n",
    "\n",
    "        y_prob = self.sigmoid(y_pred)\n",
    "\n",
    "        return np.transpose(np.array([1-y_prob, y_prob]))\n",
    "\n",
    "    def find_optimal_gamma(self, y, old_predictions, new_predictions) -> float:\n",
    "        gammas = np.linspace(start=0, stop=1, num=100)\n",
    "        losses = [self.loss_fn(y, old_predictions + gamma * new_predictions) for gamma in gammas]\n",
    "\n",
    "        return gammas[np.argmin(losses)]\n",
    "\n",
    "    def score(self, x, y):\n",
    "        return score(self, x, y)\n",
    "\n",
    "    @property\n",
    "    def feature_importances_(self):\n",
    "        pass\n"
   ]
  },
  {
   "cell_type": "markdown",
   "metadata": {
    "id": "gMcVvzeXyd93",
    "pycharm": {
     "name": "#%% md\n"
    }
   },
   "source": [
    "### Проверка кода\n",
    "\n",
    "У автора задания всё учится около одной секунды."
   ]
  },
  {
   "cell_type": "code",
   "execution_count": null,
   "metadata": {
    "id": "-LAaWCf7yd93",
    "outputId": "369248b9-eaa4-4cb6-cf88-279a7a3bf074"
   },
   "outputs": [
    {
     "name": "stdout",
     "output_type": "stream",
     "text": [
      "Time:  0.8380359590009903\n",
      "Train ROC-AUC 0.9891\n",
      "Valid ROC-AUC 0.9117\n",
      "Test ROC-AUC 0.9083\n"
     ]
    }
   ],
   "source": [
    "boosting = Boosting()\n",
    "\n",
    "import timeit\n",
    "\n",
    "start = timeit.default_timer()\n",
    "\n",
    "boosting.fit(x_train, y_train, x_valid, y_valid)\n",
    "\n",
    "stop = timeit.default_timer()\n",
    "\n",
    "print('Time: ', stop-start)\n",
    "\n",
    "assert len(boosting.models) == boosting.n_estimators\n",
    "assert len(boosting.gammas) == boosting.n_estimators\n",
    "\n",
    "assert boosting.predict_proba(x_test).shape == (x_test.shape[0], 2)\n",
    "\n",
    "print(f'Train ROC-AUC {boosting.score(x_train, y_train):.4f}')\n",
    "print(f'Valid ROC-AUC {boosting.score(x_valid, y_valid):.4f}')\n",
    "print(f'Test ROC-AUC {boosting.score(x_test, y_test):.4f}')"
   ]
  },
  {
   "cell_type": "markdown",
   "metadata": {
    "id": "diZ0K1eUyd94",
    "pycharm": {
     "name": "#%% md\n"
    }
   },
   "source": [
    "## Задание 2. Обучение градиентного бустингового (1 балл)\n",
    "\n",
    "Оцените качество на тестовой выборке вашей имплементации бустинга для различной максимальной глубины решающего дерева в качестве базовой модели. Здесь и далее мы будем использовать метрику ROC-AUC.\n",
    "\n",
    "Перебирайте максимальную глубину от 1 до 30 с шагом 2 (остальные параметры бустинга стоит оставить равными по умолчанию). Постройте график зависимости качества на обучающей и тестовой выборке в зависимости от глубины."
   ]
  },
  {
   "cell_type": "code",
   "execution_count": null,
   "metadata": {
    "id": "9IO0G-8syd94",
    "pycharm": {
     "name": "#%%\n"
    }
   },
   "outputs": [],
   "source": [
    "results1 = {'train':[], 'test':[]}\n",
    "\n",
    "depths = range(1, 30, 2)\n",
    "\n",
    "for depth in depths:\n",
    "    boosting1 = Boosting(base_model_params={'max_depth':depth})\n",
    "    boosting1.fit(x_train, y_train, x_valid, y_valid)\n",
    "    train_score = boosting1.score(x_train, y_train)\n",
    "    test_score = boosting1.score(x_test, y_test)\n",
    "    results1['train'].append(train_score)\n",
    "    results1['test'].append(test_score)\n"
   ]
  },
  {
   "cell_type": "code",
   "execution_count": null,
   "metadata": {
    "id": "8l3Hkjf8yd94",
    "outputId": "ac3e7ac8-377c-4bda-9168-9f32257dbd32"
   },
   "outputs": [
    {
     "data": {
      "image/png": "[encoded data removed]",
      "text/plain": [
       "<Figure size 864x504 with 1 Axes>"
      ]
     },
     "metadata": {},
     "output_type": "display_data"
    }
   ],
   "source": [
    "plt.figure(figsize=(12, 7))\n",
    "sns.lineplot(x=depths, y=results1['train'])\n",
    "sns.lineplot(x=depths, y=results1['test'])\n",
    "plt.legend(['train', 'test'])\n",
    "plt.xlabel('max_depth')\n",
    "plt.ylabel('ROC-AUC');"
   ]
  },
  {
   "cell_type": "markdown",
   "metadata": {
    "id": "cG4CKH5dyd94",
    "pycharm": {
     "name": "#%% md\n"
    }
   },
   "source": [
    "**Какая из моделей имеет лучшее качество? Как вы можете это объяснить?**\n",
    "\n",
    "Для обучающей выборки качество растет с увеличение глубины, потому что модель лучше подстаивается под данные, то есть переобучается. По этой причине чем больше глубина, тем лучше модель, с точки зрения обучающей выборки. Однако, поскольку модель переобучается с увеличением глубины, качество на тестовых данных падает. С точки зрения теста оптимально брать совсем небольшое значение глубины, в нашем случае 3."
   ]
  },
  {
   "cell_type": "markdown",
   "metadata": {
    "id": "TrDIaoFKyd94",
    "pycharm": {
     "name": "#%% md\n"
    }
   },
   "source": [
    "## Задание 3. Подбираем гиперпараметры и ищем лучшую модель (3 балла)\n",
    "\n",
    "Подберите по валидационной выборке основные гиперпараметры для вашей модели бустинга. Следует подобрать все основные параметры для самого градиентного бустинга и для самих базовых моделей. Существуют библиотеки для подбора гиперпараметров, попробуйте использовать какую-нибудь из следующих двух - [Hyperopt](https://github.com/hyperopt/hyperopt), [Optuna](https://optuna.org/)."
   ]
  },
  {
   "cell_type": "code",
   "execution_count": null,
   "metadata": {
    "id": "ESgidxNWyd94"
   },
   "outputs": [],
   "source": [
    "pip install optuna-dashboard"
   ]
  },
  {
   "cell_type": "code",
   "execution_count": null,
   "metadata": {
    "id": "T3wM1L9ryd95",
    "outputId": "e2f94c54-7b4f-43e1-fdeb-73d922cc184a",
    "pycharm": {
     "is_executing": true,
     "name": "#%%\n"
    }
   },
   "outputs": [
    {
     "name": "stderr",
     "output_type": "stream",
     "text": [
      "[I 2023-12-23 21:18:05,823] A new study created in memory with name: no-name-f850f886-a19b-47a7-b2bd-6c1500c21bec\n",
      "[I 2023-12-23 21:18:07,649] Trial 0 finished with value: -0.9389296099320499 and parameters: {'max_depth': 10, 'n_estimators': 58, 'learning_rate': 0.4745339331930416, 'subsample': 0.9548004842119775, 'early_stopping_rounds': 7, 'min_samples_leaf': 35, 'min_samples_split': 19}. Best is trial 0 with value: -0.9389296099320499.\n",
      "[I 2023-12-23 21:18:08,918] Trial 1 finished with value: -0.9381789113153948 and parameters: {'max_depth': 29, 'n_estimators': 91, 'learning_rate': 0.3980999647335266, 'subsample': 0.42464670792599546, 'early_stopping_rounds': 4, 'min_samples_leaf': 27, 'min_samples_split': 33}. Best is trial 0 with value: -0.9389296099320499.\n",
      "[I 2023-12-23 21:18:09,741] Trial 2 finished with value: -0.9388609655077731 and parameters: {'max_depth': 19, 'n_estimators': 22, 'learning_rate': 0.469435173716773, 'subsample': 0.2770133372193763, 'early_stopping_rounds': 3, 'min_samples_leaf': 12, 'min_samples_split': 44}. Best is trial 0 with value: -0.9389296099320499.\n",
      "[I 2023-12-23 21:18:11,395] Trial 3 finished with value: -0.9367006616205032 and parameters: {'max_depth': 13, 'n_estimators': 23, 'learning_rate': 0.1504441574475849, 'subsample': 0.6434993448819067, 'early_stopping_rounds': 6, 'min_samples_leaf': 38, 'min_samples_split': 34}. Best is trial 0 with value: -0.9389296099320499.\n",
      "[I 2023-12-23 21:18:13,143] Trial 4 finished with value: -0.9339325353019916 and parameters: {'max_depth': 24, 'n_estimators': 12, 'learning_rate': 0.20266074714405072, 'subsample': 0.8359837050923696, 'early_stopping_rounds': 2, 'min_samples_leaf': 17, 'min_samples_split': 10}. Best is trial 0 with value: -0.9389296099320499.\n",
      "[I 2023-12-23 21:18:15,307] Trial 5 finished with value: -0.937356774606033 and parameters: {'max_depth': 18, 'n_estimators': 65, 'learning_rate': 0.6253501714676267, 'subsample': 0.9583332623012721, 'early_stopping_rounds': 5, 'min_samples_leaf': 43, 'min_samples_split': 14}. Best is trial 0 with value: -0.9389296099320499.\n",
      "[I 2023-12-23 21:18:16,664] Trial 6 finished with value: -0.9366535683526855 and parameters: {'max_depth': 23, 'n_estimators': 59, 'learning_rate': 0.21472588748628466, 'subsample': 0.30776844809914705, 'early_stopping_rounds': 5, 'min_samples_leaf': 8, 'min_samples_split': 44}. Best is trial 0 with value: -0.9389296099320499.\n",
      "[I 2023-12-23 21:18:18,492] Trial 7 finished with value: -0.9361247668284598 and parameters: {'max_depth': 27, 'n_estimators': 29, 'learning_rate': 0.5800214256940655, 'subsample': 0.7948669458230078, 'early_stopping_rounds': 3, 'min_samples_leaf': 34, 'min_samples_split': 42}. Best is trial 0 with value: -0.9389296099320499.\n",
      "[I 2023-12-23 21:18:19,902] Trial 8 finished with value: -0.9329834862268156 and parameters: {'max_depth': 13, 'n_estimators': 17, 'learning_rate': 0.7054245733969428, 'subsample': 0.7558602927883383, 'early_stopping_rounds': 5, 'min_samples_leaf': 17, 'min_samples_split': 49}. Best is trial 0 with value: -0.9389296099320499.\n",
      "[I 2023-12-23 21:18:20,907] Trial 9 finished with value: -0.9376668718017486 and parameters: {'max_depth': 14, 'n_estimators': 57, 'learning_rate': 0.27940579183721526, 'subsample': 0.28882376330820403, 'early_stopping_rounds': 5, 'min_samples_leaf': 31, 'min_samples_split': 28}. Best is trial 0 with value: -0.9389296099320499.\n",
      "[I 2023-12-23 21:18:21,571] Trial 10 finished with value: -0.9353944220817938 and parameters: {'max_depth': 4, 'n_estimators': 82, 'learning_rate': 0.935627044039369, 'subsample': 0.5231042679599777, 'early_stopping_rounds': 9, 'min_samples_leaf': 46, 'min_samples_split': 18}. Best is trial 0 with value: -0.9389296099320499.\n",
      "[I 2023-12-23 21:18:22,353] Trial 11 finished with value: -0.935367682683965 and parameters: {'max_depth': 7, 'n_estimators': 39, 'learning_rate': 0.45464037112269057, 'subsample': 0.18962117912539056, 'early_stopping_rounds': 8, 'min_samples_leaf': 4, 'min_samples_split': 3}. Best is trial 0 with value: -0.9389296099320499.\n",
      "[I 2023-12-23 21:18:23,000] Trial 12 finished with value: -0.9380452143262509 and parameters: {'max_depth': 8, 'n_estimators': 41, 'learning_rate': 0.7547977503867338, 'subsample': 0.12430745821459743, 'early_stopping_rounds': 8, 'min_samples_leaf': 19, 'min_samples_split': 21}. Best is trial 0 with value: -0.9389296099320499.\n",
      "[I 2023-12-23 21:18:24,753] Trial 13 finished with value: -0.9338199903738168 and parameters: {'max_depth': 19, 'n_estimators': 73, 'learning_rate': 0.4175898997924225, 'subsample': 0.4957636498311562, 'early_stopping_rounds': 7, 'min_samples_leaf': 11, 'min_samples_split': 25}. Best is trial 0 with value: -0.9389296099320499.\n",
      "[I 2023-12-23 21:18:26,676] Trial 14 finished with value: -0.9363562422126492 and parameters: {'max_depth': 9, 'n_estimators': 42, 'learning_rate': 0.4888425417634697, 'subsample': 0.9959591125608113, 'early_stopping_rounds': 10, 'min_samples_leaf': 24, 'min_samples_split': 36}. Best is trial 0 with value: -0.9389296099320499.\n",
      "[I 2023-12-23 21:18:27,247] Trial 15 finished with value: -0.9123921544212198 and parameters: {'max_depth': 2, 'n_estimators': 45, 'learning_rate': 0.3616946227310328, 'subsample': 0.6741071567224275, 'early_stopping_rounds': 2, 'min_samples_leaf': 39, 'min_samples_split': 8}. Best is trial 0 with value: -0.9389296099320499.\n",
      "[I 2023-12-23 21:18:28,264] Trial 16 finished with value: -0.935757199882187 and parameters: {'max_depth': 19, 'n_estimators': 72, 'learning_rate': 0.8280638843019068, 'subsample': 0.37744545622066894, 'early_stopping_rounds': 7, 'min_samples_leaf': 24, 'min_samples_split': 50}. Best is trial 0 with value: -0.9389296099320499.\n",
      "[I 2023-12-23 21:18:29,267] Trial 17 finished with value: -0.9379342657800362 and parameters: {'max_depth': 11, 'n_estimators': 31, 'learning_rate': 0.5315562034123809, 'subsample': 0.6278495027449713, 'early_stopping_rounds': 3, 'min_samples_leaf': 50, 'min_samples_split': 27}. Best is trial 0 with value: -0.9389296099320499.\n",
      "[I 2023-12-23 21:18:32,243] Trial 18 finished with value: -0.9357041201820195 and parameters: {'max_depth': 16, 'n_estimators': 98, 'learning_rate': 0.32920001317908576, 'subsample': 0.9019419938142079, 'early_stopping_rounds': 7, 'min_samples_leaf': 10, 'min_samples_split': 39}. Best is trial 0 with value: -0.9389296099320499.\n",
      "[I 2023-12-23 21:18:33,153] Trial 19 finished with value: -0.933274027743522 and parameters: {'max_depth': 22, 'n_estimators': 50, 'learning_rate': 0.6038484365217649, 'subsample': 0.21087289356506275, 'early_stopping_rounds': 6, 'min_samples_leaf': 1, 'min_samples_split': 20}. Best is trial 0 with value: -0.9389296099320499.\n",
      "[I 2023-12-23 21:18:33,792] Trial 20 finished with value: -0.9383082182541489 and parameters: {'max_depth': 6, 'n_estimators': 31, 'learning_rate': 0.6795910286247051, 'subsample': 0.43606120785904073, 'early_stopping_rounds': 4, 'min_samples_leaf': 31, 'min_samples_split': 14}. Best is trial 0 with value: -0.9389296099320499.\n",
      "[I 2023-12-23 21:18:34,333] Trial 21 finished with value: -0.9369181686625432 and parameters: {'max_depth': 5, 'n_estimators': 31, 'learning_rate': 0.6937862829760553, 'subsample': 0.42074176519659434, 'early_stopping_rounds': 3, 'min_samples_leaf': 31, 'min_samples_split': 14}. Best is trial 0 with value: -0.9389296099320499.\n",
      "[I 2023-12-23 21:18:34,754] Trial 22 finished with value: -0.936601286843498 and parameters: {'max_depth': 9, 'n_estimators': 10, 'learning_rate': 0.843818333516569, 'subsample': 0.33304342398726106, 'early_stopping_rounds': 4, 'min_samples_leaf': 36, 'min_samples_split': 15}. Best is trial 0 with value: -0.9389296099320499.\n",
      "[I 2023-12-23 21:18:35,451] Trial 23 finished with value: -0.9359068606909302 and parameters: {'max_depth': 5, 'n_estimators': 22, 'learning_rate': 0.5237757250066666, 'subsample': 0.5602518142752082, 'early_stopping_rounds': 4, 'min_samples_leaf': 28, 'min_samples_split': 8}. Best is trial 0 with value: -0.9389296099320499.\n",
      "[I 2023-12-23 21:18:36,113] Trial 24 finished with value: -0.9353892338404239 and parameters: {'max_depth': 11, 'n_estimators': 51, 'learning_rate': 0.6615287392310533, 'subsample': 0.209643275444893, 'early_stopping_rounds': 6, 'min_samples_leaf': 20, 'min_samples_split': 2}. Best is trial 0 with value: -0.9389296099320499.\n"
     ]
    },
    {
     "name": "stderr",
     "output_type": "stream",
     "text": [
      "[I 2023-12-23 21:18:36,945] Trial 25 finished with value: -0.935409587710413 and parameters: {'max_depth': 16, 'n_estimators': 35, 'learning_rate': 0.7795372286091369, 'subsample': 0.4782029005435082, 'early_stopping_rounds': 2, 'min_samples_leaf': 41, 'min_samples_split': 23}. Best is trial 0 with value: -0.9389296099320499.\n",
      "[I 2023-12-23 21:18:37,575] Trial 26 finished with value: -0.9191775759418853 and parameters: {'max_depth': 2, 'n_estimators': 63, 'learning_rate': 0.4714441150357599, 'subsample': 0.582327960041342, 'early_stopping_rounds': 3, 'min_samples_leaf': 33, 'min_samples_split': 30}. Best is trial 0 with value: -0.9389296099320499.\n",
      "[I 2023-12-23 21:18:38,680] Trial 27 finished with value: -0.9348293028679799 and parameters: {'max_depth': 21, 'n_estimators': 24, 'learning_rate': 0.5581059665554116, 'subsample': 0.4265815269356682, 'early_stopping_rounds': 4, 'min_samples_leaf': 23, 'min_samples_split': 17}. Best is trial 0 with value: -0.9389296099320499.\n",
      "[I 2023-12-23 21:18:40,698] Trial 28 finished with value: -0.9381202442783675 and parameters: {'max_depth': 11, 'n_estimators': 48, 'learning_rate': 0.28538193551949587, 'subsample': 0.7117360673139401, 'early_stopping_rounds': 8, 'min_samples_leaf': 15, 'min_samples_split': 11}. Best is trial 0 with value: -0.9389296099320499.\n",
      "[I 2023-12-23 21:18:41,315] Trial 29 finished with value: -0.9374956598365466 and parameters: {'max_depth': 30, 'n_estimators': 75, 'learning_rate': 0.9842297851893942, 'subsample': 0.26110143165406696, 'early_stopping_rounds': 4, 'min_samples_leaf': 30, 'min_samples_split': 46}. Best is trial 0 with value: -0.9389296099320499.\n",
      "[I 2023-12-23 21:18:42,040] Trial 30 finished with value: -0.9367393738830314 and parameters: {'max_depth': 7, 'n_estimators': 17, 'learning_rate': 0.3991252189530077, 'subsample': 0.44043967497435366, 'early_stopping_rounds': 3, 'min_samples_leaf': 26, 'min_samples_split': 31}. Best is trial 0 with value: -0.9389296099320499.\n",
      "[I 2023-12-23 21:18:43,579] Trial 31 finished with value: -0.9374968571230164 and parameters: {'max_depth': 26, 'n_estimators': 100, 'learning_rate': 0.1321732464061871, 'subsample': 0.36677611786435904, 'early_stopping_rounds': 6, 'min_samples_leaf': 36, 'min_samples_split': 34}. Best is trial 0 with value: -0.9389296099320499.\n",
      "[I 2023-12-23 21:18:44,202] Trial 32 finished with value: -0.9339612701772702 and parameters: {'max_depth': 29, 'n_estimators': 92, 'learning_rate': 0.429927659615939, 'subsample': 0.10034719309985018, 'early_stopping_rounds': 4, 'min_samples_leaf': 27, 'min_samples_split': 39}. Best is trial 0 with value: -0.9389296099320499.\n",
      "[I 2023-12-23 21:18:45,375] Trial 33 finished with value: -0.9362181551731158 and parameters: {'max_depth': 25, 'n_estimators': 84, 'learning_rate': 0.3589478612299345, 'subsample': 0.3713857071679498, 'early_stopping_rounds': 2, 'min_samples_leaf': 14, 'min_samples_split': 34}. Best is trial 0 with value: -0.9389296099320499.\n",
      "[I 2023-12-23 21:18:48,078] Trial 34 finished with value: -0.9360940364757314 and parameters: {'max_depth': 14, 'n_estimators': 25, 'learning_rate': 0.22739159247927623, 'subsample': 0.8856803592041576, 'early_stopping_rounds': 5, 'min_samples_leaf': 22, 'min_samples_split': 23}. Best is trial 0 with value: -0.9389296099320499.\n",
      "[I 2023-12-23 21:18:49,191] Trial 35 finished with value: -0.9392289315495361 and parameters: {'max_depth': 28, 'n_estimators': 67, 'learning_rate': 0.6291326442352447, 'subsample': 0.45171699839908697, 'early_stopping_rounds': 6, 'min_samples_leaf': 44, 'min_samples_split': 11}. Best is trial 35 with value: -0.9392289315495361.\n",
      "[I 2023-12-23 21:18:50,677] Trial 36 finished with value: -0.9353070201694877 and parameters: {'max_depth': 28, 'n_estimators': 65, 'learning_rate': 0.6342316267235834, 'subsample': 0.6000656927937963, 'early_stopping_rounds': 6, 'min_samples_leaf': 44, 'min_samples_split': 11}. Best is trial 35 with value: -0.9392289315495361.\n",
      "[I 2023-12-23 21:18:51,791] Trial 37 finished with value: -0.9389292108365601 and parameters: {'max_depth': 21, 'n_estimators': 56, 'learning_rate': 0.7309064949233712, 'subsample': 0.46427401680857483, 'early_stopping_rounds': 7, 'min_samples_leaf': 48, 'min_samples_split': 17}. Best is trial 35 with value: -0.9392289315495361.\n",
      "[I 2023-12-23 21:18:52,947] Trial 38 finished with value: -0.9386322837920138 and parameters: {'max_depth': 21, 'n_estimators': 60, 'learning_rate': 0.7478824210234214, 'subsample': 0.5296355257440526, 'early_stopping_rounds': 7, 'min_samples_leaf': 50, 'min_samples_split': 7}. Best is trial 35 with value: -0.9392289315495361.\n",
      "[I 2023-12-23 21:18:54,972] Trial 39 finished with value: -0.9341795754102902 and parameters: {'max_depth': 24, 'n_estimators': 68, 'learning_rate': 0.5901305126131777, 'subsample': 0.769144609202774, 'early_stopping_rounds': 8, 'min_samples_leaf': 47, 'min_samples_split': 18}. Best is trial 35 with value: -0.9392289315495361.\n",
      "[I 2023-12-23 21:18:55,948] Trial 40 finished with value: -0.9369728447446706 and parameters: {'max_depth': 18, 'n_estimators': 54, 'learning_rate': 0.4974489218214577, 'subsample': 0.26406768467870567, 'early_stopping_rounds': 9, 'min_samples_leaf': 41, 'min_samples_split': 4}. Best is trial 35 with value: -0.9392289315495361.\n",
      "[I 2023-12-23 21:18:57,175] Trial 41 finished with value: -0.938004107490783 and parameters: {'max_depth': 21, 'n_estimators': 59, 'learning_rate': 0.7572299311289111, 'subsample': 0.5318140070038532, 'early_stopping_rounds': 7, 'min_samples_leaf': 50, 'min_samples_split': 7}. Best is trial 35 with value: -0.9392289315495361.\n",
      "[I 2023-12-23 21:18:58,520] Trial 42 finished with value: -0.939208577679547 and parameters: {'max_depth': 16, 'n_estimators': 60, 'learning_rate': 0.868126661883549, 'subsample': 0.6581958037448992, 'early_stopping_rounds': 7, 'min_samples_leaf': 46, 'min_samples_split': 12}. Best is trial 35 with value: -0.9392289315495361.\n",
      "[I 2023-12-23 21:19:00,227] Trial 43 finished with value: -0.9353461315275061 and parameters: {'max_depth': 16, 'n_estimators': 54, 'learning_rate': 0.8948658703544652, 'subsample': 0.8361847395500198, 'early_stopping_rounds': 9, 'min_samples_leaf': 46, 'min_samples_split': 12}. Best is trial 35 with value: -0.9392289315495361.\n",
      "[I 2023-12-23 21:19:01,556] Trial 44 finished with value: -0.9367748933816398 and parameters: {'max_depth': 18, 'n_estimators': 79, 'learning_rate': 0.9258271749045633, 'subsample': 0.6832606251886276, 'early_stopping_rounds': 6, 'min_samples_leaf': 44, 'min_samples_split': 16}. Best is trial 35 with value: -0.9392289315495361.\n",
      "[I 2023-12-23 21:19:02,742] Trial 45 finished with value: -0.9386877580651214 and parameters: {'max_depth': 23, 'n_estimators': 65, 'learning_rate': 0.814602653230361, 'subsample': 0.47745228011514457, 'early_stopping_rounds': 8, 'min_samples_leaf': 41, 'min_samples_split': 21}. Best is trial 35 with value: -0.9392289315495361.\n",
      "[I 2023-12-23 21:19:04,473] Trial 46 finished with value: -0.9375096281786958 and parameters: {'max_depth': 15, 'n_estimators': 71, 'learning_rate': 0.8723460170436684, 'subsample': 0.928640743297682, 'early_stopping_rounds': 7, 'min_samples_leaf': 47, 'min_samples_split': 5}. Best is trial 35 with value: -0.9392289315495361.\n",
      "[I 2023-12-23 21:19:06,175] Trial 47 finished with value: -0.933665540419194 and parameters: {'max_depth': 19, 'n_estimators': 56, 'learning_rate': 0.7152290193257862, 'subsample': 0.8195065580324594, 'early_stopping_rounds': 5, 'min_samples_leaf': 38, 'min_samples_split': 13}. Best is trial 35 with value: -0.9392289315495361.\n",
      "[I 2023-12-23 21:19:07,109] Trial 48 finished with value: -0.9382711023735806 and parameters: {'max_depth': 13, 'n_estimators': 46, 'learning_rate': 0.6512036324333353, 'subsample': 0.3237639754639669, 'early_stopping_rounds': 10, 'min_samples_leaf': 48, 'min_samples_split': 18}. Best is trial 35 with value: -0.9392289315495361.\n",
      "[I 2023-12-23 21:19:10,145] Trial 49 finished with value: -0.925162012814158 and parameters: {'max_depth': 26, 'n_estimators': 60, 'learning_rate': 0.5764860772804892, 'subsample': 0.7478730428087825, 'early_stopping_rounds': 7, 'min_samples_leaf': 6, 'min_samples_split': 9}. Best is trial 35 with value: -0.9392289315495361.\n"
     ]
    },
    {
     "name": "stderr",
     "output_type": "stream",
     "text": [
      "[I 2023-12-23 21:19:11,425] Trial 50 finished with value: -0.9359332009932688 and parameters: {'max_depth': 17, 'n_estimators': 68, 'learning_rate': 0.9944995121235147, 'subsample': 0.599555963035846, 'early_stopping_rounds': 8, 'min_samples_leaf': 43, 'min_samples_split': 25}. Best is trial 35 with value: -0.9392289315495361.\n",
      "[I 2023-12-23 21:19:12,619] Trial 51 finished with value: -0.9393797896447491 and parameters: {'max_depth': 22, 'n_estimators': 63, 'learning_rate': 0.7977563080325302, 'subsample': 0.4827847083590996, 'early_stopping_rounds': 8, 'min_samples_leaf': 42, 'min_samples_split': 20}. Best is trial 51 with value: -0.9393797896447491.\n",
      "[I 2023-12-23 21:19:13,913] Trial 52 finished with value: -0.9348157336213208 and parameters: {'max_depth': 23, 'n_estimators': 77, 'learning_rate': 0.7184165228954554, 'subsample': 0.49358429980726143, 'early_stopping_rounds': 8, 'min_samples_leaf': 40, 'min_samples_split': 20}. Best is trial 51 with value: -0.9393797896447491.\n",
      "[I 2023-12-23 21:19:14,940] Trial 53 finished with value: -0.9371931454551405 and parameters: {'max_depth': 20, 'n_estimators': 62, 'learning_rate': 0.8107497846457963, 'subsample': 0.3957549402093852, 'early_stopping_rounds': 9, 'min_samples_leaf': 45, 'min_samples_split': 16}. Best is trial 51 with value: -0.9393797896447491.\n",
      "[I 2023-12-23 21:19:16,474] Trial 54 finished with value: -0.9348372847777797 and parameters: {'max_depth': 24, 'n_estimators': 52, 'learning_rate': 0.8521014997759048, 'subsample': 0.6426433312290543, 'early_stopping_rounds': 7, 'min_samples_leaf': 35, 'min_samples_split': 23}. Best is trial 51 with value: -0.9393797896447491.\n",
      "[I 2023-12-23 21:19:17,144] Trial 55 finished with value: -0.9361375378841393 and parameters: {'max_depth': 22, 'n_estimators': 68, 'learning_rate': 0.5206635794021689, 'subsample': 0.1537050658919798, 'early_stopping_rounds': 6, 'min_samples_leaf': 42, 'min_samples_split': 13}. Best is trial 51 with value: -0.9393797896447491.\n",
      "[I 2023-12-23 21:19:18,192] Trial 56 finished with value: -0.9380543935225205 and parameters: {'max_depth': 20, 'n_estimators': 57, 'learning_rate': 0.927883105217925, 'subsample': 0.4688359561662802, 'early_stopping_rounds': 7, 'min_samples_leaf': 38, 'min_samples_split': 19}. Best is trial 51 with value: -0.9393797896447491.\n",
      "[I 2023-12-23 21:19:20,770] Trial 57 finished with value: -0.9384151758454639 and parameters: {'max_depth': 17, 'n_estimators': 38, 'learning_rate': 0.44270125279901784, 'subsample': 0.9801553948056959, 'early_stopping_rounds': 8, 'min_samples_leaf': 48, 'min_samples_split': 10}. Best is trial 51 with value: -0.9393797896447491.\n",
      "[I 2023-12-23 21:19:22,077] Trial 58 finished with value: -0.9377119695921164 and parameters: {'max_depth': 27, 'n_estimators': 44, 'learning_rate': 0.6115322508099837, 'subsample': 0.5631148710187608, 'early_stopping_rounds': 5, 'min_samples_leaf': 45, 'min_samples_split': 25}. Best is trial 51 with value: -0.9393797896447491.\n",
      "[I 2023-12-23 21:19:22,862] Trial 59 finished with value: -0.9394715816074449 and parameters: {'max_depth': 12, 'n_estimators': 70, 'learning_rate': 0.7965203751064673, 'subsample': 0.29980831172673694, 'early_stopping_rounds': 6, 'min_samples_leaf': 39, 'min_samples_split': 28}. Best is trial 59 with value: -0.9394715816074449.\n",
      "[I 2023-12-23 21:19:23,790] Trial 60 finished with value: -0.9363757978916583 and parameters: {'max_depth': 10, 'n_estimators': 84, 'learning_rate': 0.7938677083841548, 'subsample': 0.5068721526630103, 'early_stopping_rounds': 6, 'min_samples_leaf': 38, 'min_samples_split': 28}. Best is trial 59 with value: -0.9394715816074449.\n",
      "[I 2023-12-23 21:19:24,515] Trial 61 finished with value: -0.9336040797137369 and parameters: {'max_depth': 15, 'n_estimators': 71, 'learning_rate': 0.7333342964719393, 'subsample': 0.28783620433137086, 'early_stopping_rounds': 6, 'min_samples_leaf': 43, 'min_samples_split': 44}. Best is trial 59 with value: -0.9394715816074449.\n",
      "[I 2023-12-23 21:19:25,333] Trial 62 finished with value: -0.937289726563716 and parameters: {'max_depth': 12, 'n_estimators': 62, 'learning_rate': 0.8629017930268492, 'subsample': 0.3458648996760879, 'early_stopping_rounds': 7, 'min_samples_leaf': 33, 'min_samples_split': 48}. Best is trial 59 with value: -0.9394715816074449.\n",
      "[I 2023-12-23 21:19:26,115] Trial 63 finished with value: -0.9360214010965547 and parameters: {'max_depth': 9, 'n_estimators': 68, 'learning_rate': 0.7857440053893019, 'subsample': 0.39661378475497827, 'early_stopping_rounds': 7, 'min_samples_leaf': 48, 'min_samples_split': 21}. Best is trial 59 with value: -0.9394715816074449.\n",
      "[I 2023-12-23 21:19:26,838] Trial 64 finished with value: -0.9364783654325837 and parameters: {'max_depth': 12, 'n_estimators': 49, 'learning_rate': 0.673310399121914, 'subsample': 0.21260777237552164, 'early_stopping_rounds': 8, 'min_samples_leaf': 40, 'min_samples_split': 15}. Best is trial 59 with value: -0.9394715816074449.\n",
      "[I 2023-12-23 21:19:27,772] Trial 65 finished with value: -0.9399888093624609 and parameters: {'max_depth': 13, 'n_estimators': 74, 'learning_rate': 0.8915726797221029, 'subsample': 0.45392176797708617, 'early_stopping_rounds': 7, 'min_samples_leaf': 37, 'min_samples_split': 31}. Best is trial 65 with value: -0.9399888093624609.\n",
      "[I 2023-12-23 21:19:28,639] Trial 66 finished with value: -0.937051067460707 and parameters: {'max_depth': 14, 'n_estimators': 81, 'learning_rate': 0.9635116672780728, 'subsample': 0.445061241183192, 'early_stopping_rounds': 6, 'min_samples_leaf': 42, 'min_samples_split': 26}. Best is trial 65 with value: -0.9399888093624609.\n",
      "[I 2023-12-23 21:19:29,425] Trial 67 finished with value: -0.9362041868309663 and parameters: {'max_depth': 10, 'n_estimators': 75, 'learning_rate': 0.8998515563817868, 'subsample': 0.4071474965954586, 'early_stopping_rounds': 7, 'min_samples_leaf': 36, 'min_samples_split': 31}. Best is trial 65 with value: -0.9399888093624609.\n",
      "[I 2023-12-23 21:19:30,378] Trial 68 finished with value: -0.9364735762867038 and parameters: {'max_depth': 12, 'n_estimators': 64, 'learning_rate': 0.7624818356953184, 'subsample': 0.45661015711245495, 'early_stopping_rounds': 6, 'min_samples_leaf': 39, 'min_samples_split': 36}. Best is trial 65 with value: -0.9399888093624609.\n",
      "[I 2023-12-23 21:19:31,578] Trial 69 finished with value: -0.934286133906115 and parameters: {'max_depth': 15, 'n_estimators': 74, 'learning_rate': 0.8323873113096907, 'subsample': 0.5430970866074476, 'early_stopping_rounds': 7, 'min_samples_leaf': 34, 'min_samples_split': 28}. Best is trial 65 with value: -0.9399888093624609.\n",
      "[I 2023-12-23 21:19:32,382] Trial 70 finished with value: -0.9357711682243364 and parameters: {'max_depth': 14, 'n_estimators': 87, 'learning_rate': 0.8963827106023083, 'subsample': 0.3528112716898497, 'early_stopping_rounds': 5, 'min_samples_leaf': 37, 'min_samples_split': 23}. Best is trial 65 with value: -0.9399888093624609.\n",
      "[I 2023-12-23 21:19:33,386] Trial 71 finished with value: -0.936925352381363 and parameters: {'max_depth': 17, 'n_estimators': 57, 'learning_rate': 0.48945409640408566, 'subsample': 0.31049747653257276, 'early_stopping_rounds': 8, 'min_samples_leaf': 46, 'min_samples_split': 38}. Best is trial 65 with value: -0.9399888093624609.\n",
      "[I 2023-12-23 21:19:34,140] Trial 72 finished with value: -0.9381390017663966 and parameters: {'max_depth': 8, 'n_estimators': 66, 'learning_rate': 0.5514775501626826, 'subsample': 0.241918327756113, 'early_stopping_rounds': 7, 'min_samples_leaf': 29, 'min_samples_split': 43}. Best is trial 65 with value: -0.9399888093624609.\n",
      "[I 2023-12-23 21:19:35,745] Trial 73 finished with value: -0.9337186201193616 and parameters: {'max_depth': 19, 'n_estimators': 71, 'learning_rate': 0.699039535586184, 'subsample': 0.5141398493217673, 'early_stopping_rounds': 9, 'min_samples_leaf': 12, 'min_samples_split': 41}. Best is trial 65 with value: -0.9399888093624609.\n",
      "[I 2023-12-23 21:19:36,420] Trial 74 finished with value: -0.934786200555062 and parameters: {'max_depth': 13, 'n_estimators': 61, 'learning_rate': 0.4568263920704525, 'subsample': 0.16235970488850326, 'early_stopping_rounds': 5, 'min_samples_leaf': 44, 'min_samples_split': 15}. Best is trial 65 with value: -0.9399888093624609.\n"
     ]
    },
    {
     "name": "stderr",
     "output_type": "stream",
     "text": [
      "[I 2023-12-23 21:19:38,514] Trial 75 finished with value: -0.9274655919823314 and parameters: {'max_depth': 20, 'n_estimators': 15, 'learning_rate': 0.3872523834526464, 'subsample': 0.8717661783387902, 'early_stopping_rounds': 8, 'min_samples_leaf': 18, 'min_samples_split': 30}. Best is trial 65 with value: -0.9399888093624609.\n",
      "[I 2023-12-23 21:19:39,296] Trial 76 finished with value: -0.9372406378184482 and parameters: {'max_depth': 22, 'n_estimators': 78, 'learning_rate': 0.9485418919990847, 'subsample': 0.2853721158453561, 'early_stopping_rounds': 6, 'min_samples_leaf': 32, 'min_samples_split': 17}. Best is trial 65 with value: -0.9399888093624609.\n",
      "[I 2023-12-23 21:19:40,214] Trial 77 finished with value: -0.9368599007210058 and parameters: {'max_depth': 11, 'n_estimators': 58, 'learning_rate': 0.8084826519441314, 'subsample': 0.4267981873477644, 'early_stopping_rounds': 7, 'min_samples_leaf': 3, 'min_samples_split': 32}. Best is trial 65 with value: -0.9399888093624609.\n",
      "[I 2023-12-23 21:19:40,913] Trial 78 finished with value: -0.9355528629913167 and parameters: {'max_depth': 30, 'n_estimators': 54, 'learning_rate': 0.8696863854674718, 'subsample': 0.38220786719591854, 'early_stopping_rounds': 3, 'min_samples_leaf': 40, 'min_samples_split': 22}. Best is trial 65 with value: -0.9399888093624609.\n",
      "[I 2023-12-23 21:19:42,266] Trial 79 finished with value: -0.936684298705414 and parameters: {'max_depth': 18, 'n_estimators': 65, 'learning_rate': 0.8365003998925792, 'subsample': 0.6755981589956921, 'early_stopping_rounds': 7, 'min_samples_leaf': 49, 'min_samples_split': 12}. Best is trial 65 with value: -0.9399888093624609.\n",
      "[I 2023-12-23 21:19:43,410] Trial 80 finished with value: -0.9377618565283641 and parameters: {'max_depth': 25, 'n_estimators': 69, 'learning_rate': 0.6310494716853008, 'subsample': 0.4891117591200417, 'early_stopping_rounds': 6, 'min_samples_leaf': 42, 'min_samples_split': 20}. Best is trial 65 with value: -0.9399888093624609.\n",
      "[I 2023-12-23 21:19:44,653] Trial 81 finished with value: -0.9369540872566415 and parameters: {'max_depth': 23, 'n_estimators': 52, 'learning_rate': 0.7702927607501464, 'subsample': 0.4712944662446697, 'early_stopping_rounds': 9, 'min_samples_leaf': 41, 'min_samples_split': 19}. Best is trial 65 with value: -0.9399888093624609.\n",
      "[I 2023-12-23 21:19:45,999] Trial 82 finished with value: -0.9367010607159933 and parameters: {'max_depth': 23, 'n_estimators': 66, 'learning_rate': 0.7973841665776867, 'subsample': 0.5669392045080791, 'early_stopping_rounds': 8, 'min_samples_leaf': 45, 'min_samples_split': 17}. Best is trial 65 with value: -0.9399888093624609.\n",
      "[I 2023-12-23 21:19:47,508] Trial 83 finished with value: -0.9344621350171971 and parameters: {'max_depth': 22, 'n_estimators': 73, 'learning_rate': 0.8212173442618804, 'subsample': 0.6081864177677636, 'early_stopping_rounds': 8, 'min_samples_leaf': 39, 'min_samples_split': 21}. Best is trial 65 with value: -0.9399888093624609.\n",
      "[I 2023-12-23 21:19:48,485] Trial 84 finished with value: -0.9374605394334279 and parameters: {'max_depth': 25, 'n_estimators': 63, 'learning_rate': 0.7466492715405941, 'subsample': 0.4156972369385699, 'early_stopping_rounds': 7, 'min_samples_leaf': 46, 'min_samples_split': 24}. Best is trial 65 with value: -0.9399888093624609.\n",
      "[I 2023-12-23 21:19:49,666] Trial 85 finished with value: -0.9407818121010542 and parameters: {'max_depth': 21, 'n_estimators': 59, 'learning_rate': 0.8810602421995618, 'subsample': 0.45769525795011173, 'early_stopping_rounds': 8, 'min_samples_leaf': 37, 'min_samples_split': 28}. Best is trial 85 with value: -0.9407818121010542.\n",
      "[I 2023-12-23 21:19:50,693] Trial 86 finished with value: -0.9339109841455326 and parameters: {'max_depth': 16, 'n_estimators': 55, 'learning_rate': 0.9088821913747819, 'subsample': 0.44505691530655356, 'early_stopping_rounds': 8, 'min_samples_leaf': 35, 'min_samples_split': 29}. Best is trial 85 with value: -0.9407818121010542.\n",
      "[I 2023-12-23 21:19:51,641] Trial 87 finished with value: -0.9341676025455906 and parameters: {'max_depth': 21, 'n_estimators': 59, 'learning_rate': 0.8699400567703038, 'subsample': 0.5158956585057322, 'early_stopping_rounds': 2, 'min_samples_leaf': 21, 'min_samples_split': 26}. Best is trial 85 with value: -0.9407818121010542.\n",
      "[I 2023-12-23 21:19:52,916] Trial 88 finished with value: -0.9383305676015877 and parameters: {'max_depth': 20, 'n_estimators': 51, 'learning_rate': 0.5169705910114217, 'subsample': 0.36191988988644774, 'early_stopping_rounds': 9, 'min_samples_leaf': 25, 'min_samples_split': 33}. Best is trial 85 with value: -0.9407818121010542.\n",
      "[I 2023-12-23 21:19:55,107] Trial 89 finished with value: -0.9360609115500629 and parameters: {'max_depth': 29, 'n_estimators': 61, 'learning_rate': 0.47124117744987537, 'subsample': 0.7259617115531602, 'early_stopping_rounds': 7, 'min_samples_leaf': 37, 'min_samples_split': 6}. Best is trial 85 with value: -0.9407818121010542.\n",
      "[I 2023-12-23 21:19:55,785] Trial 90 finished with value: -0.9366080714668276 and parameters: {'max_depth': 13, 'n_estimators': 58, 'learning_rate': 0.9674510056184763, 'subsample': 0.22909875511298056, 'early_stopping_rounds': 8, 'min_samples_leaf': 43, 'min_samples_split': 11}. Best is trial 85 with value: -0.9407818121010542.\n",
      "[I 2023-12-23 21:19:56,941] Trial 91 finished with value: -0.9363318973877603 and parameters: {'max_depth': 21, 'n_estimators': 70, 'learning_rate': 0.8472621130193473, 'subsample': 0.4657521728443751, 'early_stopping_rounds': 8, 'min_samples_leaf': 41, 'min_samples_split': 27}. Best is trial 85 with value: -0.9407818121010542.\n",
      "[I 2023-12-23 21:19:58,705] Trial 92 finished with value: -0.9303127392078592 and parameters: {'max_depth': 19, 'n_estimators': 66, 'learning_rate': 0.8819262535329915, 'subsample': 0.5437843687310371, 'early_stopping_rounds': 10, 'min_samples_leaf': 8, 'min_samples_split': 19}. Best is trial 85 with value: -0.9407818121010542.\n",
      "[I 2023-12-23 21:19:59,956] Trial 93 finished with value: -0.9375814653668924 and parameters: {'max_depth': 24, 'n_estimators': 63, 'learning_rate': 0.7291263395838362, 'subsample': 0.4931955031013131, 'early_stopping_rounds': 8, 'min_samples_leaf': 39, 'min_samples_split': 24}. Best is trial 85 with value: -0.9407818121010542.\n",
      "[I 2023-12-23 21:20:00,792] Trial 94 finished with value: -0.9380599808593804 and parameters: {'max_depth': 10, 'n_estimators': 21, 'learning_rate': 0.9198551019530244, 'subsample': 0.3854717270712988, 'early_stopping_rounds': 9, 'min_samples_leaf': 44, 'min_samples_split': 22}. Best is trial 85 with value: -0.9407818121010542.\n",
      "[I 2023-12-23 21:20:01,894] Trial 95 finished with value: -0.9375950346135519 and parameters: {'max_depth': 22, 'n_estimators': 47, 'learning_rate': 0.8154893490627964, 'subsample': 0.4515770797694314, 'early_stopping_rounds': 7, 'min_samples_leaf': 37, 'min_samples_split': 9}. Best is trial 85 with value: -0.9407818121010542.\n",
      "[I 2023-12-23 21:20:02,838] Trial 96 finished with value: -0.9361012201945511 and parameters: {'max_depth': 19, 'n_estimators': 53, 'learning_rate': 0.41767333523595274, 'subsample': 0.32501399402140946, 'early_stopping_rounds': 6, 'min_samples_leaf': 47, 'min_samples_split': 36}. Best is trial 85 with value: -0.9407818121010542.\n",
      "[I 2023-12-23 21:20:03,654] Trial 97 finished with value: -0.9338016319812775 and parameters: {'max_depth': 27, 'n_estimators': 56, 'learning_rate': 0.7835464864493383, 'subsample': 0.2626510730860014, 'early_stopping_rounds': 8, 'min_samples_leaf': 35, 'min_samples_split': 14}. Best is trial 85 with value: -0.9407818121010542.\n",
      "[I 2023-12-23 21:20:06,004] Trial 98 finished with value: -0.9346305533139692 and parameters: {'max_depth': 26, 'n_estimators': 67, 'learning_rate': 0.8550769920926047, 'subsample': 0.9345067751055673, 'early_stopping_rounds': 7, 'min_samples_leaf': 42, 'min_samples_split': 13}. Best is trial 85 with value: -0.9407818121010542.\n",
      "[I 2023-12-23 21:20:06,903] Trial 99 finished with value: -0.9366827023234541 and parameters: {'max_depth': 12, 'n_estimators': 76, 'learning_rate': 0.9453761920156065, 'subsample': 0.47942307403010453, 'early_stopping_rounds': 7, 'min_samples_leaf': 33, 'min_samples_split': 27}. Best is trial 85 with value: -0.9407818121010542.\n"
     ]
    }
   ],
   "source": [
    "import optuna\n",
    "from sklearn.metrics import roc_auc_score\n",
    "np.random.seed(1)\n",
    "\n",
    "def objective(trial):\n",
    "\n",
    "    max_depth = trial.suggest_int('max_depth', 2, 30)\n",
    "    n_estimators = trial.suggest_int('n_estimators', 10, 100)\n",
    "    learning_rate = trial.suggest_float('learning_rate', 0.1, 1.0)\n",
    "    subsample = trial.suggest_float('subsample', 0.1, 1)\n",
    "    early_stopping_rounds = trial.suggest_int('early_stopping_rounds', 2, 10)\n",
    "    min_samples_leaf = trial.suggest_int('min_samples_leaf', 1, 50)\n",
    "    min_samples_split = trial.suggest_int('min_samples_split', 2, 50)\n",
    "\n",
    "    boosting_obj = Boosting(base_model_params={'max_depth':max_depth,\n",
    "                                              'min_samples_leaf':min_samples_leaf,\n",
    "                                              'min_samples_split':min_samples_split},\n",
    "                           n_estimators=n_estimators,\n",
    "                           learning_rate=learning_rate,\n",
    "                           subsample=subsample,\n",
    "                           early_stopping_rounds=early_stopping_rounds)\n",
    "\n",
    "    boosting_obj.fit(x_train, y_train, x_valid, y_valid)\n",
    "\n",
    "    error = -boosting_obj.score(x_valid, y_valid) # ROC-AUC берем с -, потому что задача минимизации\n",
    "\n",
    "    return error  # An objective value linked with the Trial object.\n",
    "\n",
    "study = optuna.create_study()  # Create a new study.\n",
    "study.optimize(objective, n_trials=100)  # Invoke optimization of the objective function."
   ]
  },
  {
   "cell_type": "code",
   "execution_count": null,
   "metadata": {
    "id": "h-3Z8-ofyd95",
    "outputId": "15e24520-f014-44d7-d7fa-69230f276507"
   },
   "outputs": [
    {
     "data": {
      "text/plain": [
       "{'max_depth': 21,\n",
       " 'n_estimators': 59,\n",
       " 'learning_rate': 0.8810602421995618,\n",
       " 'subsample': 0.45769525795011173,\n",
       " 'early_stopping_rounds': 8,\n",
       " 'min_samples_leaf': 37,\n",
       " 'min_samples_split': 28}"
      ]
     },
     "execution_count": 296,
     "metadata": {},
     "output_type": "execute_result"
    }
   ],
   "source": [
    "study.best_params"
   ]
  },
  {
   "cell_type": "code",
   "execution_count": null,
   "metadata": {
    "id": "uraqAAtdyd95",
    "outputId": "d54da2c4-014b-492c-bc24-7cf731227c6e"
   },
   "outputs": [
    {
     "data": {
      "text/plain": [
       "-0.9407818121010542"
      ]
     },
     "execution_count": 297,
     "metadata": {},
     "output_type": "execute_result"
    }
   ],
   "source": [
    "study.best_value"
   ]
  },
  {
   "cell_type": "markdown",
   "metadata": {
    "id": "cgWY-p2fyd95",
    "pycharm": {
     "name": "#%% md\n"
    }
   },
   "source": [
    "## Задание 4. Интерпретация бустингового (2 балл)\n",
    "\n",
    "Постройте калибровочную кривую для вашей лучшей модели бустинга. Насколько хорошо бустинг оценивает вероятности? Постройте также калибровочную кривую для логистической регрессии, сравните их между собой. Проанализируйте полученные результаты."
   ]
  },
  {
   "cell_type": "code",
   "execution_count": null,
   "metadata": {
    "id": "29P6Kp8Byd95",
    "pycharm": {
     "name": "#%%\n"
    }
   },
   "outputs": [],
   "source": [
    "# функция взята из 4 домашки\n",
    "\n",
    "def plot_calibration_curve(y_test, preds):\n",
    "    bin_middle_points = []\n",
    "    bin_real_ratios = []\n",
    "    n_bins = 10\n",
    "    for i in range(n_bins):\n",
    "        l = 1.0 / n_bins * i\n",
    "        r = 1.0 / n_bins * (i + 1)\n",
    "        bin_middle_points.append((l + r) / 2)\n",
    "        bin_real_ratios.append(np.mean(y_test[(preds >= l) & (preds < r)] == 1))\n",
    "    plt.figure(figsize=(6,6))\n",
    "    plt.plot(bin_middle_points, bin_real_ratios)\n",
    "    plt.plot(np.arange(0, 1.1, 0.1), np.arange(0, 1.1, 0.1), color='green', linestyle='--')\n",
    "    plt.ylim([-0.05, 1.05])\n",
    "    plt.xlim([-0.05, 1.05])\n",
    "    plt.xlabel('predicted probability')\n",
    "    plt.ylabel('fraction of positives')\n",
    "    plt.legend(['model', 'ideal'])\n",
    "    plt.grid()"
   ]
  },
  {
   "cell_type": "code",
   "execution_count": null,
   "metadata": {
    "id": "dzyBQX9iyd95",
    "outputId": "b18c42d0-3584-4217-d8be-170f177c765e"
   },
   "outputs": [
    {
     "data": {
      "image/png": "[encoded data removed]",
      "text/plain": [
       "<Figure size 432x432 with 1 Axes>"
      ]
     },
     "metadata": {},
     "output_type": "display_data"
    }
   ],
   "source": [
    "np.random.seed(1)\n",
    "\n",
    "boosting_best = Boosting(base_model_params={'max_depth':21,\n",
    "                                              'min_samples_leaf':37,\n",
    "                                              'min_samples_split':28},\n",
    "                           n_estimators=59,\n",
    "                           learning_rate=0.88,\n",
    "                           subsample=0.46,\n",
    "                           early_stopping_rounds=8)\n",
    "\n",
    "boosting_best.fit(x_train, y_train, x_valid, y_valid)\n",
    "\n",
    "pred_probs = boosting_best.predict_proba(x_test)\n",
    "\n",
    "plot_calibration_curve(y_test, pred_probs[:, 1])\n",
    "plt.title('Boosting');"
   ]
  },
  {
   "cell_type": "code",
   "execution_count": null,
   "metadata": {
    "id": "JHAqk-udyd96",
    "outputId": "47f47d02-5f6c-41e8-fce4-6f1a9cbe3686"
   },
   "outputs": [
    {
     "data": {
      "image/png": "[encoded data removed]",
      "text/plain": [
       "<Figure size 432x432 with 1 Axes>"
      ]
     },
     "metadata": {},
     "output_type": "display_data"
    }
   ],
   "source": [
    "from sklearn.linear_model import LogisticRegression\n",
    "\n",
    "LogReg = LogisticRegression()\n",
    "LogReg.fit(x_train, y_train)\n",
    "pred_probs_lr = LogReg.predict_proba(x_test)\n",
    "\n",
    "plot_calibration_curve(y_test, pred_probs_lr[:, 1])\n",
    "plt.title('Logistic Regression');"
   ]
  },
  {
   "cell_type": "markdown",
   "metadata": {
    "id": "neS7YjSNyd96"
   },
   "source": [
    "Логистическая регрессия направлена на предсказания вероятностей, поэтому ее калибровочная кривая ближе к идеальной. Бустинг же не так хорошо приближает вероятности, к тому же его предсказания очень разняться от перезапуска к перезапуску."
   ]
  },
  {
   "cell_type": "markdown",
   "metadata": {
    "id": "lzTOZCtJyd96",
    "pycharm": {
     "name": "#%% md\n"
    }
   },
   "source": [
    "Теперь попробуем оценить важность признаков для бустинга.\n",
    "\n",
    "Поскольку наша базовая модель - это дерево из `sklearn`, мы можем вычислить важность признака отдельно для каждого дерева и усреднить (воспользуйтесь `feature_importances_` у `DecisionTreeRegressor`), после этого нормировать значения, чтобы они суммировались в единицу (обратите внимание, что они должны быть неотрицательными - иначе вы что-то сделали не так).\n",
    "\n",
    "Допишите в вашей реализации бустинга функцию `feature_importances_` чтобы она возвращала описанные выше важности признаков.\n",
    "\n",
    "Нарисуйте столбчатую диаграмму важности признаков. На соседнем графике нарисуйте важность признаков для логистической регрессии, для этого используйте модули весов. Сравните графики. Проанализируйте полученные результаты."
   ]
  },
  {
   "cell_type": "code",
   "execution_count": 5,
   "metadata": {
    "id": "OaRIV4aLyd96",
    "pycharm": {
     "name": "#%%\n"
    }
   },
   "outputs": [],
   "source": [
    "from __future__ import annotations\n",
    "\n",
    "from collections import defaultdict\n",
    "\n",
    "import numpy as np\n",
    "from sklearn.metrics import roc_auc_score\n",
    "from sklearn.tree import DecisionTreeRegressor\n",
    "\n",
    "import pandas as pd\n",
    "\n",
    "\n",
    "def score(clf, x, y):\n",
    "    return roc_auc_score(y == 1, clf.predict_proba(x)[:, 1])\n",
    "\n",
    "class Boosting2:\n",
    "\n",
    "    def __init__(\n",
    "            self,\n",
    "            base_model_params: dict = None,\n",
    "            n_estimators: int = 10,\n",
    "            learning_rate: float = 0.1,\n",
    "            subsample: float = 0.3,\n",
    "            early_stopping_rounds: int = None,\n",
    "            plot: bool = False,\n",
    "    ):\n",
    "        self.base_model_class = DecisionTreeRegressor\n",
    "        self.base_model_params: dict = {} if base_model_params is None else base_model_params\n",
    "\n",
    "        self.n_estimators: int = n_estimators\n",
    "\n",
    "        self.models: list = []\n",
    "        self.gammas: list = []\n",
    "\n",
    "        self.learning_rate: float = learning_rate\n",
    "        self.subsample: float = subsample\n",
    "\n",
    "        self.early_stopping_rounds: int = early_stopping_rounds\n",
    "        if early_stopping_rounds is not None:\n",
    "#             self.validation_loss = np.full(self.early_stopping_rounds, np.inf)\n",
    "            self.validation_loss = []\n",
    "\n",
    "        self.plot: bool = plot\n",
    "\n",
    "        self.history = defaultdict(list)\n",
    "\n",
    "        self.sigmoid = lambda x: 1 / (1 + np.exp(-x))\n",
    "        self.loss_fn = lambda y, z: -np.log(self.sigmoid(y * z)).mean()\n",
    "        self.loss_derivative = lambda y, z: -y * self.sigmoid(-y * z)\n",
    "\n",
    "    def fit_new_base_model(self, x, y, predictions):\n",
    "        # бутстрап выборка:\n",
    "        idx = np.random.randint(x.shape[0], size=int(np.round(self.subsample*x.shape[0])))\n",
    "        x_boot = x[idx,:]\n",
    "\n",
    "        s_i = -self.loss_derivative(y[idx], predictions[idx])\n",
    "\n",
    "        base_model = self.base_model_class(**self.base_model_params)\n",
    "        base_model.fit(x_boot, s_i)\n",
    "\n",
    "        pred = base_model.predict(x)\n",
    "\n",
    "        gamma_optim = self.find_optimal_gamma(y, predictions, pred)\n",
    "\n",
    "        predictions = predictions + self.learning_rate*gamma_optim*pred\n",
    "\n",
    "        self.models.append(base_model)\n",
    "        self.gammas.append(gamma_optim)\n",
    "\n",
    "        return predictions\n",
    "\n",
    "    def fit(self, x_train, y_train, x_valid, y_valid):\n",
    "        \"\"\"\n",
    "        :param x_train: features array (train set)\n",
    "        :param y_train: targets array (train set)\n",
    "        :param x_valid: features array (validation set)\n",
    "        :param y_valid: targets array (validation set)\n",
    "        \"\"\"\n",
    "        train_predictions = np.zeros(y_train.shape[0])\n",
    "        valid_predictions = np.zeros(y_valid.shape[0])\n",
    "\n",
    "        for i in range(self.n_estimators):\n",
    "            train_predictions = self.fit_new_base_model(x_train, y_train, train_predictions)\n",
    "            valid_predictions = valid_predictions + self.learning_rate*self.gammas[-1]*self.models[-1].predict(x_valid)\n",
    "            train_loss = self.loss_fn(y_train, train_predictions)\n",
    "            val_loss = self.loss_fn(y_valid, valid_predictions)\n",
    "\n",
    "            self.history['train'].append(train_loss)\n",
    "            self.history['val'].append(val_loss)\n",
    "\n",
    "            if (self.early_stopping_rounds is not None) & (i > 0):\n",
    "                diff = self.history['val'][i-1] - val_loss\n",
    "                if np.abs(diff) <= 0.005:\n",
    "                    self.validation_loss.append(val_loss)\n",
    "                    if len(self.validation_loss) == self.early_stopping_rounds:\n",
    "                        break\n",
    "                    else:\n",
    "                        continue\n",
    "                else:\n",
    "                    if len(self.validation_loss) == 0:\n",
    "                        continue\n",
    "                    else:\n",
    "                        self.validation_loss = []\n",
    "\n",
    "        if self.plot:\n",
    "            plt.figure(figsize=(12, 7))\n",
    "            length = len(self.history['train'])\n",
    "            sns.lineplot(x=np.arange(1, length+1), y=self.history['train'])\n",
    "            sns.lineplot(x=np.arange(1, length+1), y=self.history['val'])\n",
    "            plt.legend(['train', 'validation'])\n",
    "\n",
    "\n",
    "    def predict_proba(self, x):\n",
    "        y_pred = np.zeros(x.shape[0])\n",
    "\n",
    "        for gamma, model in zip(self.gammas, self.models):\n",
    "            y_pred += self.learning_rate*gamma*model.predict(x)\n",
    "\n",
    "        y_prob = self.sigmoid(y_pred)\n",
    "\n",
    "        return np.transpose(np.array([1-y_prob, y_prob]))\n",
    "\n",
    "    def find_optimal_gamma(self, y, old_predictions, new_predictions) -> float:\n",
    "        gammas = np.linspace(start=0, stop=1, num=100)\n",
    "        losses = [self.loss_fn(y, old_predictions + gamma * new_predictions) for gamma in gammas]\n",
    "\n",
    "        return gammas[np.argmin(losses)]\n",
    "\n",
    "    def score(self, x, y):\n",
    "        return score(self, x, y)\n",
    "\n",
    "    @property\n",
    "    def feature_importances_(self):\n",
    "        importances = []\n",
    "\n",
    "        for model in self.models:\n",
    "            importances.append(model.feature_importances_)\n",
    "\n",
    "        importances = np.mean(importances, axis=0)\n",
    "        importances = pd.Series(importances)\n",
    "        importances = (importances - importances.min())/(importances.max() - importances.min())\n",
    "        importances = importances/importances.sum()\n",
    "        importances = importances.sort_values(ascending=False)\n",
    "        return importances"
   ]
  },
  {
   "cell_type": "code",
   "execution_count": null,
   "metadata": {
    "id": "f7D6FA57yd97",
    "outputId": "987c2821-e173-4739-aa26-2fc445a6efb4"
   },
   "outputs": [
    {
     "name": "stdout",
     "output_type": "stream",
     "text": [
      "Test ROC-AUC 0.9334\n"
     ]
    }
   ],
   "source": [
    "np.random.seed(1)\n",
    "\n",
    "m = Boosting2(base_model_params={'max_depth':21,\n",
    "                                              'min_samples_leaf':37,\n",
    "                                              'min_samples_split':28},\n",
    "                           n_estimators=59,\n",
    "                           learning_rate=0.88,\n",
    "                           subsample=0.46,\n",
    "                           early_stopping_rounds=8)\n",
    "m.fit(x_train, y_train, x_valid, y_valid)\n",
    "importances = m.feature_importances_\n",
    "print(f'Test ROC-AUC {m.score(x_test, y_test):.4f}')"
   ]
  },
  {
   "cell_type": "code",
   "execution_count": null,
   "metadata": {
    "id": "3O7qPU8qyd97",
    "outputId": "5d09aa1d-1021-488b-c122-36dff7de1da7"
   },
   "outputs": [
    {
     "data": {
      "text/plain": [
       "166    0.533951\n",
       "164    0.199297\n",
       "165    0.036101\n",
       "168    0.031187\n",
       "36     0.024902\n",
       "         ...   \n",
       "69     0.000000\n",
       "70     0.000000\n",
       "71     0.000000\n",
       "72     0.000000\n",
       "84     0.000000\n",
       "Length: 169, dtype: float64"
      ]
     },
     "execution_count": 487,
     "metadata": {},
     "output_type": "execute_result"
    }
   ],
   "source": [
    "importances"
   ]
  },
  {
   "cell_type": "code",
   "execution_count": null,
   "metadata": {
    "id": "15pwV5pSyd97",
    "outputId": "da424be2-4ebf-4e8a-b2a3-ac73da5d9804"
   },
   "outputs": [
    {
     "data": {
      "image/png": "[encoded data removed]",
      "text/plain": [
       "<Figure size 864x504 with 1 Axes>"
      ]
     },
     "metadata": {},
     "output_type": "display_data"
    }
   ],
   "source": [
    "plt.figure(figsize=(12, 7))\n",
    "sns.barplot(x=importances.index, y=importances.values)\n",
    "plt.xlabel('feature')\n",
    "plt.ylabel('importance');"
   ]
  },
  {
   "cell_type": "markdown",
   "metadata": {
    "id": "rvqiPdy-yd97",
    "pycharm": {
     "name": "#%% md\n"
    }
   },
   "source": [
    "Кстати, чаще всего излишние признаки могут вредить качеству бустинга. Попробуйте отфильтровать на основании диаграммы хвост наименее важных признаков и снова обучить модель (с теми же гиперпараметрами). Стало ли лучше?"
   ]
  },
  {
   "cell_type": "code",
   "execution_count": null,
   "metadata": {
    "id": "l37vtpiNyd97",
    "pycharm": {
     "name": "#%%\n"
    }
   },
   "outputs": [],
   "source": [
    "top = importances[importances != 0]"
   ]
  },
  {
   "cell_type": "code",
   "execution_count": null,
   "metadata": {
    "id": "Sh6IvC8Cyd97",
    "outputId": "4cf91d9b-f4e5-4d85-a638-ca476e0e473a"
   },
   "outputs": [
    {
     "data": {
      "text/plain": [
       "Int64Index([166, 164, 165, 168,  36, 158, 161,   1, 162,  20, 163, 155, 157,\n",
       "            142,  27,  10, 167,  24,   2, 160, 154, 149, 156,  25, 139, 138,\n",
       "             15,   3, 148,   9,  57,  30,  19, 159, 116, 135, 151, 150, 143,\n",
       "             62,   5, 121, 136, 141, 137,  12, 130, 153, 128,  23, 147, 114,\n",
       "             31, 152, 129,  21],\n",
       "           dtype='int64')"
      ]
     },
     "execution_count": 510,
     "metadata": {},
     "output_type": "execute_result"
    }
   ],
   "source": [
    "top_idx = top.index\n",
    "top_idx"
   ]
  },
  {
   "cell_type": "code",
   "execution_count": null,
   "metadata": {
    "id": "So2Zku4Ryd97",
    "outputId": "91342591-2855-46c7-d50a-8290a153d333"
   },
   "outputs": [
    {
     "name": "stdout",
     "output_type": "stream",
     "text": [
      "Test ROC-AUC 0.9337\n"
     ]
    }
   ],
   "source": [
    "np.random.seed(1)\n",
    "\n",
    "m_top30 = Boosting2(base_model_params={'max_depth':21,\n",
    "                                              'min_samples_leaf':37,\n",
    "                                              'min_samples_split':28},\n",
    "                           n_estimators=59,\n",
    "                           learning_rate=0.88,\n",
    "                           subsample=0.46,\n",
    "                           early_stopping_rounds=8)\n",
    "m_top30.fit(x_train[:, top_idx], y_train, x_valid[:, top_idx], y_valid)\n",
    "print(f'Test ROC-AUC {m_top30.score(x_test[:, top_idx], y_test):.4f}')"
   ]
  },
  {
   "cell_type": "markdown",
   "metadata": {
    "id": "hjhM1QDyyd98"
   },
   "source": [
    "Качество самую малость выросло, но результат может меняться, если перезапускать."
   ]
  },
  {
   "cell_type": "markdown",
   "metadata": {
    "id": "qPtGFY_Oyd98",
    "pycharm": {
     "name": "#%% md\n"
    }
   },
   "source": [
    "## Задание 5 (бонус). Блендинговое (1 балл)\n",
    "\n",
    "Реализуйте блендинг над вашей лучшей моделью и логистической регрессией. Улучшилось ли качество?"
   ]
  },
  {
   "cell_type": "code",
   "execution_count": 14,
   "metadata": {
    "id": "i-um5i8syd98"
   },
   "outputs": [],
   "source": [
    "def score(clf, x, y):\n",
    "    return roc_auc_score(y == 1, clf.predict_proba(x)[:, 1])\n",
    "\n",
    "class Boosting3:\n",
    "\n",
    "    def __init__(\n",
    "            self,\n",
    "            base_model_params: dict = None,\n",
    "            n_estimators: int = 10,\n",
    "            learning_rate: float = 0.1,\n",
    "            subsample: float = 0.3,\n",
    "            early_stopping_rounds: int = None,\n",
    "            plot: bool = False,\n",
    "    ):\n",
    "        self.base_model_class = DecisionTreeRegressor\n",
    "        self.base_model_params: dict = {} if base_model_params is None else base_model_params\n",
    "\n",
    "        self.n_estimators: int = n_estimators\n",
    "\n",
    "        self.models: list = []\n",
    "        self.gammas: list = []\n",
    "\n",
    "        self.learning_rate: float = learning_rate\n",
    "        self.subsample: float = subsample\n",
    "\n",
    "        self.early_stopping_rounds: int = early_stopping_rounds\n",
    "        if early_stopping_rounds is not None:\n",
    "#             self.validation_loss = np.full(self.early_stopping_rounds, np.inf)\n",
    "            self.validation_loss = []\n",
    "\n",
    "        self.plot: bool = plot\n",
    "\n",
    "        self.history = defaultdict(list)\n",
    "\n",
    "        self.sigmoid = lambda x: 1 / (1 + np.exp(-x))\n",
    "        self.loss_fn = lambda y, z: -np.log(self.sigmoid(y * z)).mean()\n",
    "        self.loss_derivative = lambda y, z: -y * self.sigmoid(-y * z)\n",
    "\n",
    "    def fit_new_base_model(self, x, y, predictions):\n",
    "        # бутстрап выборка:\n",
    "        idx = np.random.randint(x.shape[0], size=int(np.round(self.subsample*x.shape[0])))\n",
    "        x_boot = x[idx,:]\n",
    "\n",
    "        s_i = -self.loss_derivative(y[idx], predictions[idx])\n",
    "\n",
    "        base_model = self.base_model_class(**self.base_model_params)\n",
    "        base_model.fit(x_boot, s_i)\n",
    "\n",
    "        pred = base_model.predict(x)\n",
    "\n",
    "        gamma_optim = self.find_optimal_gamma(y, predictions, pred)\n",
    "\n",
    "        predictions = predictions + self.learning_rate*gamma_optim*pred\n",
    "\n",
    "        self.models.append(base_model)\n",
    "        self.gammas.append(gamma_optim)\n",
    "\n",
    "        return predictions\n",
    "\n",
    "    def fit(self, x_train, y_train, x_valid, y_valid):\n",
    "        \"\"\"\n",
    "        :param x_train: features array (train set)\n",
    "        :param y_train: targets array (train set)\n",
    "        :param x_valid: features array (validation set)\n",
    "        :param y_valid: targets array (validation set)\n",
    "        \"\"\"\n",
    "        train_predictions = np.zeros(y_train.shape[0])\n",
    "        valid_predictions = np.zeros(y_valid.shape[0])\n",
    "\n",
    "        for i in range(self.n_estimators):\n",
    "            train_predictions = self.fit_new_base_model(x_train, y_train, train_predictions)\n",
    "            valid_predictions = valid_predictions + self.learning_rate*self.gammas[-1]*self.models[-1].predict(x_valid)\n",
    "            train_loss = self.loss_fn(y_train, train_predictions)\n",
    "            val_loss = self.loss_fn(y_valid, valid_predictions)\n",
    "\n",
    "            self.history['train'].append(train_loss)\n",
    "            self.history['val'].append(val_loss)\n",
    "\n",
    "            if (self.early_stopping_rounds is not None) & (i > 0):\n",
    "                diff = self.history['val'][i-1] - val_loss\n",
    "                if np.abs(diff) <= 0.005:\n",
    "                    self.validation_loss.append(val_loss)\n",
    "                    if len(self.validation_loss) == self.early_stopping_rounds:\n",
    "                        break\n",
    "                    else:\n",
    "                        continue\n",
    "                else:\n",
    "                    if len(self.validation_loss) == 0:\n",
    "                        continue\n",
    "                    else:\n",
    "                        self.validation_loss = []\n",
    "\n",
    "        if self.plot:\n",
    "            plt.figure(figsize=(12, 7))\n",
    "            length = len(self.history['train'])\n",
    "            sns.lineplot(x=np.arange(1, length+1), y=self.history['train'])\n",
    "            sns.lineplot(x=np.arange(1, length+1), y=self.history['val'])\n",
    "            plt.legend(['train', 'validation'])\n",
    "\n",
    "\n",
    "    def predict_proba(self, x):\n",
    "        y_pred = np.zeros(x.shape[0])\n",
    "\n",
    "        for gamma, model in zip(self.gammas, self.models):\n",
    "            y_pred += self.learning_rate*gamma*model.predict(x)\n",
    "\n",
    "        y_prob = self.sigmoid(y_pred)\n",
    "\n",
    "        return np.transpose(np.array([1-y_prob, y_prob]))\n",
    "\n",
    "    def predict(self, x):\n",
    "        y_pred = np.zeros(x.shape[0])\n",
    "\n",
    "        for gamma, model in zip(self.gammas, self.models):\n",
    "            y_pred += self.learning_rate*gamma*model.predict(x)\n",
    "\n",
    "        return y_pred\n",
    "\n",
    "    def find_optimal_gamma(self, y, old_predictions, new_predictions) -> float:\n",
    "        gammas = np.linspace(start=0, stop=1, num=100)\n",
    "        losses = [self.loss_fn(y, old_predictions + gamma * new_predictions) for gamma in gammas]\n",
    "\n",
    "        return gammas[np.argmin(losses)]\n",
    "\n",
    "    def score(self, x, y):\n",
    "        return score(self, x, y)\n",
    "\n",
    "    def get_params(self, *args, **kwargs): # добавим это, чтобы StackingClassifier работал\n",
    "        return {}\n",
    "\n",
    "    @property\n",
    "    def feature_importances_(self):\n",
    "        importances = []\n",
    "\n",
    "        for model in self.models:\n",
    "            importances.append(model.feature_importances_)\n",
    "\n",
    "        importances = np.mean(importances, axis=0)\n",
    "        importances = pd.Series(importances)\n",
    "        importances = (importances - importances.min())/(importances.max() - importances.min())\n",
    "        importances = importances/importances.sum()\n",
    "        importances = importances.sort_values(ascending=False)\n",
    "        return importances"
   ]
  },
  {
   "cell_type": "code",
   "execution_count": 19,
   "metadata": {
    "id": "UPRZflv-yd-U"
   },
   "outputs": [],
   "source": [
    "# основа взята из https://machinelearningmastery.com/blending-ensemble-machine-learning-with-python/\n",
    "\n",
    "def get_models():\n",
    "    models = list()\n",
    "    models.append(('boosting', Boosting3(base_model_params={'max_depth':21,\n",
    "                                              'min_samples_leaf':37,\n",
    "                                              'min_samples_split':28},\n",
    "                           n_estimators=59,\n",
    "                           learning_rate=0.88,\n",
    "                           subsample=0.46,\n",
    "                           early_stopping_rounds=8)))\n",
    "    return models\n",
    "\n",
    "# fit the blending ensemble\n",
    "def fit_ensemble(models, X_train, X_val, y_train, y_val):\n",
    " # fit all models on the training set and predict on hold out set\n",
    "    meta_X = list()\n",
    "    for name, model in models:\n",
    " # fit in training set\n",
    "        model.fit(X_train, y_train, X_val, y_val)\n",
    " # predict on hold out set\n",
    "        yhat = model.predict(X_val)\n",
    " # reshape predictions into a matrix with one column\n",
    "        yhat = yhat.reshape(len(yhat), 1)\n",
    " # store predictions as input for blending\n",
    "        meta_X.append(yhat)\n",
    " # create 2d array from predictions, each set is an input feature\n",
    "        meta_X = np.hstack(meta_X)\n",
    " # define blending model\n",
    "    blender = LogisticRegression()\n",
    " # fit on predictions from base models\n",
    "    blender.fit(meta_X, y_val)\n",
    "    return blender\n",
    "\n",
    "# make a prediction with the blending ensemble\n",
    "def predict_ensemble(models, blender, X_test):\n",
    " # make predictions with base models\n",
    "    meta_X = list()\n",
    "    for name, model in models:\n",
    " # predict with base model\n",
    "        yhat = model.predict(X_test)\n",
    " # reshape predictions into a matrix with one column\n",
    "        yhat = yhat.reshape(len(yhat), 1)\n",
    " # store prediction\n",
    "        meta_X.append(yhat)\n",
    " # create 2d array from predictions, each set is an input feature\n",
    "        meta_X = np.hstack(meta_X)\n",
    " # predict proba\n",
    "    return blender.predict_proba(meta_X)"
   ]
  },
  {
   "cell_type": "code",
   "execution_count": 25,
   "metadata": {
    "id": "vmp3LwtOyd-U"
   },
   "outputs": [],
   "source": [
    "np.random.seed(1)\n",
    "\n",
    "models = get_models()\n",
    "blender = fit_ensemble(models, x_train, x_valid, y_train, y_valid)\n",
    "yhat = predict_ensemble(models, blender, x_test)"
   ]
  },
  {
   "cell_type": "code",
   "execution_count": 26,
   "metadata": {
    "id": "BFGc0eYNyd-U",
    "outputId": "ee4cc772-2db0-417a-9dd1-e9f9f4fa02ee"
   },
   "outputs": [
    {
     "name": "stdout",
     "output_type": "stream",
     "text": [
      "Test ROC-AUC: 0.9333825888843579\n"
     ]
    }
   ],
   "source": [
    "from sklearn.metrics import roc_auc_score\n",
    "\n",
    "score_blending = roc_auc_score(y_test == 1, yhat[:, 1])\n",
    "\n",
    "print(f'Test ROC-AUC: {score_blending}')"
   ]
  },
  {
   "cell_type": "markdown",
   "metadata": {
    "id": "TDMlFkFUyd-U"
   },
   "source": [
    "Качество примерно такое же."
   ]
  },
  {
   "cell_type": "markdown",
   "metadata": {
    "id": "YrouJDmDyd-U",
    "pycharm": {
     "name": "#%% md\n"
    }
   },
   "source": [
    "## Задание 6 (бонус). Катбустовое (1 балл)\n",
    "\n",
    "Запустите [CatBoost](https://catboost.ai/en/docs/concepts/python-quickstart) на наших данных, сравните с вашей реализацией. Где получилось лучше?"
   ]
  },
  {
   "cell_type": "code",
   "execution_count": 7,
   "metadata": {
    "colab": {
     "base_uri": "https://localhost:8080/"
    },
    "id": "znKlHoERyd-U",
    "outputId": "ab15f819-8b1d-452b-9f91-7cbdfbc74082"
   },
   "outputs": [
    {
     "name": "stdout",
     "output_type": "stream",
     "text": [
      "Collecting catboost\n",
      "  Downloading catboost-1.2.2-cp310-cp310-manylinux2014_x86_64.whl (98.7 MB)\n",
      "\u001b[2K     \u001b[90m━━━━━━━━━━━━━━━━━━━━━━━━━━━━━━━━━━━━━━━━\u001b[0m \u001b[32m98.7/98.7 MB\u001b[0m \u001b[31m1.9 MB/s\u001b[0m eta \u001b[36m0:00:00\u001b[0m\n",
      "\u001b[?25hRequirement already satisfied: graphviz in /usr/local/lib/python3.10/dist-packages (from catboost) (0.20.1)\n",
      "Requirement already satisfied: matplotlib in /usr/local/lib/python3.10/dist-packages (from catboost) (3.7.1)\n",
      "Requirement already satisfied: numpy>=1.16.0 in /usr/local/lib/python3.10/dist-packages (from catboost) (1.23.5)\n",
      "Requirement already satisfied: pandas>=0.24 in /usr/local/lib/python3.10/dist-packages (from catboost) (1.5.3)\n",
      "Requirement already satisfied: scipy in /usr/local/lib/python3.10/dist-packages (from catboost) (1.11.4)\n",
      "Requirement already satisfied: plotly in /usr/local/lib/python3.10/dist-packages (from catboost) (5.15.0)\n",
      "Requirement already satisfied: six in /usr/local/lib/python3.10/dist-packages (from catboost) (1.16.0)\n",
      "Requirement already satisfied: python-dateutil>=2.8.1 in /usr/local/lib/python3.10/dist-packages (from pandas>=0.24->catboost) (2.8.2)\n",
      "Requirement already satisfied: pytz>=2020.1 in /usr/local/lib/python3.10/dist-packages (from pandas>=0.24->catboost) (2023.3.post1)\n",
      "Requirement already satisfied: contourpy>=1.0.1 in /usr/local/lib/python3.10/dist-packages (from matplotlib->catboost) (1.2.0)\n",
      "Requirement already satisfied: cycler>=0.10 in /usr/local/lib/python3.10/dist-packages (from matplotlib->catboost) (0.12.1)\n",
      "Requirement already satisfied: fonttools>=4.22.0 in /usr/local/lib/python3.10/dist-packages (from matplotlib->catboost) (4.46.0)\n",
      "Requirement already satisfied: kiwisolver>=1.0.1 in /usr/local/lib/python3.10/dist-packages (from matplotlib->catboost) (1.4.5)\n",
      "Requirement already satisfied: packaging>=20.0 in /usr/local/lib/python3.10/dist-packages (from matplotlib->catboost) (23.2)\n",
      "Requirement already satisfied: pillow>=6.2.0 in /usr/local/lib/python3.10/dist-packages (from matplotlib->catboost) (9.4.0)\n",
      "Requirement already satisfied: pyparsing>=2.3.1 in /usr/local/lib/python3.10/dist-packages (from matplotlib->catboost) (3.1.1)\n",
      "Requirement already satisfied: tenacity>=6.2.0 in /usr/local/lib/python3.10/dist-packages (from plotly->catboost) (8.2.3)\n",
      "Installing collected packages: catboost\n",
      "Successfully installed catboost-1.2.2\n"
     ]
    }
   ],
   "source": [
    "pip install catboost"
   ]
  },
  {
   "cell_type": "code",
   "execution_count": 8,
   "metadata": {
    "colab": {
     "base_uri": "https://localhost:8080/"
    },
    "id": "AOyEZc_2yd-U",
    "outputId": "2caae523-1d0a-4c6a-bc00-f860bbf074f6",
    "pycharm": {
     "name": "#%%\n"
    }
   },
   "outputs": [
    {
     "name": "stdout",
     "output_type": "stream",
     "text": [
      "0:\tlearn: 0.3802937\ttotal: 51.4ms\tremaining: 51.4ms\n",
      "1:\tlearn: 0.3460453\ttotal: 55.8ms\tremaining: 0us\n"
     ]
    }
   ],
   "source": [
    "import numpy as np\n",
    "\n",
    "from catboost import CatBoostClassifier, Pool\n",
    "\n",
    "CatBoost = CatBoostClassifier(iterations=2,\n",
    "                           depth=2,\n",
    "                           learning_rate=1,\n",
    "                           loss_function='Logloss',\n",
    "                           verbose=True)\n",
    "\n",
    "CatBoost.fit(x_train, y_train)\n",
    "\n",
    "preds_proba = CatBoost.predict_proba(x_test)"
   ]
  },
  {
   "cell_type": "code",
   "execution_count": 10,
   "metadata": {
    "colab": {
     "base_uri": "https://localhost:8080/"
    },
    "id": "eMKGrd2Ty9_9",
    "outputId": "ac53c06c-3dd3-478e-ee78-0e3b1b924dd0"
   },
   "outputs": [
    {
     "name": "stdout",
     "output_type": "stream",
     "text": [
      "Test ROC-AUC CatBoost: 0.8939366862796655\n"
     ]
    }
   ],
   "source": [
    "catboostscore = roc_auc_score(y_test == 1, preds_proba[:, 1])\n",
    "print(f'Test ROC-AUC CatBoost: {catboostscore}')"
   ]
  },
  {
   "cell_type": "markdown",
   "metadata": {
    "id": "VawoBrogzLaT"
   },
   "source": [
    "Наша модель лучше!"
   ]
  }
 ],
 "metadata": {
  "colab": {
   "provenance": []
  },
  "kernelspec": {
   "display_name": "Python 3 (ipykernel)",
   "language": "python",
   "name": "python3"
  },
  "language_info": {
   "codemirror_mode": {
    "name": "ipython",
    "version": 3
   },
   "file_extension": ".py",
   "mimetype": "text/x-python",
   "name": "python",
   "nbconvert_exporter": "python",
   "pygments_lexer": "ipython3",
   "version": "3.9.7"
  },
  "nbTranslate": {
   "displayLangs": [
    "*"
   ],
   "hotkey": "alt-t",
   "langInMainMenu": true,
   "sourceLang": "en",
   "targetLang": "fr",
   "useGoogleTranslate": true
  },
  "toc": {
   "base_numbering": 1,
   "nav_menu": {
    "height": "210px",
    "width": "492px"
   },
   "number_sections": false,
   "sideBar": true,
   "skip_h1_title": false,
   "title_cell": "Table of Contents",
   "title_sidebar": "Contents",
   "toc_cell": false,
   "toc_position": {},
   "toc_section_display": true,
   "toc_window_display": true
  },
  "varInspector": {
   "cols": {
    "lenName": 16,
    "lenType": 16,
    "lenVar": 40
   },
   "kernels_config": {
    "python": {
     "delete_cmd_postfix": "",
     "delete_cmd_prefix": "del ",
     "library": "var_list.py",
     "varRefreshCmd": "print(var_dic_list())"
    },
    "r": {
     "delete_cmd_postfix": ") ",
     "delete_cmd_prefix": "rm(",
     "library": "var_list.r",
     "varRefreshCmd": "cat(var_dic_list()) "
    }
   },
   "types_to_exclude": [
    "module",
    "function",
    "builtin_function_or_method",
    "instance",
    "_Feature"
   ],
   "window_display": false
  }
 },
 "nbformat": 4,
 "nbformat_minor": 1
}
