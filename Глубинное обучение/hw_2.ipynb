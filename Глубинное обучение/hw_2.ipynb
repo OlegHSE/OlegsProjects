{
 "cells": [
  {
   "cell_type": "markdown",
   "metadata": {
    "cell_id": 1,
    "id": "kr9vAeEQlRVG"
   },
   "source": [
    "# Домашнее задание 2. Классификация изображений."
   ]
  },
  {
   "cell_type": "markdown",
   "metadata": {
    "cell_id": 3,
    "id": "BxX49gLclRVJ"
   },
   "source": [
    "В этом задании потребуется обучить классификатор изображений. Будем работать с датасетом, название которого раскрывать не будем. Можете посмотреть самостоятельно на картинки, которые в есть датасете. В нём 200 классов и около 5 тысяч картинок на каждый класс. Классы пронумерованы, как нетрудно догадаться, от 0 до 199. Скачать датасет можно вот [тут](https://yadi.sk/d/BNR41Vu3y0c7qA).\n",
    "\n",
    "Структура датасета простая -- есть директории train/ и val/, в которых лежат обучающие и валидационные данные. В train/ и val/ лежат директориии, соответствующие классам изображений, в которых лежат, собственно, сами изображения.\n",
    " \n",
    "__Задание__. Необходимо выполнить два задания\n",
    "\n",
    "1) Добейтесь accuracy **на валидации не менее 0.44**. В этом задании **запрещено** пользоваться предобученными моделями и ресайзом картинок. 5 баллов\n",
    "\n",
    "2) Добейтесь accuracy **на валидации не менее 0.84**. В этом задании делать ресайз и использовать претрейн можно. 5 баллов\n",
    "\n",
    "Напишите краткий отчёт о проделанных экспериментах. Что сработало и что не сработало? Почему вы решили, сделать так, а не иначе? Обязательно указывайте ссылки на чужой код, если вы его используете. Обязательно ссылайтесь на статьи / блогпосты / вопросы на stackoverflow / видосы от ютуберов-машинлернеров / курсы / подсказки от Дяди Васи и прочие дополнительные материалы, если вы их используете. \n",
    "\n",
    "Ваш код обязательно должен проходить все `assert`'ы ниже.\n",
    "\n",
    "__Использовать внешние данные для обучения строго запрещено в обоих заданиях. Также запрещено обучаться на валидационной выборке__.\n",
    "\n",
    "\n",
    "__Критерии оценки__: Оценка вычисляется по простой формуле: `min(10, 10 * Ваша accuracy / 0.44)` для первого задания и `min(10, 10 * (Ваша accuracy - 0.5) / 0.34)` для второго. Оценка округляется до десятых по арифметическим правилам.\n",
    "\n",
    "\n",
    "__Советы и указания__:\n",
    " - Наверняка вам потребуется много гуглить о классификации и о том, как заставить её работать. Это нормально, все гуглят. Но не забывайте, что нужно быть готовым за скатанный код отвечать :)\n",
    " - Используйте аугментации. Для этого пользуйтесь модулем `torchvision.transforms` или библиотекой [albumentations](https://github.com/albumentations-team/albumentations)\n",
    " - Можно обучать с нуля или файнтюнить (в зависимости от задания) модели из `torchvision`.\n",
    " - Рекомендуем написать вам сначала класс-датасет (или воспользоваться классом `ImageFolder`), который возвращает картинки и соответствующие им классы, а затем функции для трейна по шаблонам ниже. Однако делать это мы не заставляем. Если вам так неудобно, то можете писать код в удобном стиле. Однако учтите, что чрезмерное изменение нижеперечисленных шаблонов увеличит количество вопросов к вашему коду и повысит вероятность вызова на защиту :)\n",
    " - Валидируйте. Трекайте ошибки как можно раньше, чтобы не тратить время впустую.\n",
    " - Чтобы быстро отладить код, пробуйте обучаться на маленькой части датасета (скажем, 5-10 картинок просто чтобы убедиться что код запускается). Когда вы поняли, что смогли всё отдебажить, переходите обучению по всему датасету\n",
    " - На каждый запуск делайте ровно одно изменение в модели/аугментации/оптимайзере, чтобы понять, что и как влияет на результат.\n",
    " - Фиксируйте random seed.\n",
    " - Начинайте с простых моделей и постепенно переходите к сложным. Обучение лёгких моделей экономит много времени.\n",
    " - Ставьте расписание на learning rate. Уменьшайте его, когда лосс на валидации перестаёт убывать.\n",
    " - Советуем использовать GPU. Если у вас его нет, используйте google colab. Если вам неудобно его использовать на постоянной основе, напишите и отладьте весь код локально на CPU, а затем запустите уже написанный ноутбук в колабе. Авторское решение задания достигает требуемой точности в колабе за 15 минут обучения.\n",
    " \n",
    "Good luck & have fun! :)"
   ]
  },
  {
   "cell_type": "code",
   "execution_count": 1,
   "metadata": {
    "id": "BaPSFxIz96tY"
   },
   "outputs": [
    {
     "name": "stdout",
     "output_type": "stream",
     "text": [
      "Requirement already satisfied: wandb in /Users/olegchernikov/opt/anaconda3/lib/python3.9/site-packages (0.15.12)\n",
      "Requirement already satisfied: psutil>=5.0.0 in /Users/olegchernikov/opt/anaconda3/lib/python3.9/site-packages (from wandb) (5.8.0)\n",
      "Requirement already satisfied: PyYAML in /Users/olegchernikov/opt/anaconda3/lib/python3.9/site-packages (from wandb) (6.0)\n",
      "Requirement already satisfied: setuptools in /Users/olegchernikov/opt/anaconda3/lib/python3.9/site-packages (from wandb) (58.0.4)\n",
      "Requirement already satisfied: typing-extensions in /Users/olegchernikov/opt/anaconda3/lib/python3.9/site-packages (from wandb) (4.8.0)\n",
      "Requirement already satisfied: setproctitle in /Users/olegchernikov/opt/anaconda3/lib/python3.9/site-packages (from wandb) (1.3.3)\n",
      "Requirement already satisfied: appdirs>=1.4.3 in /Users/olegchernikov/opt/anaconda3/lib/python3.9/site-packages (from wandb) (1.4.4)\n",
      "Requirement already satisfied: docker-pycreds>=0.4.0 in /Users/olegchernikov/opt/anaconda3/lib/python3.9/site-packages (from wandb) (0.4.0)\n",
      "Requirement already satisfied: Click!=8.0.0,>=7.1 in /Users/olegchernikov/opt/anaconda3/lib/python3.9/site-packages (from wandb) (8.0.3)\n",
      "Requirement already satisfied: GitPython!=3.1.29,>=1.0.0 in /Users/olegchernikov/opt/anaconda3/lib/python3.9/site-packages (from wandb) (3.1.37)\n",
      "Requirement already satisfied: pathtools in /Users/olegchernikov/opt/anaconda3/lib/python3.9/site-packages (from wandb) (0.1.2)\n",
      "Requirement already satisfied: sentry-sdk>=1.0.0 in /Users/olegchernikov/opt/anaconda3/lib/python3.9/site-packages (from wandb) (1.32.0)\n",
      "Requirement already satisfied: requests<3,>=2.0.0 in /Users/olegchernikov/opt/anaconda3/lib/python3.9/site-packages (from wandb) (2.26.0)\n",
      "Requirement already satisfied: protobuf!=4.21.0,<5,>=3.19.0 in /Users/olegchernikov/opt/anaconda3/lib/python3.9/site-packages (from wandb) (4.24.4)\n",
      "Requirement already satisfied: six>=1.4.0 in /Users/olegchernikov/opt/anaconda3/lib/python3.9/site-packages (from docker-pycreds>=0.4.0->wandb) (1.16.0)\n",
      "Requirement already satisfied: gitdb<5,>=4.0.1 in /Users/olegchernikov/opt/anaconda3/lib/python3.9/site-packages (from GitPython!=3.1.29,>=1.0.0->wandb) (4.0.10)\n",
      "Requirement already satisfied: smmap<6,>=3.0.1 in /Users/olegchernikov/opt/anaconda3/lib/python3.9/site-packages (from gitdb<5,>=4.0.1->GitPython!=3.1.29,>=1.0.0->wandb) (5.0.1)\n",
      "Requirement already satisfied: urllib3<1.27,>=1.21.1 in /Users/olegchernikov/opt/anaconda3/lib/python3.9/site-packages (from requests<3,>=2.0.0->wandb) (1.26.17)\n",
      "Requirement already satisfied: idna<4,>=2.5 in /Users/olegchernikov/opt/anaconda3/lib/python3.9/site-packages (from requests<3,>=2.0.0->wandb) (3.2)\n",
      "Requirement already satisfied: charset-normalizer~=2.0.0 in /Users/olegchernikov/opt/anaconda3/lib/python3.9/site-packages (from requests<3,>=2.0.0->wandb) (2.0.4)\n",
      "Requirement already satisfied: certifi>=2017.4.17 in /Users/olegchernikov/opt/anaconda3/lib/python3.9/site-packages (from requests<3,>=2.0.0->wandb) (2021.10.8)\n",
      "Requirement already satisfied: pytorch_lightning in /Users/olegchernikov/opt/anaconda3/lib/python3.9/site-packages (2.1.0)\n",
      "Requirement already satisfied: torchmetrics in /Users/olegchernikov/opt/anaconda3/lib/python3.9/site-packages (1.2.0)\n",
      "Requirement already satisfied: torch>=1.12.0 in /Users/olegchernikov/opt/anaconda3/lib/python3.9/site-packages (from pytorch_lightning) (2.1.0)\n",
      "Requirement already satisfied: typing-extensions>=4.0.0 in /Users/olegchernikov/opt/anaconda3/lib/python3.9/site-packages (from pytorch_lightning) (4.8.0)\n",
      "Requirement already satisfied: numpy>=1.17.2 in /Users/olegchernikov/opt/anaconda3/lib/python3.9/site-packages (from pytorch_lightning) (1.23.5)\n",
      "Requirement already satisfied: lightning-utilities>=0.8.0 in /Users/olegchernikov/opt/anaconda3/lib/python3.9/site-packages (from pytorch_lightning) (0.9.0)\n",
      "Requirement already satisfied: PyYAML>=5.4 in /Users/olegchernikov/opt/anaconda3/lib/python3.9/site-packages (from pytorch_lightning) (6.0)\n",
      "Requirement already satisfied: tqdm>=4.57.0 in /Users/olegchernikov/opt/anaconda3/lib/python3.9/site-packages (from pytorch_lightning) (4.62.3)\n",
      "Requirement already satisfied: fsspec[http]>2021.06.0 in /Users/olegchernikov/opt/anaconda3/lib/python3.9/site-packages (from pytorch_lightning) (2021.8.1)\n",
      "Requirement already satisfied: packaging>=20.0 in /Users/olegchernikov/opt/anaconda3/lib/python3.9/site-packages (from pytorch_lightning) (21.0)\n",
      "Requirement already satisfied: aiohttp in /Users/olegchernikov/opt/anaconda3/lib/python3.9/site-packages (from fsspec[http]>2021.06.0->pytorch_lightning) (3.8.6)\n",
      "Requirement already satisfied: requests in /Users/olegchernikov/opt/anaconda3/lib/python3.9/site-packages (from fsspec[http]>2021.06.0->pytorch_lightning) (2.26.0)\n",
      "Requirement already satisfied: pyparsing>=2.0.2 in /Users/olegchernikov/opt/anaconda3/lib/python3.9/site-packages (from packaging>=20.0->pytorch_lightning) (3.0.4)\n",
      "Requirement already satisfied: jinja2 in /Users/olegchernikov/opt/anaconda3/lib/python3.9/site-packages (from torch>=1.12.0->pytorch_lightning) (2.11.3)\n",
      "Requirement already satisfied: networkx in /Users/olegchernikov/opt/anaconda3/lib/python3.9/site-packages (from torch>=1.12.0->pytorch_lightning) (2.6.3)\n",
      "Requirement already satisfied: sympy in /Users/olegchernikov/opt/anaconda3/lib/python3.9/site-packages (from torch>=1.12.0->pytorch_lightning) (1.9)\n",
      "Requirement already satisfied: filelock in /Users/olegchernikov/opt/anaconda3/lib/python3.9/site-packages (from torch>=1.12.0->pytorch_lightning) (3.3.1)\n",
      "Requirement already satisfied: charset-normalizer<4.0,>=2.0 in /Users/olegchernikov/opt/anaconda3/lib/python3.9/site-packages (from aiohttp->fsspec[http]>2021.06.0->pytorch_lightning) (2.0.4)\n",
      "Requirement already satisfied: aiosignal>=1.1.2 in /Users/olegchernikov/opt/anaconda3/lib/python3.9/site-packages (from aiohttp->fsspec[http]>2021.06.0->pytorch_lightning) (1.3.1)\n",
      "Requirement already satisfied: multidict<7.0,>=4.5 in /Users/olegchernikov/opt/anaconda3/lib/python3.9/site-packages (from aiohttp->fsspec[http]>2021.06.0->pytorch_lightning) (6.0.4)\n",
      "Requirement already satisfied: frozenlist>=1.1.1 in /Users/olegchernikov/opt/anaconda3/lib/python3.9/site-packages (from aiohttp->fsspec[http]>2021.06.0->pytorch_lightning) (1.4.0)\n",
      "Requirement already satisfied: attrs>=17.3.0 in /Users/olegchernikov/opt/anaconda3/lib/python3.9/site-packages (from aiohttp->fsspec[http]>2021.06.0->pytorch_lightning) (21.2.0)\n",
      "Requirement already satisfied: yarl<2.0,>=1.0 in /Users/olegchernikov/opt/anaconda3/lib/python3.9/site-packages (from aiohttp->fsspec[http]>2021.06.0->pytorch_lightning) (1.9.2)\n",
      "Requirement already satisfied: async-timeout<5.0,>=4.0.0a3 in /Users/olegchernikov/opt/anaconda3/lib/python3.9/site-packages (from aiohttp->fsspec[http]>2021.06.0->pytorch_lightning) (4.0.3)\n",
      "Requirement already satisfied: idna>=2.0 in /Users/olegchernikov/opt/anaconda3/lib/python3.9/site-packages (from yarl<2.0,>=1.0->aiohttp->fsspec[http]>2021.06.0->pytorch_lightning) (3.2)\n",
      "Requirement already satisfied: MarkupSafe>=0.23 in /Users/olegchernikov/opt/anaconda3/lib/python3.9/site-packages (from jinja2->torch>=1.12.0->pytorch_lightning) (1.1.1)\n",
      "Requirement already satisfied: certifi>=2017.4.17 in /Users/olegchernikov/opt/anaconda3/lib/python3.9/site-packages (from requests->fsspec[http]>2021.06.0->pytorch_lightning) (2021.10.8)\n",
      "Requirement already satisfied: urllib3<1.27,>=1.21.1 in /Users/olegchernikov/opt/anaconda3/lib/python3.9/site-packages (from requests->fsspec[http]>2021.06.0->pytorch_lightning) (1.26.17)\n",
      "Requirement already satisfied: mpmath>=0.19 in /Users/olegchernikov/opt/anaconda3/lib/python3.9/site-packages (from sympy->torch>=1.12.0->pytorch_lightning) (1.2.1)\n"
     ]
    }
   ],
   "source": [
    "!pip install wandb\n",
    "!pip3 install pytorch_lightning torchmetrics"
   ]
  },
  {
   "cell_type": "markdown",
   "metadata": {},
   "source": [
    "**✨ Внимание ✨**\n",
    "\n",
    "В этом домашнем задании предлагается использовать библиотеку `pytorch_lightning`. Доступ к ее [документации](https://lightning.ai/docs/pytorch/stable/) заблокирован с территории РФ. Вы можете:\n",
    "\n",
    "1. Получить к ней доступ с помощью VPN.\n",
    "\n",
    "2. Собрать документацию самостоятельно. Для этого склонируйте [github-репозиторий](https://github.com/Lightning-AI/lightning/tree/master), запустите в нем терминал (на windows – git bash) и выполните команды:\n",
    "\n",
    "```shell\n",
    "git submodule update --init --recursive\n",
    "make docs\n",
    "```\n",
    "После этого откройте появившийся файл `docs/build/html/index.html`. Для работы команд в вашем окружении должен быть `pip`. Полная инструкция [по ссылке](https://github.com/Lightning-AI/lightning/tree/master/docs).\n",
    "\n",
    "3. Гуглить `<error message> pytorch lightning` или `<how to do this> pytorch lightning`. Stack overflow на территории РФ все еще доступен 😉\n",
    "\n",
    "4. Не пользоваться `pytorch_lightning` и написать цикл обучения модели самостоятельно. Например, по аналогии с функцией `fit` из [семинара 4](https://github.com/hse-ds/iad-deep-learning/blob/master/2023/seminars/04.%20Optim%20%26%20Lightning/04_Optim%26Lightning_solution.ipynb)."
   ]
  },
  {
   "cell_type": "code",
   "execution_count": 1,
   "metadata": {
    "id": "EWT3aFU9XmLJ"
   },
   "outputs": [
    {
     "name": "stderr",
     "output_type": "stream",
     "text": [
      "\u001b[34m\u001b[1mwandb\u001b[0m: Currently logged in as: \u001b[33movchernikov\u001b[0m (\u001b[33moleghse\u001b[0m). Use \u001b[1m`wandb login --relogin`\u001b[0m to force relogin\n"
     ]
    },
    {
     "data": {
      "text/plain": [
       "True"
      ]
     },
     "execution_count": 1,
     "metadata": {},
     "output_type": "execute_result"
    }
   ],
   "source": [
    "# Возможно ниже будет не очень работать WandbLogger с первого разу, перезапустите kernel тетрадки\n",
    "import wandb\n",
    "\n",
    "wandb.login()"
   ]
  },
  {
   "cell_type": "code",
   "execution_count": 2,
   "metadata": {
    "cell_id": 4,
    "id": "LKcSNj4tlRVK"
   },
   "outputs": [],
   "source": [
    "import math\n",
    "import os\n",
    "import random\n",
    "import sys\n",
    "\n",
    "import matplotlib.pyplot as plt\n",
    "import numpy as np\n",
    "import pytorch_lightning as pl\n",
    "import torch\n",
    "\n",
    "import torchvision\n",
    "import torchvision.transforms as transforms\n",
    "from PIL import Image\n",
    "from pytorch_lightning.loggers import WandbLogger\n",
    "from torch import nn\n",
    "from torch.nn import functional as F\n",
    "from torch.utils.data import DataLoader\n",
    "from torchmetrics.functional import accuracy\n",
    "from torchvision.datasets import ImageFolder\n",
    "from tqdm import tqdm\n",
    "\n",
    "# You may add any imports you need"
   ]
  },
  {
   "cell_type": "code",
   "execution_count": 3,
   "metadata": {
    "id": "47YPLjDL-Mtv"
   },
   "outputs": [],
   "source": [
    "def seed_everything(seed):\n",
    "    # Фискирует максимум сидов.\n",
    "    # Это понадобится, чтобы сравнение оптимизаторов было корректным\n",
    "    random.seed(seed)\n",
    "    os.environ[\"PYTHONHASHSEED\"] = str(seed)\n",
    "    np.random.seed(seed)\n",
    "    torch.manual_seed(seed)\n",
    "    torch.cuda.manual_seed(seed)\n",
    "    torch.backends.cudnn.deterministic = True\n",
    "\n",
    "\n",
    "seed_everything(123456)"
   ]
  },
  {
   "cell_type": "code",
   "execution_count": 4,
   "metadata": {
    "id": "gVKdh063AzhH"
   },
   "outputs": [
    {
     "name": "stdout",
     "output_type": "stream",
     "text": [
      "zsh:1: no matches found: https://www.dropbox.com/s/33l8lp62rmvtx40/dataset.zip?dl=1\r\n"
     ]
    }
   ],
   "source": [
    "!wget https://www.dropbox.com/s/33l8lp62rmvtx40/dataset.zip?dl=1 -O dataset.zip && unzip -q dataset.zip"
   ]
  },
  {
   "cell_type": "markdown",
   "metadata": {
    "id": "RytEDW0ylRVN"
   },
   "source": [
    "## Задание 0"
   ]
  },
  {
   "cell_type": "markdown",
   "metadata": {
    "id": "2HZECedTvepi"
   },
   "source": [
    "### Что поможет сделать на 10 из 10 (одно задание - 5 баллов)"
   ]
  },
  {
   "cell_type": "markdown",
   "metadata": {
    "id": "dOioHGEiveso"
   },
   "source": [
    "1. Использовать все возможные методы оптимизации и эксперемнтировать с ними.\n",
    "2. Подбор learning rate. Пример из прошлого семинара как это делать: [Как найти lr](https://pytorch-lightning.readthedocs.io/en/1.4.5/advanced/lr_finder.html)\n",
    "\n",
    "```\n",
    "  trainer = pl.Trainer(accelerator=\"gpu\", max_epochs=2, auto_lr_find=True) \n",
    "\n",
    "  trainer.tune(module, train_dataloader, eval_dataloader)\n",
    "\n",
    "  trainer.fit(module, train_dataloader, eval_dataloader))\n",
    "```\n",
    "\n",
    "\n",
    "\n",
    "3. Аугментация данных. [Документация (полезная)](https://pytorch.org/vision/main/transforms.html), а также [библиотека albumentation](https://towardsdatascience.com/getting-started-with-albumentation-winning-deep-learning-image-augmentation-technique-in-pytorch-47aaba0ee3f8)\n",
    "4. Подбор архитектуры модели. \n",
    "5. Можно написать модель руками свою в YourNet, а можно импортировать не предобученную сетку известной архитектуры из модуля torchvision.models. Один из способов как можно сделать: \n",
    "\n",
    "  * `torchvision.models.resnet18(pretrained=False, num_classes=200).to(device)`\n",
    "  * Документация по возможным моделям и как их можно брать: [Документация (полезная)](https://pytorch.org/vision/stable/models.html)\n",
    "6. Правильно нормализовывать данные при создании, пример [тык, но тут и в целом гайд от и до](https://www.pluralsight.com/guides/image-classification-with-pytorch)\n",
    "7. Model Checkpointing. Сохраняйте свой прогресс (модели), чтобы когда что-то пойдет не так вы сможете начать с этого места или просто воспроизвести свои результаты модели, которые обучали. \n",
    " * Пример как можно с wandb тут: [Сохраняем лучшие модели в wandb](https://docs.wandb.ai/guides/integrations/lightning)\n",
    " * По простому можно так: [Сохраняем модели в pytorch дока](https://pytorch.org/tutorials/beginner/saving_loading_models.html)"
   ]
  },
  {
   "cell_type": "markdown",
   "metadata": {
    "id": "WYePsQgNRB-n"
   },
   "source": [
    "### Подготовка данных"
   ]
  },
  {
   "cell_type": "code",
   "execution_count": 5,
   "metadata": {},
   "outputs": [],
   "source": [
    "# код взят из видео: https://www.youtube.com/watch?v=z3kB3ISIPAg&list=PL3Dh_99BJkCEhE7Ri8W6aijiEqm3ZoGRq&index=4\n",
    "\n",
    "def get_mean_and_std(loader):\n",
    "    mean = 0\n",
    "    var = 0\n",
    "    total_images_count = 0\n",
    "    for images, _ in loader:\n",
    "        image_count_in_a_batch = images.size(0)\n",
    "        images = images.view(image_count_in_a_batch, images.size(1), -1)\n",
    "        mean += images.mean(2).sum(0)\n",
    "        var += images.var(2).sum(0)\n",
    "        total_images_count += image_count_in_a_batch\n",
    "    \n",
    "    mean /= total_images_count\n",
    "    var /= total_images_count\n",
    "    std = torch.sqrt(var)\n",
    "    \n",
    "    return mean, std"
   ]
  },
  {
   "cell_type": "code",
   "execution_count": 6,
   "metadata": {},
   "outputs": [],
   "source": [
    "np.random.seed(123)\n",
    "\n",
    "dummy_train_dataset = ImageFolder('dataset/dataset/train', transform=transforms.Compose([transforms.ToTensor()]))\n",
    "\n",
    "dummy_train_dataloader = DataLoader(dummy_train_dataset, batch_size=32, shuffle=False)\n",
    "\n",
    "mean, std = get_mean_and_std(dummy_train_dataloader)"
   ]
  },
  {
   "cell_type": "code",
   "execution_count": 7,
   "metadata": {},
   "outputs": [
    {
     "data": {
      "text/plain": [
       "(tensor([0.4802, 0.4481, 0.3975]), tensor([0.2382, 0.2342, 0.2356]))"
      ]
     },
     "execution_count": 7,
     "metadata": {},
     "output_type": "execute_result"
    }
   ],
   "source": [
    "mean, std"
   ]
  },
  {
   "cell_type": "code",
   "execution_count": 8,
   "metadata": {
    "cell_id": 5,
    "id": "QEdDQtHdlRVO"
   },
   "outputs": [],
   "source": [
    "np.random.seed(134)\n",
    "\n",
    "train_transform = transforms.Compose(\n",
    "    [\n",
    "#         transforms.ColorJitter(hue=0.05, saturation=0.05),\n",
    "#         transforms.RandomGrayscale(),\n",
    "#         transforms.CenterCrop(size=50),\n",
    "#         transforms.RandomCrop(size=50),\n",
    "        transforms.RandomHorizontalFlip(),\n",
    "        transforms.RandomRotation(20),\n",
    "        transforms.ToTensor(),\n",
    "        transforms.Normalize(mean, std),\n",
    "    ]\n",
    ")\n",
    "val_transform = transforms.Compose(\n",
    "    [\n",
    "        transforms.ToTensor(),\n",
    "        transforms.Normalize(mean, std),\n",
    "    ]\n",
    ")\n",
    "\n",
    "train_dataset = ImageFolder('dataset/dataset/train', transform=train_transform)\n",
    "val_dataset = ImageFolder('dataset/dataset/val', transform=val_transform)\n",
    "\n",
    "# REPLACE ./dataset/dataset WITH THE FOLDER WHERE YOU DOWNLOADED AND UNZIPPED THE DATASET\n",
    "\n",
    "train_dataloader = DataLoader(train_dataset, batch_size=32, shuffle=True, num_workers=3, persistent_workers=True) # YOUR CODE HERE\n",
    "val_dataloader = DataLoader(val_dataset, batch_size=32, shuffle=True, num_workers=3, persistent_workers=True) # YOUR CODE HERE"
   ]
  },
  {
   "cell_type": "code",
   "execution_count": 9,
   "metadata": {},
   "outputs": [],
   "source": [
    "np.random.seed(134)\n",
    "\n",
    "random_train = np.random.choice(list(range(1, len(train_dataset))), 50)\n",
    "random_val = np.random.choice(list(range(1, len(val_dataset))), 50)\n",
    "\n",
    "train_subset = torch.utils.data.Subset(train_dataset, random_train)\n",
    "val_subset = torch.utils.data.Subset(val_dataset, random_val)\n",
    "\n",
    "train_sub_dataloader = DataLoader(train_subset, batch_size=1, shuffle=True)\n",
    "val_sub_dataloader = DataLoader(val_subset, batch_size=1, shuffle=True)"
   ]
  },
  {
   "cell_type": "code",
   "execution_count": 10,
   "metadata": {
    "cell_id": 6,
    "id": "mrg4Yj0VlRVP"
   },
   "outputs": [
    {
     "name": "stdout",
     "output_type": "stream",
     "text": [
      "tests passed\n"
     ]
    }
   ],
   "source": [
    "# Just very simple sanity checks\n",
    "assert isinstance(train_dataset[0], tuple)\n",
    "assert len(train_dataset[0]) == 2\n",
    "assert isinstance(train_dataset[1][1], int)\n",
    "print(\"tests passed\")"
   ]
  },
  {
   "cell_type": "markdown",
   "metadata": {
    "id": "EOuM0EEYj7Ml"
   },
   "source": [
    "### Посмотрим на картиночки"
   ]
  },
  {
   "cell_type": "code",
   "execution_count": 11,
   "metadata": {},
   "outputs": [
    {
     "name": "stderr",
     "output_type": "stream",
     "text": [
      "Clipping input data to the valid range for imshow with RGB data ([0..1] for floats or [0..255] for integers).\n"
     ]
    },
    {
     "data": {
      "image/png": "[encoded data removed]",
      "text/plain": [
       "<Figure size 432x288 with 1 Axes>"
      ]
     },
     "metadata": {
      "needs_background": "light"
     },
     "output_type": "display_data"
    },
    {
     "name": "stderr",
     "output_type": "stream",
     "text": [
      "Clipping input data to the valid range for imshow with RGB data ([0..1] for floats or [0..255] for integers).\n"
     ]
    },
    {
     "data": {
      "image/png": "[encoded data removed]",
      "text/plain": [
       "<Figure size 432x288 with 1 Axes>"
      ]
     },
     "metadata": {
      "needs_background": "light"
     },
     "output_type": "display_data"
    }
   ],
   "source": [
    "for batch in train_dataloader:\n",
    "    images, class_nums = batch\n",
    "    plt.imshow(images[5].permute(1, 2, 0))\n",
    "    plt.show()\n",
    "    plt.imshow(images[19].permute(1, 2, 0))\n",
    "    plt.show()\n",
    "    break"
   ]
  },
  {
   "cell_type": "code",
   "execution_count": 12,
   "metadata": {
    "id": "DeuB0YC3LYRm"
   },
   "outputs": [
    {
     "name": "stderr",
     "output_type": "stream",
     "text": [
      "Clipping input data to the valid range for imshow with RGB data ([0..1] for floats or [0..255] for integers).\n"
     ]
    },
    {
     "data": {
      "image/png": "[encoded data removed]",
      "text/plain": [
       "<Figure size 432x288 with 1 Axes>"
      ]
     },
     "metadata": {
      "needs_background": "light"
     },
     "output_type": "display_data"
    },
    {
     "name": "stderr",
     "output_type": "stream",
     "text": [
      "Clipping input data to the valid range for imshow with RGB data ([0..1] for floats or [0..255] for integers).\n"
     ]
    },
    {
     "data": {
      "image/png": "[encoded data removed]",
      "text/plain": [
       "<Figure size 432x288 with 1 Axes>"
      ]
     },
     "metadata": {
      "needs_background": "light"
     },
     "output_type": "display_data"
    }
   ],
   "source": [
    "for batch in val_dataloader:\n",
    "    images, class_nums = batch\n",
    "    plt.imshow(images[5].permute(1, 2, 0))\n",
    "    plt.show()\n",
    "    plt.imshow(images[19].permute(1, 2, 0))\n",
    "    plt.show()\n",
    "    break"
   ]
  },
  {
   "cell_type": "markdown",
   "metadata": {
    "id": "LCwKB-3nKm1-"
   },
   "source": [
    "## Задание 1. \n",
    "\n",
    "5 баллов\n",
    "Добейтесь accuracy на валидации не менее 0.44. В этом задании запрещено пользоваться предобученными моделями и ресайзом картинок.\n",
    "\n",
    "\n",
    "Для того чтобы выбить скор (считается ниже) на 2.5/5 балла (то есть половину за задание) достаточно соблюдать пару простых жизненных правил:\n",
    "1. Аугментация (без нее сложно очень будет)\n",
    "2. Оптимайзеры можно (и нужно) использовать друг с другом. Однако когда что-то проверяете, то не меняйте несколько параметров сразу - собьете логику экспериментов\n",
    "3. Не используйте полносвязные модели или самые первые сверточные, используйте более современные архитектуры (что на лекциях встречались)\n",
    "4. Посмотреть все ноутбуки прошедших семинаров и слепить из них что-то общее. Семинарских тетрадок хватит сверх"
   ]
  },
  {
   "cell_type": "markdown",
   "metadata": {
    "id": "pWR2l6ymZfRJ"
   },
   "source": [
    "### Модель (или просто импортируйте не предобученную)"
   ]
  },
  {
   "cell_type": "code",
   "execution_count": 13,
   "metadata": {},
   "outputs": [
    {
     "name": "stdout",
     "output_type": "stream",
     "text": [
      "torch.Size([32, 3, 64, 64])\n"
     ]
    }
   ],
   "source": [
    "for batch in train_dataloader:\n",
    "    print(batch[0].shape)\n",
    "    break"
   ]
  },
  {
   "cell_type": "code",
   "execution_count": 14,
   "metadata": {},
   "outputs": [],
   "source": [
    "class YourNet(torch.nn.Module):\n",
    "    def __init__(self):\n",
    "        super().__init__()\n",
    "        \n",
    "        self.batch_norm1 = torch.nn.BatchNorm2d(3)\n",
    "    \n",
    "        self.relu = torch.nn.ReLU()\n",
    "        self.maxpool = torch.nn.MaxPool2d(kernel_size=2)\n",
    "        \n",
    "        self.conv1 = torch.nn.Sequential(\n",
    "#             torch.nn.Conv2d(in_channels=3, out_channels=20, kernel_size=1),\n",
    "            torch.nn.Conv2d(in_channels=3, out_channels=20, padding=1, kernel_size=3),\n",
    "            self.relu,\n",
    "            self.maxpool\n",
    "        )\n",
    "        \n",
    "        self.batch_norm2 = torch.nn.BatchNorm2d(20)\n",
    "        \n",
    "        self.conv2 = torch.nn.Sequential(\n",
    "#             torch.nn.Conv2d(in_channels=20, out_channels=40, kernel_size=1),\n",
    "            torch.nn.Conv2d(in_channels=20, out_channels=40, padding=1, kernel_size=3),\n",
    "            self.relu,\n",
    "            self.maxpool\n",
    "        )\n",
    "        \n",
    "        self.batch_norm3 = torch.nn.BatchNorm2d(40)\n",
    "        \n",
    "        self.conv3 = torch.nn.Sequential(\n",
    "#             torch.nn.Conv2d(in_channels=40, out_channels=80, kernel_size=1),\n",
    "            torch.nn.Conv2d(in_channels=40, out_channels=80, padding=1, kernel_size=3),\n",
    "            self.relu,\n",
    "            self.maxpool\n",
    "        )\n",
    "        \n",
    "        self.batch_norm4 = torch.nn.BatchNorm2d(80)\n",
    "        \n",
    "        self.conv4 = torch.nn.Sequential(\n",
    "#             torch.nn.Conv2d(in_channels=80, out_channels=160, kernel_size=1),\n",
    "            torch.nn.Conv2d(in_channels=80, out_channels=160, padding=1, kernel_size=3),\n",
    "            self.relu,\n",
    "            self.maxpool\n",
    "        )\n",
    "        \n",
    "        self.batch_norm5 = torch.nn.BatchNorm2d(160)\n",
    "        \n",
    "        self.conv5 = torch.nn.Sequential(\n",
    "#             torch.nn.Conv2d(in_channels=160, out_channels=320, kernel_size=1),\n",
    "            torch.nn.Conv2d(in_channels=160, out_channels=320, padding=1, kernel_size=3),\n",
    "            self.relu,\n",
    "            self.maxpool\n",
    "#             torch.nn.MaxPool2d(kernel_size=2, stride=4),\n",
    "        )\n",
    "        \n",
    "        self.linear1 = torch.nn.Linear(in_features=1280, out_features=300)\n",
    "        self.linear2 = torch.nn.Linear(in_features=300, out_features=200)\n",
    "        \n",
    "        self.dropout1 = torch.nn.Dropout(p=0.5)\n",
    "        \n",
    "        self.loss_func = torch.nn.CrossEntropyLoss()\n",
    "        self.preds = torch.Tensor()\n",
    "        self.targets = torch.Tensor()\n",
    "\n",
    "    def _forward(self, x):\n",
    "        x = self.batch_norm1(x)\n",
    "        x = self.conv1(x)\n",
    "        \n",
    "        x = self.batch_norm2(x)\n",
    "        x = self.conv2(x)\n",
    "        \n",
    "        x = self.batch_norm3(x)\n",
    "        x = self.conv3(x)\n",
    "        \n",
    "        x = self.batch_norm4(x)\n",
    "        x = self.conv4(x)\n",
    "        \n",
    "        x = self.batch_norm5(x)\n",
    "        x = self.conv5(x)\n",
    "        \n",
    "        x = x.view(x.size(0), -1)\n",
    "        x = self.relu(self.linear1(x))\n",
    "        x = self.dropout1(x)\n",
    "        return self.linear2(x)\n",
    "\n",
    "    def forward(self, images, target=None):\n",
    "        output = self._forward(images)\n",
    "\n",
    "        if target is not None:\n",
    "            loss = self.loss_func(output, target)\n",
    "            \n",
    "            self.targets = torch.cat((self.targets, target.cpu()), 0)\n",
    "            pred = torch.argmax(output, dim=-1)\n",
    "            self.preds = torch.cat((self.preds, pred.cpu()), 0)\n",
    "            self.accuracy = accuracy(self.preds.long(), self.targets.long(), task='multiclass', num_classes=200)\n",
    "\n",
    "        return loss if target is not None else output\n",
    "\n",
    "    def get_accuracy(self, reset=False):\n",
    "        if reset:\n",
    "            self.targets = torch.Tensor()\n",
    "            self.preds = torch.Tensor()\n",
    "        return self.accuracy"
   ]
  },
  {
   "cell_type": "code",
   "execution_count": 15,
   "metadata": {},
   "outputs": [],
   "source": [
    "class YourNet1(torch.nn.Module):\n",
    "    def __init__(self):\n",
    "        super().__init__()\n",
    "        \n",
    "        self.batchnorm1 = nn.BatchNorm2d(3)\n",
    "    \n",
    "        self.relu = torch.nn.ReLU()\n",
    "        \n",
    "        self.conv1 = torch.nn.Sequential(\n",
    "            torch.nn.Conv2d(in_channels=3, out_channels=16, padding=1, kernel_size=3),\n",
    "            torch.nn.BatchNorm2d(16),\n",
    "            self.relu,\n",
    "            torch.nn.Conv2d(in_channels=16, out_channels=16, padding=1, kernel_size=3),\n",
    "            torch.nn.BatchNorm2d(16),\n",
    "            self.relu,\n",
    "            torch.nn.MaxPool2d(kernel_size=2, stride=2),\n",
    "#             torch.nn.Dropout(p=0.2)\n",
    "        )\n",
    "        \n",
    "        self.conv2 = torch.nn.Sequential(\n",
    "            torch.nn.Conv2d(in_channels=16, out_channels=32, padding=1, kernel_size=3),\n",
    "            torch.nn.BatchNorm2d(32),\n",
    "            self.relu,\n",
    "            torch.nn.Conv2d(in_channels=32, out_channels=32, padding=1, kernel_size=3),\n",
    "            torch.nn.BatchNorm2d(32),\n",
    "            self.relu,\n",
    "            torch.nn.MaxPool2d(kernel_size=2, stride=2),\n",
    "#             torch.nn.Dropout(p=0.2)\n",
    "        )\n",
    "        \n",
    "        self.conv3 = torch.nn.Sequential(\n",
    "            torch.nn.Conv2d(in_channels=32, out_channels=64, padding=1, kernel_size=3),\n",
    "            torch.nn.BatchNorm2d(64),\n",
    "            self.relu,\n",
    "            torch.nn.Conv2d(in_channels=64, out_channels=64, padding=1, kernel_size=3),\n",
    "            torch.nn.BatchNorm2d(64),\n",
    "            self.relu,\n",
    "            torch.nn.MaxPool2d(kernel_size=2, stride=2),\n",
    "#             torch.nn.Dropout(p=0.2)\n",
    "        )\n",
    "\n",
    "        self.linear1 = torch.nn.Linear(in_features=4096, out_features=400)\n",
    "        \n",
    "        self.batchnorm2 = nn.BatchNorm1d(400)\n",
    "        \n",
    "        self.linear2 = torch.nn.Linear(in_features=400, out_features=200)\n",
    "        \n",
    "        self.dropout = torch.nn.Dropout(p=0.5)\n",
    "        \n",
    "        self.loss_func = torch.nn.CrossEntropyLoss()\n",
    "        self.preds = torch.Tensor()\n",
    "        self.targets = torch.Tensor()\n",
    "\n",
    "    def _forward(self, x):\n",
    "        x = self.batchnorm1(x)\n",
    "        \n",
    "        x = self.conv1(x)\n",
    "        \n",
    "        x = self.conv2(x)\n",
    "        \n",
    "        x = self.conv3(x)\n",
    "        \n",
    "        x = x.view(x.size(0), -1)\n",
    "        x = self.linear1(x)\n",
    "        x = self.batchnorm2(x)\n",
    "        x = self.relu(x)\n",
    "        x = self.dropout(x)\n",
    "        return self.linear2(x)\n",
    "\n",
    "    def forward(self, images, target=None):\n",
    "        output = self._forward(images)\n",
    "\n",
    "        if target is not None:\n",
    "            loss = self.loss_func(output, target)\n",
    "            \n",
    "            self.targets = torch.cat((self.targets, target.cpu()), 0)\n",
    "            pred = torch.argmax(output, dim=-1)\n",
    "            self.preds = torch.cat((self.preds, pred.cpu()), 0)\n",
    "            self.accuracy = accuracy(self.preds.long(), self.targets.long(), task='multiclass', num_classes=200)\n",
    "\n",
    "        return loss if target is not None else output\n",
    "\n",
    "    def get_accuracy(self, reset=False):\n",
    "        if reset:\n",
    "            self.targets = torch.Tensor()\n",
    "            self.preds = torch.Tensor()\n",
    "        return self.accuracy"
   ]
  },
  {
   "cell_type": "markdown",
   "metadata": {
    "id": "f7iHXWj1alM1"
   },
   "source": [
    "### Тренировочный класс lightning"
   ]
  },
  {
   "cell_type": "code",
   "execution_count": 17,
   "metadata": {},
   "outputs": [],
   "source": [
    "from torchmetrics import Accuracy"
   ]
  },
  {
   "cell_type": "code",
   "execution_count": 25,
   "metadata": {
    "id": "lD76TeZ1apua"
   },
   "outputs": [],
   "source": [
    "class YourModule(pl.LightningModule):\n",
    "    def __init__(self, model, learning_rate):\n",
    "        super().__init__()\n",
    "        self.model = model\n",
    "        self.learning_rate = learning_rate\n",
    "        self.loss = nn.CrossEntropyLoss()\n",
    "\n",
    "    def forward(self, x):\n",
    "        result = self.model(x)\n",
    "        return result\n",
    "\n",
    "    def configure_optimizers(self):\n",
    "        optimizer = torch.optim.Adam(self.parameters(), lr=self.learning_rate)\n",
    "        scheduler_func = lambda epoch: 0.95**epoch\n",
    "        scheduler = torch.optim.lr_scheduler.LambdaLR(optimizer, scheduler_func)\n",
    "        return [optimizer], [scheduler]\n",
    "\n",
    "    def training_step(self, train_batch, batch_idx):\n",
    "        images, target = train_batch\n",
    "        preds = self.forward(images)\n",
    "        loss = self.loss(preds, target)\n",
    "#         loss = self.model(images, target)\n",
    "        self.log(\n",
    "            \"train_loss\", loss, prog_bar=True\n",
    "        )  # сохраняет логи в папку, но можно несложно добавить wandb\n",
    "        return loss\n",
    "\n",
    "    def validation_step(self, val_batch, batch_idx):\n",
    "        images, target = val_batch\n",
    "        preds = self.forward(images)\n",
    "        loss = self.loss(preds, target)\n",
    "#         loss = self.model(images, target)\n",
    "        acc = accuracy(torch.argmax(preds, dim=-1).long(), target.long(), task = 'multiclass', num_classes=200)\n",
    "        self.log(\"val_loss\", loss, prog_bar=True)\n",
    "        self.log(\"accuracy\", acc, prog_bar=True)"
   ]
  },
  {
   "cell_type": "code",
   "execution_count": 19,
   "metadata": {
    "id": "z9-1wq7QYkiz"
   },
   "outputs": [],
   "source": [
    "wandb_logger = WandbLogger(log_model='all') # какие возможности дает с pytorch_lightning https://docs.wandb.ai/guides/integrations/lightning\n",
    "device = torch.device(\"cuda\") if torch.cuda.is_available() else torch.device(\"cpu\")\n",
    "\n",
    "lr = 0.000001\n",
    "\n",
    "# model = YourNet1().to(device) # YOUR CODE HERE\n",
    "model = torch.load('resnet-0.4006')\n",
    "module = YourModule(model, lr) # YOUR CODE HERE"
   ]
  },
  {
   "cell_type": "code",
   "execution_count": 20,
   "metadata": {},
   "outputs": [
    {
     "name": "stderr",
     "output_type": "stream",
     "text": [
      "GPU available: False, used: False\n",
      "TPU available: False, using: 0 TPU cores\n",
      "IPU available: False, using: 0 IPUs\n",
      "HPU available: False, using: 0 HPUs\n"
     ]
    }
   ],
   "source": [
    "np.random.seed(123)\n",
    "\n",
    "trainer = pl.Trainer(logger=wandb_logger, max_epochs=1, accelerator=\"cpu\") "
   ]
  },
  {
   "cell_type": "code",
   "execution_count": 21,
   "metadata": {
    "id": "If8fi4HZkN3J"
   },
   "outputs": [],
   "source": [
    "# np.random.seed(123)\n",
    "\n",
    "# trainer = pl.Trainer(logger=wandb_logger, max_epochs=1, accelerator=\"cpu\")  # YOUR CODE HERE\n",
    "\n",
    "# tuner = pl.tuner.Tuner(trainer)\n",
    "\n",
    "# # Run learning rate finder\n",
    "# lr_finder = tuner.lr_find(module, train_dataloader, val_dataloader)\n",
    "\n",
    "# # Results can be found in\n",
    "# # print(lr_finder.results)\n",
    "\n",
    "# # Plot with\n",
    "# fig = lr_finder.plot(suggest=True)\n",
    "# fig.show()\n",
    "\n",
    "# # Pick point based on plot, or get suggestion\n",
    "# new_lr = lr_finder.suggestion()\n",
    "# print(new_lr)\n",
    "\n",
    "# # update hparams of the model\n",
    "# # module.hparams.lr = new_lr"
   ]
  },
  {
   "cell_type": "code",
   "execution_count": 21,
   "metadata": {},
   "outputs": [],
   "source": [
    "np.random.seed(123)\n",
    "\n",
    "trainer.fit(module, train_dataloader, val_dataloader)"
   ]
  },
  {
   "cell_type": "markdown",
   "metadata": {
    "id": "3eoTAB1fSOuk"
   },
   "source": [
    "### Валидация результатов задания"
   ]
  },
  {
   "cell_type": "code",
   "execution_count": 22,
   "metadata": {
    "id": "4M_BAiMNl1rL"
   },
   "outputs": [],
   "source": [
    "# код взят из видео: https://www.youtube.com/watch?v=r3cVTxa0u3E&list=PL3Dh_99BJkCEhE7Ri8W6aijiEqm3ZoGRq&index=6\n",
    "\n",
    "def evaluate_imported_task(model, test_dataloader):\n",
    "    model.eval()\n",
    "    total = 0\n",
    "    predicted_correctly = 0\n",
    "\n",
    "    with torch.no_grad():\n",
    "        for images, labels in tqdm(test_dataloader):\n",
    "            total += labels.size(0)\n",
    "            outputs = model(images)\n",
    "            _, preds = torch.max(outputs.data, 1)\n",
    "            predicted_correctly += (preds == labels).sum().item()\n",
    "    accuracy = predicted_correctly / total\n",
    "    return accuracy"
   ]
  },
  {
   "cell_type": "code",
   "execution_count": 23,
   "metadata": {},
   "outputs": [],
   "source": [
    "def evaluate_task(model, test_dataloader, device=\"cuda:0\"):\n",
    "#     model = model.to(device)\n",
    "    model.eval()\n",
    "    accuracy = 0.0\n",
    "    for images, labels in tqdm(test_dataloader):\n",
    "#         images, labels = images.to(device), labels.to(device)\n",
    "        with torch.no_grad():\n",
    "            loss = model(images, labels)\n",
    "            acc_batch = model.get_accuracy(reset=True)\n",
    "        accuracy += acc_batch\n",
    "    accuracy = accuracy / len(test_dataloader)\n",
    "    return accuracy"
   ]
  },
  {
   "cell_type": "code",
   "execution_count": 24,
   "metadata": {
    "id": "TsP57VG8KEfP"
   },
   "outputs": [
    {
     "name": "stderr",
     "output_type": "stream",
     "text": [
      "100%|█████████████████████████████████████████| 313/313 [00:29<00:00, 10.74it/s]"
     ]
    },
    {
     "name": "stdout",
     "output_type": "stream",
     "text": [
      "Оценка за это задание составит 9.10 баллов\n",
      "0.4006\n"
     ]
    },
    {
     "name": "stderr",
     "output_type": "stream",
     "text": [
      "\n"
     ]
    }
   ],
   "source": [
    "np.random.seed(123)\n",
    "\n",
    "accuracy = evaluate_imported_task(model, val_dataloader)\n",
    "print(f\"Оценка за это задание составит {np.clip(10 * accuracy / 0.44, 0, 10):.2f} баллов\")\n",
    "print(accuracy)"
   ]
  },
  {
   "cell_type": "markdown",
   "metadata": {
    "id": "cZqSdlQQKukS"
   },
   "source": [
    "## Задание 2\n",
    "\n",
    "5 баллов\n",
    "Добейтесь accuracy на валидации не менее 0.84. В этом задании делать ресайз и использовать претрейн можно.\n",
    "\n",
    "Для того чтобы выбить скор (считается ниже) на 2.5/5 балла (то есть половину за задание) достаточно соблюдать пару простых жизненных правил:\n",
    "1. Аугментация (без нее сложно очень будет)\n",
    "2. Оптимайзеры можно (и нужно) использовать друг с другом. Однако когда что-то проверяете, то не меняйте несколько параметров сразу - собьете логику экспериментов\n",
    "3. Не используйте полносвязные модели или самые первые сверточные, используйте более современные архитектуры (что на лекциях встречались или можете пойти дальше).\n",
    "4. Попробуйте сначала посмотреть качество исходной модели без дообучения, сохраните как baseline. Отсюда поймете какие слои нужно дообучать.\n",
    "5. Посмотреть все ноутбуки прошедших семинаров и слепить из них что-то общее. Семинарских тетрадок хватит сверх"
   ]
  },
  {
   "cell_type": "markdown",
   "metadata": {
    "id": "zDzXM5rNxNQp"
   },
   "source": [
    "### Модель (или просто импортируйте предобученную)"
   ]
  },
  {
   "cell_type": "code",
   "execution_count": null,
   "metadata": {
    "id": "sDr9l76AxH_9"
   },
   "outputs": [],
   "source": [
    "class YourNet(torch.nn.Module):\n",
    "    def __init__(self):\n",
    "        super().__init__()\n",
    "        # YOUR CODE HERE\n",
    "        pass\n",
    "\n",
    "    def _forward(self, x):\n",
    "        # runs the Neural Network\n",
    "        # YOUR CODE HERE\n",
    "        pass\n",
    "\n",
    "    def forward(self, images, target=None):\n",
    "        # YOUR CODE HERE\n",
    "        pass\n",
    "\n",
    "    def get_accuracy(self, reset=False):\n",
    "        # YOUR CODE HERE\n",
    "        pass"
   ]
  },
  {
   "cell_type": "markdown",
   "metadata": {
    "id": "Flwqk0YjxPLE"
   },
   "source": [
    "### Тренировочный класс lightning"
   ]
  },
  {
   "cell_type": "code",
   "execution_count": null,
   "metadata": {
    "id": "UnKHluO6xID4"
   },
   "outputs": [],
   "source": [
    "class YourModule(pl.LightningModule):\n",
    "    def __init__(self, model, learning_rate):\n",
    "        super().__init__()\n",
    "        # YOUR CODE HERE\n",
    "        pass\n",
    "\n",
    "    def forward(self, x):\n",
    "        # YOUR CODE HERE\n",
    "        pass\n",
    "\n",
    "    def configure_optimizers(self):\n",
    "        # YOUR CODE HERE\n",
    "        pass\n",
    "\n",
    "    def training_step(self, train_batch, batch_idx):\n",
    "        # YOUR CODE HERE\n",
    "        pass\n",
    "\n",
    "    def validation_step(self, val_batch, batch_idx):\n",
    "        # YOUR CODE HERE\n",
    "        pass"
   ]
  },
  {
   "cell_type": "code",
   "execution_count": null,
   "metadata": {
    "id": "lQAjkvkVyhEg"
   },
   "outputs": [],
   "source": [
    "wandb_logger = WandbLogger(log_model='all') # какие возможности дает с pytorch_lightning https://docs.wandb.ai/guides/integrations/lightning\n",
    "device =  # YOUR CODE HERE\n",
    "\n",
    "model = YourNet().to() # YOUR CODE HERE\n",
    "module = YourModule() # YOUR CODE HERE"
   ]
  },
  {
   "cell_type": "code",
   "execution_count": null,
   "metadata": {
    "id": "T4wJgB1YyhG0"
   },
   "outputs": [],
   "source": [
    "trainer = pl.Trainer(logger=wandb_logger)  # YOUR CODE HERE\n",
    "trainer.fit()  # YOUR CODE HERE"
   ]
  },
  {
   "cell_type": "markdown",
   "metadata": {
    "id": "u5D2bwOKSHVp"
   },
   "source": [
    "### Валидация результатов задания"
   ]
  },
  {
   "cell_type": "code",
   "execution_count": null,
   "metadata": {
    "id": "PEdwJE5uOrIM"
   },
   "outputs": [],
   "source": [
    "model = # Подгрузить свою сохраненную модель сюда\n",
    "\n",
    "accuracy = evaluate_task(model, val_dataloader)\n",
    "print(f\"Оценка за это задание составит {np.clip(10 * (accuracy - 0.5) / 0.34, 0, 10):.2f} баллов\")"
   ]
  },
  {
   "cell_type": "markdown",
   "metadata": {
    "cell_id": 15,
    "id": "pT8vfPSolRVb"
   },
   "source": [
    "# Отчёт об экспериментах \n",
    "\n",
    "текст писать тут (или ссылочку на wandb/любой трекер экспреиментов) для каждого задания, то есть не обязательно именно тут рисовать графики, если вы используете готовые трекеры/мониторинги ваших моделей."
   ]
  },
  {
   "cell_type": "markdown",
   "metadata": {
    "id": "YkGZ3kuULB55"
   },
   "source": [
    "**Отчет**: Сначала я пытался создать свою собственную архитектуру для первого задания - YourNet() и YourNet1(). Однако их качество было не очень высокое, оно достигало плато примерно на 0.3 accuracy: https://wandb.ai/oleghse/lightning_logs/reports/HW2--Vmlldzo2MDA4NTI1. Поэтому я решил использовать готовую архитектуру resnet18 без заранее обученных весов. Я обучал по частям, по несколько эпох за раз, потом сохранял модель, менял параметры и снова обучал. Таким образом, чтобы выбить тот accuracy, который у меня получился, я проделал следующие действия: \n",
    "\n",
    "0. Модель resnet18\n",
    "1. 1-5 эпоха: lr=0.0001\n",
    "2. 5-10 эпоха: lr=0.0001\n",
    "3. 11 эпоха: lr=0.00005\n",
    "4. 12 эпоха: lr=0.00001\n",
    "5. 13 эпоха: lr=0.000001\n",
    "\n",
    "В модуле никаких изменений я не делал, обучал на Adam+scheduler. Финальный accuracy: 0.4006\n",
    "Процесс обучения: https://wandb.ai/oleghse/lightning_logs/reports/HW2--Vmlldzo2MDA4NDU2"
   ]
  }
 ],
 "metadata": {
  "colab": {
   "collapsed_sections": [],
   "provenance": [],
   "toc_visible": true
  },
  "kernelspec": {
   "display_name": "Python 3 (ipykernel)",
   "language": "python",
   "name": "python3"
  },
  "language_info": {
   "codemirror_mode": {
    "name": "ipython",
    "version": 3
   },
   "file_extension": ".py",
   "mimetype": "text/x-python",
   "name": "python",
   "nbconvert_exporter": "python",
   "pygments_lexer": "ipython3",
   "version": "3.9.7"
  },
  "max_cell_id": 35
 },
 "nbformat": 4,
 "nbformat_minor": 1
}
