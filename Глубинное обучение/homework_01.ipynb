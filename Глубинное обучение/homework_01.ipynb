{
 "cells": [
  {
   "cell_type": "markdown",
   "metadata": {
    "id": "Q_upCOEI3Upu"
   },
   "source": [
    "# Основы глубинного обучения, майнор ИАД\n",
    "\n",
    "## Домашнее задание 1. Введение в PyTorch. Полносвязные нейронные сети.\n",
    "\n",
    "### Общая информация\n",
    "\n",
    "Дата выдачи: 01.10.2023\n",
    "\n",
    "Мягкий дедлайн: 23:59MSK 15.10.2023\n",
    "\n",
    "Жесткий дедлайн: 23:59MSK 20.10.2023\n",
    "\n",
    "### Оценивание и штрафы\n",
    "Максимально допустимая оценка за работу — 10 баллов. За каждый день просрочки снимается 1 балл. Сдавать задание после жёсткого дедлайна сдачи нельзя.\n",
    "\n",
    "Задание выполняется самостоятельно. «Похожие» решения считаются плагиатом и все задействованные студенты (в том числе те, у кого списали) не могут получить за него больше 0 баллов. Если вы нашли решение какого-то из заданий (или его часть) в открытом источнике, необходимо указать ссылку на этот источник в отдельном блоке в конце вашей работы (скорее всего вы будете не единственным, кто это нашел, поэтому чтобы исключить подозрение в плагиате, необходима ссылка на источник).\n",
    "\n",
    "Неэффективная реализация кода может негативно отразиться на оценке.\n",
    "Также оценка может быть снижена за плохо читаемый код и плохо оформленные графики. Все ответы должны сопровождаться кодом или комментариями о том, как они были получены.\n",
    "\n",
    "Итогова оценка считается как\n",
    "$$\n",
    "min(task_1, task_2)*0.8 + max(task_1, task_2)*0.2\n",
    "$$\n",
    "\n",
    "где task_1 и task_2 - оценки за первое и второе заданиее соответсвенно.\n",
    "Также, за домашнее задание выставляется 0, если не сделано нулевое или третье задание.\n",
    "### О задании\n",
    "\n",
    "В этом задании вам предстоит предсказывать год выпуска песни (**задача регрессии**) по некоторым звуковым признакам: [данные](https://archive.ics.uci.edu/ml/datasets/yearpredictionmsd). В ячейках ниже находится код для загрузки данных. Обратите внимание, что обучающая и тестовая выборки располагаются в одном файле, поэтому НЕ меняйте ячейку, в которой производится деление данных."
   ]
  },
  {
   "cell_type": "code",
   "execution_count": 1,
   "metadata": {
    "id": "RI_eoe063VaP"
   },
   "outputs": [
    {
     "name": "stderr",
     "output_type": "stream",
     "text": [
      "/Users/olegchernikov/opt/anaconda3/lib/python3.9/site-packages/scipy/__init__.py:146: UserWarning: A NumPy version >=1.16.5 and <1.23.0 is required for this version of SciPy (detected version 1.23.5\n",
      "  warnings.warn(f\"A NumPy version >={np_minversion} and <{np_maxversion}\"\n"
     ]
    }
   ],
   "source": [
    "import torch\n",
    "from torch import nn\n",
    "import torch.nn.functional as F\n",
    "import pandas as pd\n",
    "import numpy as np\n",
    "import random\n",
    "device = \"cuda\" if torch.cuda.is_available() else \"cpu\"\n",
    "from tqdm.notebook import tqdm\n",
    "from IPython.display import clear_output\n",
    "import matplotlib.pyplot as plt\n",
    "import seaborn as sns"
   ]
  },
  {
   "cell_type": "code",
   "execution_count": 2,
   "metadata": {
    "colab": {
     "base_uri": "https://localhost:8080/"
    },
    "id": "7NgSZeU-7vgj",
    "outputId": "bf328cf3-2c32-4f57-fcca-b3801412e2d6"
   },
   "outputs": [],
   "source": [
    "# !wget -O data.txt.zip https://archive.ics.uci.edu/ml/machine-learning-databases/00203/YearPredictionMSD.txt.zip"
   ]
  },
  {
   "cell_type": "code",
   "execution_count": 3,
   "metadata": {},
   "outputs": [
    {
     "data": {
      "text/html": [
       "<div>\n",
       "<style scoped>\n",
       "    .dataframe tbody tr th:only-of-type {\n",
       "        vertical-align: middle;\n",
       "    }\n",
       "\n",
       "    .dataframe tbody tr th {\n",
       "        vertical-align: top;\n",
       "    }\n",
       "\n",
       "    .dataframe thead th {\n",
       "        text-align: right;\n",
       "    }\n",
       "</style>\n",
       "<table border=\"1\" class=\"dataframe\">\n",
       "  <thead>\n",
       "    <tr style=\"text-align: right;\">\n",
       "      <th></th>\n",
       "      <th>0</th>\n",
       "      <th>1</th>\n",
       "      <th>2</th>\n",
       "      <th>3</th>\n",
       "      <th>4</th>\n",
       "      <th>5</th>\n",
       "      <th>6</th>\n",
       "      <th>7</th>\n",
       "      <th>8</th>\n",
       "      <th>9</th>\n",
       "      <th>...</th>\n",
       "      <th>81</th>\n",
       "      <th>82</th>\n",
       "      <th>83</th>\n",
       "      <th>84</th>\n",
       "      <th>85</th>\n",
       "      <th>86</th>\n",
       "      <th>87</th>\n",
       "      <th>88</th>\n",
       "      <th>89</th>\n",
       "      <th>90</th>\n",
       "    </tr>\n",
       "  </thead>\n",
       "  <tbody>\n",
       "    <tr>\n",
       "      <th>0</th>\n",
       "      <td>2001</td>\n",
       "      <td>49.94357</td>\n",
       "      <td>21.47114</td>\n",
       "      <td>73.07750</td>\n",
       "      <td>8.74861</td>\n",
       "      <td>-17.40628</td>\n",
       "      <td>-13.09905</td>\n",
       "      <td>-25.01202</td>\n",
       "      <td>-12.23257</td>\n",
       "      <td>7.83089</td>\n",
       "      <td>...</td>\n",
       "      <td>13.01620</td>\n",
       "      <td>-54.40548</td>\n",
       "      <td>58.99367</td>\n",
       "      <td>15.37344</td>\n",
       "      <td>1.11144</td>\n",
       "      <td>-23.08793</td>\n",
       "      <td>68.40795</td>\n",
       "      <td>-1.82223</td>\n",
       "      <td>-27.46348</td>\n",
       "      <td>2.26327</td>\n",
       "    </tr>\n",
       "    <tr>\n",
       "      <th>1</th>\n",
       "      <td>2001</td>\n",
       "      <td>48.73215</td>\n",
       "      <td>18.42930</td>\n",
       "      <td>70.32679</td>\n",
       "      <td>12.94636</td>\n",
       "      <td>-10.32437</td>\n",
       "      <td>-24.83777</td>\n",
       "      <td>8.76630</td>\n",
       "      <td>-0.92019</td>\n",
       "      <td>18.76548</td>\n",
       "      <td>...</td>\n",
       "      <td>5.66812</td>\n",
       "      <td>-19.68073</td>\n",
       "      <td>33.04964</td>\n",
       "      <td>42.87836</td>\n",
       "      <td>-9.90378</td>\n",
       "      <td>-32.22788</td>\n",
       "      <td>70.49388</td>\n",
       "      <td>12.04941</td>\n",
       "      <td>58.43453</td>\n",
       "      <td>26.92061</td>\n",
       "    </tr>\n",
       "    <tr>\n",
       "      <th>2</th>\n",
       "      <td>2001</td>\n",
       "      <td>50.95714</td>\n",
       "      <td>31.85602</td>\n",
       "      <td>55.81851</td>\n",
       "      <td>13.41693</td>\n",
       "      <td>-6.57898</td>\n",
       "      <td>-18.54940</td>\n",
       "      <td>-3.27872</td>\n",
       "      <td>-2.35035</td>\n",
       "      <td>16.07017</td>\n",
       "      <td>...</td>\n",
       "      <td>3.03800</td>\n",
       "      <td>26.05866</td>\n",
       "      <td>-50.92779</td>\n",
       "      <td>10.93792</td>\n",
       "      <td>-0.07568</td>\n",
       "      <td>43.20130</td>\n",
       "      <td>-115.00698</td>\n",
       "      <td>-0.05859</td>\n",
       "      <td>39.67068</td>\n",
       "      <td>-0.66345</td>\n",
       "    </tr>\n",
       "    <tr>\n",
       "      <th>3</th>\n",
       "      <td>2001</td>\n",
       "      <td>48.24750</td>\n",
       "      <td>-1.89837</td>\n",
       "      <td>36.29772</td>\n",
       "      <td>2.58776</td>\n",
       "      <td>0.97170</td>\n",
       "      <td>-26.21683</td>\n",
       "      <td>5.05097</td>\n",
       "      <td>-10.34124</td>\n",
       "      <td>3.55005</td>\n",
       "      <td>...</td>\n",
       "      <td>34.57337</td>\n",
       "      <td>-171.70734</td>\n",
       "      <td>-16.96705</td>\n",
       "      <td>-46.67617</td>\n",
       "      <td>-12.51516</td>\n",
       "      <td>82.58061</td>\n",
       "      <td>-72.08993</td>\n",
       "      <td>9.90558</td>\n",
       "      <td>199.62971</td>\n",
       "      <td>18.85382</td>\n",
       "    </tr>\n",
       "    <tr>\n",
       "      <th>4</th>\n",
       "      <td>2001</td>\n",
       "      <td>50.97020</td>\n",
       "      <td>42.20998</td>\n",
       "      <td>67.09964</td>\n",
       "      <td>8.46791</td>\n",
       "      <td>-15.85279</td>\n",
       "      <td>-16.81409</td>\n",
       "      <td>-12.48207</td>\n",
       "      <td>-9.37636</td>\n",
       "      <td>12.63699</td>\n",
       "      <td>...</td>\n",
       "      <td>9.92661</td>\n",
       "      <td>-55.95724</td>\n",
       "      <td>64.92712</td>\n",
       "      <td>-17.72522</td>\n",
       "      <td>-1.49237</td>\n",
       "      <td>-7.50035</td>\n",
       "      <td>51.76631</td>\n",
       "      <td>7.88713</td>\n",
       "      <td>55.66926</td>\n",
       "      <td>28.74903</td>\n",
       "    </tr>\n",
       "  </tbody>\n",
       "</table>\n",
       "<p>5 rows × 91 columns</p>\n",
       "</div>"
      ],
      "text/plain": [
       "     0         1         2         3         4         5         6         7   \\\n",
       "0  2001  49.94357  21.47114  73.07750   8.74861 -17.40628 -13.09905 -25.01202   \n",
       "1  2001  48.73215  18.42930  70.32679  12.94636 -10.32437 -24.83777   8.76630   \n",
       "2  2001  50.95714  31.85602  55.81851  13.41693  -6.57898 -18.54940  -3.27872   \n",
       "3  2001  48.24750  -1.89837  36.29772   2.58776   0.97170 -26.21683   5.05097   \n",
       "4  2001  50.97020  42.20998  67.09964   8.46791 -15.85279 -16.81409 -12.48207   \n",
       "\n",
       "         8         9   ...        81         82        83        84        85  \\\n",
       "0 -12.23257   7.83089  ...  13.01620  -54.40548  58.99367  15.37344   1.11144   \n",
       "1  -0.92019  18.76548  ...   5.66812  -19.68073  33.04964  42.87836  -9.90378   \n",
       "2  -2.35035  16.07017  ...   3.03800   26.05866 -50.92779  10.93792  -0.07568   \n",
       "3 -10.34124   3.55005  ...  34.57337 -171.70734 -16.96705 -46.67617 -12.51516   \n",
       "4  -9.37636  12.63699  ...   9.92661  -55.95724  64.92712 -17.72522  -1.49237   \n",
       "\n",
       "         86         87        88         89        90  \n",
       "0 -23.08793   68.40795  -1.82223  -27.46348   2.26327  \n",
       "1 -32.22788   70.49388  12.04941   58.43453  26.92061  \n",
       "2  43.20130 -115.00698  -0.05859   39.67068  -0.66345  \n",
       "3  82.58061  -72.08993   9.90558  199.62971  18.85382  \n",
       "4  -7.50035   51.76631   7.88713   55.66926  28.74903  \n",
       "\n",
       "[5 rows x 91 columns]"
      ]
     },
     "execution_count": 3,
     "metadata": {},
     "output_type": "execute_result"
    }
   ],
   "source": [
    "df = pd.read_csv('yearpredictionmsd.zip', header=None)\n",
    "df.head()"
   ]
  },
  {
   "cell_type": "code",
   "execution_count": 4,
   "metadata": {
    "id": "DSVJZzkJ7zZE",
    "outputId": "488c6de3-e897-463b-945e-a6752c113f63",
    "scrolled": false
   },
   "outputs": [],
   "source": [
    "# df = pd.read_csv('data.txt.zip', header=None)\n",
    "# df.head()"
   ]
  },
  {
   "cell_type": "markdown",
   "metadata": {
    "id": "N9a-eJUG35C3"
   },
   "source": [
    "Мы вывели кусок данных, чтобы понять, насколько они пригодны для работы без изменений. Здесь ясно, что сомнительно дальше с такими данными работать, потому что как минимум есть отрицательные значения, которые не отмасштабированы, кроме того еще сразу бросается в глаза совсем разная размерность, где-то видим реально большие числа, а где-то 0.075. Ясно, что будем скейлить."
   ]
  },
  {
   "cell_type": "code",
   "execution_count": 5,
   "metadata": {
    "id": "n4wnRJT1778j"
   },
   "outputs": [],
   "source": [
    "X = df.iloc[:, 1:].values\n",
    "y = df.iloc[:, 0].values\n",
    "\n",
    "train_size = 463715\n",
    "X_train = X[:train_size, :]\n",
    "y_train = y[:train_size]\n",
    "X_test = X[train_size:, :]\n",
    "y_test = y[train_size:]"
   ]
  },
  {
   "cell_type": "markdown",
   "metadata": {
    "id": "_386JE_o5gOd"
   },
   "source": [
    "## Задание 0. (0 баллов, но при невыполнении максимум за все задание &mdash; 0 баллов)\n",
    "\n",
    "Мы будем использовать RMSE как метрику качества. Для самого первого бейзлайна обучите `Ridge` регрессию из `sklearn`. Кроме того, посчитайте качество при наилучшем константном прогнозе.\n",
    "\n",
    "Для выполнения данного задания (и всех последующих) предобработайте данные.\n",
    "\n",
    "1. Зафиксируйте random_seed везде где только возможно. Вам предоставлена функция для этого, однако вы можете дополнить ее своими дополнениями\n",
    "2. Обучите StandertScaler и предобработайте ваши данные. В следующих заданиях можете использовать другой scaler или вообще отказаться от него\n"
   ]
  },
  {
   "cell_type": "code",
   "execution_count": 6,
   "metadata": {
    "id": "1kV-kCVs8Aju"
   },
   "outputs": [],
   "source": [
    "from sklearn.preprocessing import StandardScaler\n",
    "\n",
    "scaler = StandardScaler()\n",
    "X_train_scaled = scaler.fit_transform(X_train)\n",
    "X_test_scaled = scaler.transform(X_test)\n"
   ]
  },
  {
   "cell_type": "code",
   "execution_count": 7,
   "metadata": {},
   "outputs": [
    {
     "data": {
      "text/plain": [
       "array([[ 1.07878578,  0.3915658 ,  1.82696245, ..., -0.47047696,\n",
       "        -0.25536649,  0.04263679],\n",
       "       [ 0.87951065,  0.33263074,  1.74896068, ...,  0.57086074,\n",
       "         0.20934068,  1.16111783],\n",
       "       [ 1.24551515,  0.59277085,  1.33754998, ..., -0.33808131,\n",
       "         0.10782848, -0.09012209],\n",
       "       ...,\n",
       "       [ 0.16295616,  0.00705667,  0.83696599, ..., -0.66394994,\n",
       "         0.01455343, -0.24641243],\n",
       "       [ 0.2470323 ,  0.24967363, -0.40712469, ...,  0.53492495,\n",
       "         0.46999692,  0.7024367 ],\n",
       "       [ 1.14103808,  0.10560857,  1.28757254, ..., -0.05011829,\n",
       "        -0.33914232, -0.05763319]])"
      ]
     },
     "execution_count": 7,
     "metadata": {},
     "output_type": "execute_result"
    }
   ],
   "source": [
    "X_train_scaled"
   ]
  },
  {
   "cell_type": "code",
   "execution_count": 8,
   "metadata": {
    "id": "lkfkXylb8U-O"
   },
   "outputs": [],
   "source": [
    "def set_random_seed(seed):\n",
    "    torch.backends.cudnn.deterministic = True\n",
    "    torch.manual_seed(seed)\n",
    "    torch.cuda.manual_seed(seed)\n",
    "    np.random.seed(seed)\n",
    "    random.seed(seed)\n",
    "    # Add smth here if you need..."
   ]
  },
  {
   "cell_type": "code",
   "execution_count": 9,
   "metadata": {
    "id": "GKVVatBw8cH7"
   },
   "outputs": [],
   "source": [
    "set_random_seed(42)"
   ]
  },
  {
   "cell_type": "code",
   "execution_count": 10,
   "metadata": {},
   "outputs": [],
   "source": [
    "from sklearn.linear_model import Ridge\n",
    "from sklearn.metrics import mean_squared_error"
   ]
  },
  {
   "cell_type": "code",
   "execution_count": 11,
   "metadata": {
    "id": "uv7qthu935C4"
   },
   "outputs": [],
   "source": [
    "model = Ridge()\n",
    "ridged = model.fit(X_train_scaled, y_train)\n",
    "y_pred = ridged.predict(X_test_scaled)\n",
    "rmse_for_model = np.sqrt(mean_squared_error(y_test, y_pred))"
   ]
  },
  {
   "cell_type": "code",
   "execution_count": 12,
   "metadata": {},
   "outputs": [
    {
     "data": {
      "text/plain": [
       "9.510160820470437"
      ]
     },
     "execution_count": 12,
     "metadata": {},
     "output_type": "execute_result"
    }
   ],
   "source": [
    "rmse_for_model"
   ]
  },
  {
   "cell_type": "markdown",
   "metadata": {
    "id": "HJKGuhFi35C4"
   },
   "source": [
    "Лучшая константа для RMSE это среднее, посчитаем значение метрики при нем"
   ]
  },
  {
   "cell_type": "code",
   "execution_count": 13,
   "metadata": {
    "id": "kOcFuy1P35C4"
   },
   "outputs": [
    {
     "data": {
      "text/plain": [
       "2465.9224392300707"
      ]
     },
     "execution_count": 13,
     "metadata": {},
     "output_type": "execute_result"
    }
   ],
   "source": [
    "best_rmse_metric = np.sqrt(np.sum((y_train.mean() - y_test)**2))\n",
    "best_rmse_metric"
   ]
  },
  {
   "cell_type": "code",
   "execution_count": 14,
   "metadata": {},
   "outputs": [
    {
     "data": {
      "text/plain": [
       "(463715, 90)"
      ]
     },
     "execution_count": 14,
     "metadata": {},
     "output_type": "execute_result"
    }
   ],
   "source": [
    "X_train.shape"
   ]
  },
  {
   "cell_type": "markdown",
   "metadata": {
    "id": "BDHAnIkS8vNY"
   },
   "source": [
    "## Задание 1. (максимум 10 баллов)\n",
    "\n",
    "Закрепите свои знания о том, как pytorch работает с обратным распространением ошибки, проделав следующие шаги:\n",
    "\n",
    "1. Создайте модель линейной регрессии, которая будет состоять только из одного Linear слоя.\n",
    "2. Напишите цикл обучения вашей линейной регрессии. В нем реализуйте подсчет функции потерь, сделайте шаг градиентного спуска. Запрещено использовать готовые оптимизаторы и loss-функции из библиотеки pytorch. Для подсчета градиента воспользуйтесь методом backward.\n",
    "3. Запустите обучение на 10 эпохах, после каждой проверяйте значение целевой метрики на тестовой выборке.\n",
    "4. Выведите на экран графики метрики и значения функции потерь на тестовой и обучающей выборке.\n",
    "\n",
    "В данном задании нет цели побить какой-то порог по метрике. Ваша задача - убедиться в том, что ваш рукописный цикл обучения работает. Для ускорения вычислений и обучения модели можете брать только срез данных, а не весь датасет."
   ]
  },
  {
   "cell_type": "code",
   "execution_count": 15,
   "metadata": {
    "id": "LxnT6G1J-apf"
   },
   "outputs": [],
   "source": [
    "w = torch.rand(90, requires_grad=True)\n",
    "a = torch.rand(1, requires_grad=True)\n",
    "\n",
    "X_train_scaled_tensor = torch.tensor(X_train_scaled)\n",
    "X_test_scaled_tensor = torch.tensor(X_test_scaled)\n",
    "y_train_tensor = torch.tensor(y_train, dtype=torch.float)\n",
    "y_test_tensor = torch.tensor(y_test, dtype=torch.float)\n"
   ]
  },
  {
   "cell_type": "code",
   "execution_count": 16,
   "metadata": {},
   "outputs": [],
   "source": [
    "losses = {}"
   ]
  },
  {
   "cell_type": "code",
   "execution_count": 17,
   "metadata": {},
   "outputs": [],
   "source": [
    "epochs = 10\n",
    "\n",
    "for epoch in range(epochs):\n",
    "    y_pred = torch.sum(w * X_train_scaled_tensor, dim=1) + a\n",
    "    loss = torch.sqrt(torch.mean((y_pred - y_train_tensor) ** 2))\n",
    "    loss.backward()\n",
    "    \n",
    "\n",
    "    w.data -= 0.05 * w.grad\n",
    "    a.data -= 0.05 * a.grad\n",
    "\n",
    "    w.grad.data.zero_()\n",
    "    a.grad.data.zero_()\n",
    "    \n",
    "    y_pred_test = torch.sum(w * X_test_scaled_tensor, dim=1) + a\n",
    "    error = torch.sqrt(torch.mean((y_pred_test - y_test_tensor) ** 2))\n",
    "    \n",
    "    losses[epoch] = list([float(loss), float(error)])"
   ]
  },
  {
   "cell_type": "code",
   "execution_count": 18,
   "metadata": {},
   "outputs": [
    {
     "data": {
      "text/html": [
       "<div>\n",
       "<style scoped>\n",
       "    .dataframe tbody tr th:only-of-type {\n",
       "        vertical-align: middle;\n",
       "    }\n",
       "\n",
       "    .dataframe tbody tr th {\n",
       "        vertical-align: top;\n",
       "    }\n",
       "\n",
       "    .dataframe thead th {\n",
       "        text-align: right;\n",
       "    }\n",
       "</style>\n",
       "<table border=\"1\" class=\"dataframe\">\n",
       "  <thead>\n",
       "    <tr style=\"text-align: right;\">\n",
       "      <th></th>\n",
       "      <th>Loss train</th>\n",
       "      <th>Loss test</th>\n",
       "    </tr>\n",
       "  </thead>\n",
       "  <tbody>\n",
       "    <tr>\n",
       "      <th>0</th>\n",
       "      <td>1997.826707</td>\n",
       "      <td>1997.833806</td>\n",
       "    </tr>\n",
       "    <tr>\n",
       "      <th>1</th>\n",
       "      <td>1997.776705</td>\n",
       "      <td>1997.783826</td>\n",
       "    </tr>\n",
       "    <tr>\n",
       "      <th>2</th>\n",
       "      <td>1997.726702</td>\n",
       "      <td>1997.733847</td>\n",
       "    </tr>\n",
       "    <tr>\n",
       "      <th>3</th>\n",
       "      <td>1997.676700</td>\n",
       "      <td>1997.683868</td>\n",
       "    </tr>\n",
       "    <tr>\n",
       "      <th>4</th>\n",
       "      <td>1997.626698</td>\n",
       "      <td>1997.633888</td>\n",
       "    </tr>\n",
       "    <tr>\n",
       "      <th>5</th>\n",
       "      <td>1997.576696</td>\n",
       "      <td>1997.583909</td>\n",
       "    </tr>\n",
       "    <tr>\n",
       "      <th>6</th>\n",
       "      <td>1997.526693</td>\n",
       "      <td>1997.533929</td>\n",
       "    </tr>\n",
       "    <tr>\n",
       "      <th>7</th>\n",
       "      <td>1997.476691</td>\n",
       "      <td>1997.483950</td>\n",
       "    </tr>\n",
       "    <tr>\n",
       "      <th>8</th>\n",
       "      <td>1997.426689</td>\n",
       "      <td>1997.433970</td>\n",
       "    </tr>\n",
       "    <tr>\n",
       "      <th>9</th>\n",
       "      <td>1997.376686</td>\n",
       "      <td>1997.383991</td>\n",
       "    </tr>\n",
       "  </tbody>\n",
       "</table>\n",
       "</div>"
      ],
      "text/plain": [
       "    Loss train    Loss test\n",
       "0  1997.826707  1997.833806\n",
       "1  1997.776705  1997.783826\n",
       "2  1997.726702  1997.733847\n",
       "3  1997.676700  1997.683868\n",
       "4  1997.626698  1997.633888\n",
       "5  1997.576696  1997.583909\n",
       "6  1997.526693  1997.533929\n",
       "7  1997.476691  1997.483950\n",
       "8  1997.426689  1997.433970\n",
       "9  1997.376686  1997.383991"
      ]
     },
     "execution_count": 18,
     "metadata": {},
     "output_type": "execute_result"
    }
   ],
   "source": [
    "results = pd.DataFrame(losses).T\n",
    "results = results.rename(columns={0:'Loss train', 1:'Loss test'})\n",
    "results"
   ]
  },
  {
   "cell_type": "code",
   "execution_count": 19,
   "metadata": {},
   "outputs": [
    {
     "data": {
      "image/png": "[encoded data removed]",
      "text/plain": [
       "<Figure size 864x504 with 1 Axes>"
      ]
     },
     "metadata": {
      "needs_background": "light"
     },
     "output_type": "display_data"
    }
   ],
   "source": [
    "plt.figure(figsize=(12, 7))\n",
    "sns.lineplot(y=results['Loss train'], x=np.arange(1, 11))\n",
    "sns.lineplot(y=results['Loss test'], x=np.arange(1, 11))\n",
    "plt.xticks(np.arange(1, 11))\n",
    "plt.yticks(np.arange(1997, 1997.7, 0.10))\n",
    "plt.xlabel('Эпоха')\n",
    "plt.ylabel('Значение метрики')\n",
    "plt.legend(labels=['Loss train', 'Loss test']);"
   ]
  },
  {
   "cell_type": "markdown",
   "metadata": {
    "id": "_6ilBKYt6OdD"
   },
   "source": [
    "## Задание 2. (максимум 10 баллов)\n",
    "\n",
    "Реализуйте обучение и тестирование нейронной сети для предоставленного вам набора данных. Соотношение между полученным значением метрики на тестовой выборке и баллами за задание следующее:\n",
    "\n",
    "- $\\text{RMSE} \\le 9.00 $ &mdash; 4 балла\n",
    "- $\\text{RMSE} \\le 8.90 $ &mdash; 6 баллов\n",
    "- $\\text{RMSE} \\le 8.80 $ &mdash; 8 баллов\n",
    "- $\\text{RMSE} \\le 8.75 $ &mdash; 10 баллов\n",
    "\n",
    "Есть несколько правил, которых вам нужно придерживаться:\n",
    "\n",
    "- Весь пайплайн обучения должен быть написан на PyTorch. При этом вы можете пользоваться другими библиотеками (`numpy`, `sklearn` и пр.), но только для обработки данных. То есть как угодно трансформировать данные и считать метрики с помощью этих библиотек можно, а импортировать модели из `sklearn` и выбивать с их помощью требуемое качество &mdash; нельзя. Также нельзя пользоваться библиотеками, для которых сам PyTorch является зависимостью.\n",
    "\n",
    "- Мы никак не ограничиваем ваш выбор архитектуры модели, но скорее всего вам будет достаточно полносвязной нейронной сети.\n",
    "\n",
    "- Для обучения запрещается использовать какие-либо иные данные, кроме обучающей выборки.\n",
    "\n",
    "- Ансамблирование моделей запрещено.\n",
    "\n",
    "### Полезные советы:\n",
    "\n",
    "- Очень вряд ли, что у вас с первого раза получится выбить качество на 10 баллов, поэтому пробуйте разные архитектуры, оптимизаторы и значения гиперпараметров. В идеале при запуске каждого нового эксперимента вы должны менять что-то одно, чтобы точно знать, как этот фактор влияет на качество.\n",
    "\n",
    "- Не забудьте, что для улучшения качества модели вам поможет **нормировка таргета**.\n",
    "\n",
    "- Тот факт, что мы занимаемся глубинным обучением, не означает, что стоит забывать про приемы, использующиеся в классическом машинном обучении. Так что обязательно проводите исследовательский анализ данных, отрисовывайте нужные графики и не забывайте про масштабирование и подбор гиперпараметров.\n",
    "\n",
    "- Вы наверняка столкнетесь с тем, что ваша нейронная сеть будет сильно переобучаться. Для нейросетей существуют специальные методы регуляризации, например, dropout ([статья](https://jmlr.org/papers/volume15/srivastava14a/srivastava14a.pdf)) и weight decay ([блогпост](https://towardsdatascience.com/weight-decay-l2-regularization-90a9e17713cd)). Они, разумеется, реализованы в PyTorch. Попробуйте поэкспериментировать с ними.\n",
    "\n",
    "- Если вы чего-то не знаете, не гнушайтесь гуглить. В интернете очень много полезной информации, туториалов и советов по глубинному обучению в целом и по PyTorch в частности. Но не забывайте, что за скатанный код без ссылки на источник придется ответить по всей строгости!\n",
    "\n",
    "- Если вы сразу реализуете обучение на GPU, то у вас будет больше времени на эксперименты, так как любые вычисления будут работать быстрее. Google Colab предоставляет несколько GPU-часов (обычно около 8-10) в сутки бесплатно.\n",
    "\n",
    "- Чтобы отладить код, можете обучаться на небольшой части данных или даже на одном батче. Если лосс на обучающей выборке не падает, то что-то точно идет не так!\n",
    "\n",
    "- Пользуйтесь утилитами, которые вам предоставляет PyTorch (например, Dataset и Dataloader). Их специально разработали для упрощения разработки пайплайна обучения.\n",
    "\n",
    "- Скорее всего вы захотите отслеживать прогресс обучения. Для создания прогресс-баров есть удобная библиотека `tqdm`.\n",
    "\n",
    "- Быть может, вы захотите, чтобы графики рисовались прямо во время обучения. Можете воспользоваться функцией [clear_output](http://ipython.org/ipython-doc/dev/api/generated/IPython.display.html#IPython.display.clear_output), чтобы удалять старый график и рисовать новый на его месте.\n",
    "\n",
    "**ОБЯЗАТЕЛЬНО** рисуйте графики зависимости лосса/метрики на обучающей и тестовой выборках в зависимости от времени обучения. Если обучение занимает относительно небольшое число эпох, то лучше рисовать зависимость от номера шага обучения, если же эпох больше, то рисуйте зависимость по эпохам. Если проверяющий не увидит такого графика для вашей лучшей модели, то он в праве снизить баллы за задание.\n",
    "\n",
    "**ВАЖНО!** Ваше решение должно быть воспроизводимым. Если это не так, то проверяющий имеет право снизить баллы за задание. Чтобы зафиксировать random seed, воспользуйтесь функцией из предыдущего задания.\n",
    "\n"
   ]
  },
  {
   "cell_type": "markdown",
   "metadata": {
    "id": "TZW0gMe3vT8u"
   },
   "source": [
    "Вы можете придерживаться любой адекватной струкуры кода, но мы советуем воспользоваться сигнатурами функций, которые приведены ниже. Лучше всего, если вы проверите ваши предсказания ассертом: так вы убережете себя от разных косяков, например, что вектор предсказаний состоит из всего одного числа. В любом случае, внимательно следите за тем, для каких тензоров вы считаете метрику RMSE. При случайном или намеренном введении в заблуждение проверяющие очень сильно разозлятся."
   ]
  },
  {
   "cell_type": "code",
   "execution_count": 20,
   "metadata": {},
   "outputs": [],
   "source": [
    "from sklearn.preprocessing import StandardScaler\n",
    "\n",
    "# Нормируем таргет:\n",
    "\n",
    "scaler = StandardScaler()\n",
    "y_train_scaled = scaler.fit_transform(y_train.reshape(-1, 1))\n",
    "y_test_scaled = scaler.transform(y_test.reshape(-1, 1))"
   ]
  },
  {
   "cell_type": "code",
   "execution_count": 21,
   "metadata": {},
   "outputs": [],
   "source": [
    "# Задаем гиперпараметры и делаем из numpy tensor:\n",
    "\n",
    "n_samples, n_features = X_train_scaled_tensor.shape\n",
    "n_epochs = 5\n",
    "learning_rate = 0.01\n",
    "X_train_tensor = torch.from_numpy(X_train_scaled)\n",
    "X_train_tensor = X_train_tensor.type(torch.float)\n",
    "X_test_tensor = torch.from_numpy(X_test_scaled)\n",
    "X_test_tensor = X_test_tensor.type(torch.float)\n",
    "y_train_tensor = torch.from_numpy(y_train_scaled)\n",
    "y_train_tensor = y_train_tensor.type(torch.float)\n",
    "y_test_tensor = torch.from_numpy(y_test_scaled)\n",
    "y_test_tensor = y_test_tensor.type(torch.float)"
   ]
  },
  {
   "cell_type": "code",
   "execution_count": 22,
   "metadata": {},
   "outputs": [],
   "source": [
    "class Dataset(torch.utils.data.Dataset):\n",
    "    def __init__(self, x, y):\n",
    "        self.x = x\n",
    "        self.y = y\n",
    "        \n",
    "    def __len__(self):\n",
    "        return len(self.x)\n",
    "    \n",
    "    def __getitem__(self, idx):\n",
    "        return {\n",
    "            \"sample\": torch.tensor(self.x[idx, :], dtype=torch.float),\n",
    "            \"target\": self.y[idx],\n",
    "        }"
   ]
  },
  {
   "cell_type": "code",
   "execution_count": 23,
   "metadata": {},
   "outputs": [],
   "source": [
    "class Model(nn.Module):\n",
    "    def __init__(self, input_dim, hidden_dim, output_dim):\n",
    "        super(Model, self).__init__()\n",
    "        self.lin1 = nn.Linear(input_dim, hidden_dim)\n",
    "        self.relu1 = nn.ReLU()\n",
    "        self.dropout1 = nn.Dropout(0.5)\n",
    "        self.lin2 = nn.Linear(hidden_dim, output_dim)\n",
    "        \n",
    "\n",
    "    def forward(self, x):\n",
    "        self.lin1(x)\n",
    "        self.relu1(x)\n",
    "        self.dropout1(x)\n",
    "        return self.lin2(x)"
   ]
  },
  {
   "cell_type": "code",
   "execution_count": 24,
   "metadata": {},
   "outputs": [],
   "source": [
    "train_set = Dataset(X_train_tensor, y_train_tensor)\n",
    "train_loader = torch.utils.data.DataLoader(\n",
    "    train_set, batch_size=100\n",
    ")\n",
    "\n",
    "test_set = Dataset(X_test_tensor, y_test_tensor)\n",
    "test_loader = torch.utils.data.DataLoader(\n",
    "    test_set, batch_size=100\n",
    ")\n",
    "\n",
    "model = Model(n_features, n_features, 1)\n",
    "optimizer = torch.optim.SGD(model.parameters(), lr=learning_rate)\n",
    "criterion = nn.MSELoss()"
   ]
  },
  {
   "cell_type": "code",
   "execution_count": 25,
   "metadata": {},
   "outputs": [],
   "source": [
    "def train(model, optimizer, criterion, train_loader, test_loader):\n",
    "    \"\"\"\n",
    "    params:\n",
    "        model - torch.nn.Module to be fitted\n",
    "        optimizer - model optimizer\n",
    "        criterion - loss function from torch.nn\n",
    "        train_loader - torch.utils.data.Dataloader with train set\n",
    "        test_loader - torch.utils.data.Dataloader with test set\n",
    "                      (if you wish to validate during training)\n",
    "    \"\"\"\n",
    "    for epoch in range(n_epochs):\n",
    "        iteration = 0\n",
    "        for batch in train_loader:\n",
    "            y_pred = model(batch['sample'])\n",
    "            \n",
    "            loss = criterion(batch['target'], y_pred)\n",
    "            \n",
    "            loss.backward()\n",
    "            \n",
    "            optimizer.step()\n",
    "            \n",
    "            optimizer.zero_grad()\n",
    "            \n",
    "            if iteration % 100 == 0:\n",
    "                print('epoch: ', epoch+1, ', iter: ', iteration, ', loss: ', loss.item())\n",
    "                iteration += 1\n",
    "            else:\n",
    "                iteration += 1\n",
    "        \n",
    "#     raise NotImplementedError\n",
    "\n",
    "\n",
    "def test(model, criterion, test_loader):\n",
    "    \"\"\"\n",
    "    params:\n",
    "        model - torch.nn.Module to be evaluated on test set\n",
    "        criterion - loss function from torch.nn\n",
    "        test_loader - torch.utils.data.Dataloader with test set\n",
    "    ----------\n",
    "    returns:\n",
    "        predicts - torch.tensor with shape (len(test_loader.dataset), ),\n",
    "                   which contains predictions for test objects\n",
    "    \"\"\"\n",
    "    \n",
    "    predicts = torch.ones(len(test_loader.dataset))\n",
    "    ind = 0\n",
    "    total_loss = 0 # суммарная ошибка на каждом батче\n",
    "    for batch in test_loader:\n",
    "        y_pred = model(batch['sample'])\n",
    "        \n",
    "        loss = criterion(batch['target'], y_pred) # ошибка на батче\n",
    "        \n",
    "        total_loss += loss\n",
    "        \n",
    "        for val in y_pred:\n",
    "            predicts[ind] = val\n",
    "            ind += 1\n",
    "    return predicts, total_loss/len(test_loader) # возвращаем нормированную по количеству батчей суммарную ошибку\n"
   ]
  },
  {
   "cell_type": "code",
   "execution_count": 26,
   "metadata": {},
   "outputs": [],
   "source": [
    "# assert test(model, criterion, test_loader).shape[0] == y_test.shape[0]"
   ]
  },
  {
   "cell_type": "code",
   "execution_count": 27,
   "metadata": {},
   "outputs": [
    {
     "name": "stderr",
     "output_type": "stream",
     "text": [
      "/var/folders/7c/f8xjv4ln3gscgmy55z3877_40000gn/T/ipykernel_57639/3884859171.py:11: UserWarning: To copy construct from a tensor, it is recommended to use sourceTensor.clone().detach() or sourceTensor.clone().detach().requires_grad_(True), rather than torch.tensor(sourceTensor).\n",
      "  \"sample\": torch.tensor(self.x[idx, :], dtype=torch.float),\n"
     ]
    },
    {
     "name": "stdout",
     "output_type": "stream",
     "text": [
      "epoch:  1 , iter:  0 , loss:  0.5794607400894165\n",
      "epoch:  1 , iter:  100 , loss:  0.8760538697242737\n",
      "epoch:  1 , iter:  200 , loss:  0.5398319959640503\n",
      "epoch:  1 , iter:  300 , loss:  0.15332984924316406\n",
      "epoch:  1 , iter:  400 , loss:  0.4772321283817291\n",
      "epoch:  1 , iter:  500 , loss:  0.23164114356040955\n",
      "epoch:  1 , iter:  600 , loss:  0.3739667236804962\n",
      "epoch:  1 , iter:  700 , loss:  0.304289847612381\n",
      "epoch:  1 , iter:  800 , loss:  0.7455514669418335\n",
      "epoch:  1 , iter:  900 , loss:  0.8750280141830444\n",
      "epoch:  1 , iter:  1000 , loss:  0.45143187046051025\n",
      "epoch:  1 , iter:  1100 , loss:  1.1212584972381592\n",
      "epoch:  1 , iter:  1200 , loss:  1.411228060722351\n",
      "epoch:  1 , iter:  1300 , loss:  0.30353498458862305\n",
      "epoch:  1 , iter:  1400 , loss:  1.2376726865768433\n",
      "epoch:  1 , iter:  1500 , loss:  0.36926570534706116\n",
      "epoch:  1 , iter:  1600 , loss:  0.10703416913747787\n",
      "epoch:  1 , iter:  1700 , loss:  0.2730071246623993\n",
      "epoch:  1 , iter:  1800 , loss:  0.5050711631774902\n",
      "epoch:  1 , iter:  1900 , loss:  1.7766637802124023\n",
      "epoch:  1 , iter:  2000 , loss:  4.329676151275635\n",
      "epoch:  1 , iter:  2100 , loss:  0.5552257299423218\n",
      "epoch:  1 , iter:  2200 , loss:  0.36646682024002075\n",
      "epoch:  1 , iter:  2300 , loss:  1.022551417350769\n",
      "epoch:  1 , iter:  2400 , loss:  1.9709359407424927\n",
      "epoch:  1 , iter:  2500 , loss:  0.40736323595046997\n",
      "epoch:  1 , iter:  2600 , loss:  0.6579023003578186\n",
      "epoch:  1 , iter:  2700 , loss:  0.39557579159736633\n",
      "epoch:  1 , iter:  2800 , loss:  0.35261213779449463\n",
      "epoch:  1 , iter:  2900 , loss:  1.9159884452819824\n",
      "epoch:  1 , iter:  3000 , loss:  0.25992608070373535\n",
      "epoch:  1 , iter:  3100 , loss:  0.8121628761291504\n",
      "epoch:  1 , iter:  3200 , loss:  0.29015740752220154\n",
      "epoch:  1 , iter:  3300 , loss:  0.3345547020435333\n",
      "epoch:  1 , iter:  3400 , loss:  0.2224206179380417\n",
      "epoch:  1 , iter:  3500 , loss:  0.2681158483028412\n",
      "epoch:  1 , iter:  3600 , loss:  1.0550405979156494\n",
      "epoch:  1 , iter:  3700 , loss:  0.541977047920227\n",
      "epoch:  1 , iter:  3800 , loss:  0.6231957077980042\n",
      "epoch:  1 , iter:  3900 , loss:  0.39609360694885254\n",
      "epoch:  1 , iter:  4000 , loss:  0.12905974686145782\n",
      "epoch:  1 , iter:  4100 , loss:  0.5258296728134155\n",
      "epoch:  1 , iter:  4200 , loss:  0.40412312746047974\n",
      "epoch:  1 , iter:  4300 , loss:  1.278008222579956\n",
      "epoch:  1 , iter:  4400 , loss:  0.18406948447227478\n",
      "epoch:  1 , iter:  4500 , loss:  2.852738380432129\n",
      "epoch:  1 , iter:  4600 , loss:  0.6540841460227966\n",
      "epoch:  2 , iter:  0 , loss:  0.3381081819534302\n",
      "epoch:  2 , iter:  100 , loss:  0.8502442240715027\n",
      "epoch:  2 , iter:  200 , loss:  0.5216748714447021\n",
      "epoch:  2 , iter:  300 , loss:  0.16177870333194733\n",
      "epoch:  2 , iter:  400 , loss:  0.4830787777900696\n",
      "epoch:  2 , iter:  500 , loss:  0.23964989185333252\n",
      "epoch:  2 , iter:  600 , loss:  0.36453384160995483\n",
      "epoch:  2 , iter:  700 , loss:  0.31238001585006714\n",
      "epoch:  2 , iter:  800 , loss:  0.741818368434906\n",
      "epoch:  2 , iter:  900 , loss:  0.8819612264633179\n",
      "epoch:  2 , iter:  1000 , loss:  0.4507913291454315\n",
      "epoch:  2 , iter:  1100 , loss:  1.1169099807739258\n",
      "epoch:  2 , iter:  1200 , loss:  1.4232028722763062\n",
      "epoch:  2 , iter:  1300 , loss:  0.30125418305397034\n",
      "epoch:  2 , iter:  1400 , loss:  1.2419565916061401\n",
      "epoch:  2 , iter:  1500 , loss:  0.36631762981414795\n",
      "epoch:  2 , iter:  1600 , loss:  0.10839006304740906\n",
      "epoch:  2 , iter:  1700 , loss:  0.2747834622859955\n",
      "epoch:  2 , iter:  1800 , loss:  0.5045449137687683\n",
      "epoch:  2 , iter:  1900 , loss:  1.779337763786316\n",
      "epoch:  2 , iter:  2000 , loss:  4.32858419418335\n",
      "epoch:  2 , iter:  2100 , loss:  0.5593206882476807\n",
      "epoch:  2 , iter:  2200 , loss:  0.36706122756004333\n",
      "epoch:  2 , iter:  2300 , loss:  1.0248439311981201\n",
      "epoch:  2 , iter:  2400 , loss:  1.9733593463897705\n",
      "epoch:  2 , iter:  2500 , loss:  0.40747925639152527\n",
      "epoch:  2 , iter:  2600 , loss:  0.6588783860206604\n",
      "epoch:  2 , iter:  2700 , loss:  0.39490658044815063\n",
      "epoch:  2 , iter:  2800 , loss:  0.3516053259372711\n",
      "epoch:  2 , iter:  2900 , loss:  1.9176138639450073\n",
      "epoch:  2 , iter:  3000 , loss:  0.25956717133522034\n",
      "epoch:  2 , iter:  3100 , loss:  0.8120092749595642\n",
      "epoch:  2 , iter:  3200 , loss:  0.2903672456741333\n",
      "epoch:  2 , iter:  3300 , loss:  0.33518698811531067\n",
      "epoch:  2 , iter:  3400 , loss:  0.2224920392036438\n",
      "epoch:  2 , iter:  3500 , loss:  0.26781007647514343\n",
      "epoch:  2 , iter:  3600 , loss:  1.0554672479629517\n",
      "epoch:  2 , iter:  3700 , loss:  0.5419414639472961\n",
      "epoch:  2 , iter:  3800 , loss:  0.6229020953178406\n",
      "epoch:  2 , iter:  3900 , loss:  0.3961471617221832\n",
      "epoch:  2 , iter:  4000 , loss:  0.12913277745246887\n",
      "epoch:  2 , iter:  4100 , loss:  0.525895357131958\n",
      "epoch:  2 , iter:  4200 , loss:  0.4040830731391907\n",
      "epoch:  2 , iter:  4300 , loss:  1.277955412864685\n",
      "epoch:  2 , iter:  4400 , loss:  0.18407391011714935\n",
      "epoch:  2 , iter:  4500 , loss:  2.8529436588287354\n",
      "epoch:  2 , iter:  4600 , loss:  0.6540808081626892\n",
      "epoch:  3 , iter:  0 , loss:  0.33801552653312683\n",
      "epoch:  3 , iter:  100 , loss:  0.8503516316413879\n",
      "epoch:  3 , iter:  200 , loss:  0.5217068195343018\n",
      "epoch:  3 , iter:  300 , loss:  0.16181190311908722\n",
      "epoch:  3 , iter:  400 , loss:  0.48306700587272644\n",
      "epoch:  3 , iter:  500 , loss:  0.23965466022491455\n",
      "epoch:  3 , iter:  600 , loss:  0.3644907474517822\n",
      "epoch:  3 , iter:  700 , loss:  0.31241631507873535\n",
      "epoch:  3 , iter:  800 , loss:  0.7417945861816406\n",
      "epoch:  3 , iter:  900 , loss:  0.8819571733474731\n",
      "epoch:  3 , iter:  1000 , loss:  0.4507874548435211\n",
      "epoch:  3 , iter:  1100 , loss:  1.1169047355651855\n",
      "epoch:  3 , iter:  1200 , loss:  1.423240303993225\n",
      "epoch:  3 , iter:  1300 , loss:  0.3012511134147644\n",
      "epoch:  3 , iter:  1400 , loss:  1.2419830560684204\n",
      "epoch:  3 , iter:  1500 , loss:  0.3663097321987152\n",
      "epoch:  3 , iter:  1600 , loss:  0.10839476436376572\n",
      "epoch:  3 , iter:  1700 , loss:  0.27479317784309387\n",
      "epoch:  3 , iter:  1800 , loss:  0.5045386552810669\n",
      "epoch:  3 , iter:  1900 , loss:  1.7793465852737427\n",
      "epoch:  3 , iter:  2000 , loss:  4.328574180603027\n",
      "epoch:  3 , iter:  2100 , loss:  0.5593374967575073\n",
      "epoch:  3 , iter:  2200 , loss:  0.3670630156993866\n",
      "epoch:  3 , iter:  2300 , loss:  1.024849772453308\n",
      "epoch:  3 , iter:  2400 , loss:  1.9733641147613525\n",
      "epoch:  3 , iter:  2500 , loss:  0.40747931599617004\n",
      "epoch:  3 , iter:  2600 , loss:  0.6588828563690186\n",
      "epoch:  3 , iter:  2700 , loss:  0.3949040174484253\n",
      "epoch:  3 , iter:  2800 , loss:  0.35160109400749207\n",
      "epoch:  3 , iter:  2900 , loss:  1.9176201820373535\n",
      "epoch:  3 , iter:  3000 , loss:  0.2595658600330353\n",
      "epoch:  3 , iter:  3100 , loss:  0.8120089769363403\n",
      "epoch:  3 , iter:  3200 , loss:  0.2903681695461273\n",
      "epoch:  3 , iter:  3300 , loss:  0.3351898491382599\n",
      "epoch:  3 , iter:  3400 , loss:  0.22249236702919006\n",
      "epoch:  3 , iter:  3500 , loss:  0.2678089737892151\n",
      "epoch:  3 , iter:  3600 , loss:  1.0554687976837158\n",
      "epoch:  3 , iter:  3700 , loss:  0.5419413447380066\n",
      "epoch:  3 , iter:  3800 , loss:  0.6229010224342346\n",
      "epoch:  3 , iter:  3900 , loss:  0.3961474597454071\n",
      "epoch:  3 , iter:  4000 , loss:  0.1291331648826599\n",
      "epoch:  3 , iter:  4100 , loss:  0.5258955955505371\n",
      "epoch:  3 , iter:  4200 , loss:  0.40408289432525635\n",
      "epoch:  3 , iter:  4300 , loss:  1.2779552936553955\n",
      "epoch:  3 , iter:  4400 , loss:  0.18407391011714935\n",
      "epoch:  3 , iter:  4500 , loss:  2.8529443740844727\n",
      "epoch:  3 , iter:  4600 , loss:  0.6540807485580444\n",
      "epoch:  4 , iter:  0 , loss:  0.3380151093006134\n",
      "epoch:  4 , iter:  100 , loss:  0.8503521680831909\n",
      "epoch:  4 , iter:  200 , loss:  0.5217069387435913\n",
      "epoch:  4 , iter:  300 , loss:  0.16181205213069916\n",
      "epoch:  4 , iter:  400 , loss:  0.48306697607040405\n",
      "epoch:  4 , iter:  500 , loss:  0.23965467512607574\n",
      "epoch:  4 , iter:  600 , loss:  0.3644906282424927\n",
      "epoch:  4 , iter:  700 , loss:  0.3124164640903473\n",
      "epoch:  4 , iter:  800 , loss:  0.7417945861816406\n",
      "epoch:  4 , iter:  900 , loss:  0.8819571137428284\n",
      "epoch:  4 , iter:  1000 , loss:  0.45078742504119873\n",
      "epoch:  4 , iter:  1100 , loss:  1.1169047355651855\n",
      "epoch:  4 , iter:  1200 , loss:  1.4232406616210938\n",
      "epoch:  4 , iter:  1300 , loss:  0.301251083612442\n",
      "epoch:  4 , iter:  1400 , loss:  1.24198317527771\n",
      "epoch:  4 , iter:  1500 , loss:  0.36630967259407043\n",
      "epoch:  4 , iter:  1600 , loss:  0.10839477181434631\n"
     ]
    },
    {
     "name": "stdout",
     "output_type": "stream",
     "text": [
      "epoch:  4 , iter:  1700 , loss:  0.27479320764541626\n",
      "epoch:  4 , iter:  1800 , loss:  0.5045387148857117\n",
      "epoch:  4 , iter:  1900 , loss:  1.7793464660644531\n",
      "epoch:  4 , iter:  2000 , loss:  4.328573703765869\n",
      "epoch:  4 , iter:  2100 , loss:  0.5593375563621521\n",
      "epoch:  4 , iter:  2200 , loss:  0.3670630156993866\n",
      "epoch:  4 , iter:  2300 , loss:  1.0248500108718872\n",
      "epoch:  4 , iter:  2400 , loss:  1.973364233970642\n",
      "epoch:  4 , iter:  2500 , loss:  0.40747928619384766\n",
      "epoch:  4 , iter:  2600 , loss:  0.6588828563690186\n",
      "epoch:  4 , iter:  2700 , loss:  0.3949040174484253\n",
      "epoch:  4 , iter:  2800 , loss:  0.3516010642051697\n",
      "epoch:  4 , iter:  2900 , loss:  1.9176201820373535\n",
      "epoch:  4 , iter:  3000 , loss:  0.2595658600330353\n",
      "epoch:  4 , iter:  3100 , loss:  0.8120089173316956\n",
      "epoch:  4 , iter:  3200 , loss:  0.2903681695461273\n",
      "epoch:  4 , iter:  3300 , loss:  0.3351898491382599\n",
      "epoch:  4 , iter:  3400 , loss:  0.22249235212802887\n",
      "epoch:  4 , iter:  3500 , loss:  0.2678089439868927\n",
      "epoch:  4 , iter:  3600 , loss:  1.0554687976837158\n",
      "epoch:  4 , iter:  3700 , loss:  0.5419412851333618\n",
      "epoch:  4 , iter:  3800 , loss:  0.6229010224342346\n",
      "epoch:  4 , iter:  3900 , loss:  0.3961474597454071\n",
      "epoch:  4 , iter:  4000 , loss:  0.12913314998149872\n",
      "epoch:  4 , iter:  4100 , loss:  0.5258956551551819\n",
      "epoch:  4 , iter:  4200 , loss:  0.4040828347206116\n",
      "epoch:  4 , iter:  4300 , loss:  1.277955174446106\n",
      "epoch:  4 , iter:  4400 , loss:  0.18407391011714935\n",
      "epoch:  4 , iter:  4500 , loss:  2.8529443740844727\n",
      "epoch:  4 , iter:  4600 , loss:  0.6540807485580444\n",
      "epoch:  5 , iter:  0 , loss:  0.3380151391029358\n",
      "epoch:  5 , iter:  100 , loss:  0.8503521084785461\n",
      "epoch:  5 , iter:  200 , loss:  0.5217069983482361\n",
      "epoch:  5 , iter:  300 , loss:  0.16181205213069916\n",
      "epoch:  5 , iter:  400 , loss:  0.4830669164657593\n",
      "epoch:  5 , iter:  500 , loss:  0.23965467512607574\n",
      "epoch:  5 , iter:  600 , loss:  0.3644905984401703\n",
      "epoch:  5 , iter:  700 , loss:  0.3124164938926697\n",
      "epoch:  5 , iter:  800 , loss:  0.7417945861816406\n",
      "epoch:  5 , iter:  900 , loss:  0.8819571137428284\n",
      "epoch:  5 , iter:  1000 , loss:  0.4507874548435211\n",
      "epoch:  5 , iter:  1100 , loss:  1.1169047355651855\n",
      "epoch:  5 , iter:  1200 , loss:  1.423240303993225\n",
      "epoch:  5 , iter:  1300 , loss:  0.3012511134147644\n",
      "epoch:  5 , iter:  1400 , loss:  1.24198317527771\n",
      "epoch:  5 , iter:  1500 , loss:  0.36630967259407043\n",
      "epoch:  5 , iter:  1600 , loss:  0.10839477181434631\n",
      "epoch:  5 , iter:  1700 , loss:  0.27479323744773865\n",
      "epoch:  5 , iter:  1800 , loss:  0.5045387148857117\n",
      "epoch:  5 , iter:  1900 , loss:  1.7793463468551636\n",
      "epoch:  5 , iter:  2000 , loss:  4.328573703765869\n",
      "epoch:  5 , iter:  2100 , loss:  0.5593375563621521\n",
      "epoch:  5 , iter:  2200 , loss:  0.36706307530403137\n",
      "epoch:  5 , iter:  2300 , loss:  1.024849772453308\n",
      "epoch:  5 , iter:  2400 , loss:  1.973364233970642\n",
      "epoch:  5 , iter:  2500 , loss:  0.4074793756008148\n",
      "epoch:  5 , iter:  2600 , loss:  0.6588828563690186\n",
      "epoch:  5 , iter:  2700 , loss:  0.3949040174484253\n",
      "epoch:  5 , iter:  2800 , loss:  0.3516010642051697\n",
      "epoch:  5 , iter:  2900 , loss:  1.9176201820373535\n",
      "epoch:  5 , iter:  3000 , loss:  0.2595658600330353\n",
      "epoch:  5 , iter:  3100 , loss:  0.812008798122406\n",
      "epoch:  5 , iter:  3200 , loss:  0.2903681695461273\n",
      "epoch:  5 , iter:  3300 , loss:  0.3351898491382599\n",
      "epoch:  5 , iter:  3400 , loss:  0.22249233722686768\n",
      "epoch:  5 , iter:  3500 , loss:  0.2678089439868927\n",
      "epoch:  5 , iter:  3600 , loss:  1.0554687976837158\n",
      "epoch:  5 , iter:  3700 , loss:  0.5419412851333618\n",
      "epoch:  5 , iter:  3800 , loss:  0.6229009032249451\n",
      "epoch:  5 , iter:  3900 , loss:  0.3961474299430847\n",
      "epoch:  5 , iter:  4000 , loss:  0.12913314998149872\n",
      "epoch:  5 , iter:  4100 , loss:  0.5258955955505371\n",
      "epoch:  5 , iter:  4200 , loss:  0.40408286452293396\n",
      "epoch:  5 , iter:  4300 , loss:  1.277955174446106\n",
      "epoch:  5 , iter:  4400 , loss:  0.18407388031482697\n",
      "epoch:  5 , iter:  4500 , loss:  2.8529446125030518\n",
      "epoch:  5 , iter:  4600 , loss:  0.6540807485580444\n"
     ]
    }
   ],
   "source": [
    "train(model, optimizer, criterion, train_loader, test_loader)"
   ]
  },
  {
   "cell_type": "code",
   "execution_count": 28,
   "metadata": {},
   "outputs": [
    {
     "name": "stderr",
     "output_type": "stream",
     "text": [
      "/var/folders/7c/f8xjv4ln3gscgmy55z3877_40000gn/T/ipykernel_57639/3884859171.py:11: UserWarning: To copy construct from a tensor, it is recommended to use sourceTensor.clone().detach() or sourceTensor.clone().detach().requires_grad_(True), rather than torch.tensor(sourceTensor).\n",
      "  \"sample\": torch.tensor(self.x[idx, :], dtype=torch.float),\n"
     ]
    },
    {
     "data": {
      "text/plain": [
       "tensor([-0.1755,  0.5293,  0.3610,  ..., -0.0115,  0.4792,  0.3500],\n",
       "       grad_fn=<CopySlices>)"
      ]
     },
     "execution_count": 28,
     "metadata": {},
     "output_type": "execute_result"
    }
   ],
   "source": [
    "y_pred, total_loss= test(model, criterion, test_loader)\n",
    "y_pred # предикты для тестовой выборки"
   ]
  },
  {
   "cell_type": "code",
   "execution_count": 30,
   "metadata": {},
   "outputs": [
    {
     "data": {
      "text/plain": [
       "array([[2007.],\n",
       "       [2003.],\n",
       "       [2005.],\n",
       "       ...,\n",
       "       [2006.],\n",
       "       [2006.],\n",
       "       [2005.]])"
      ]
     },
     "execution_count": 30,
     "metadata": {},
     "output_type": "execute_result"
    }
   ],
   "source": [
    "Y_reversed = scaler.inverse_transform(y_test_scaled)\n",
    "Y_reversed"
   ]
  },
  {
   "cell_type": "code",
   "execution_count": 47,
   "metadata": {},
   "outputs": [],
   "source": [
    "# Y = torch.from_numpy(Y_reversed.reshape(51630,))\n",
    "# Y # приведенный в удобный для подсчета вид таргет"
   ]
  },
  {
   "cell_type": "code",
   "execution_count": 38,
   "metadata": {},
   "outputs": [
    {
     "data": {
      "text/plain": [
       "array([[1996.466 ],\n",
       "       [2004.1769],\n",
       "       [2002.3354],\n",
       "       ...,\n",
       "       [1998.26  ],\n",
       "       [2003.628 ],\n",
       "       [2002.2148]], dtype=float32)"
      ]
     },
     "execution_count": 38,
     "metadata": {},
     "output_type": "execute_result"
    }
   ],
   "source": [
    "y_pred_reversed = scaler.inverse_transform(y_pred.detach().numpy().reshape(-1, 1))\n",
    "y_pred_reversed"
   ]
  },
  {
   "cell_type": "code",
   "execution_count": 45,
   "metadata": {},
   "outputs": [
    {
     "data": {
      "text/plain": [
       "9.819194388054553"
      ]
     },
     "execution_count": 45,
     "metadata": {},
     "output_type": "execute_result"
    }
   ],
   "source": [
    "np.sqrt(np.mean((y_pred_reversed - Y_reversed)**2))"
   ]
  },
  {
   "cell_type": "code",
   "execution_count": 46,
   "metadata": {},
   "outputs": [],
   "source": [
    "# print(f'RMSE, посчитанное criterion на всей выборке: {torch.sqrt(criterion(y_pred_reversed, Y)).item()}')\n",
    "# print(f'RMSE, посчитанное руками на всей выборке: {(((y_pred_reversed - Y)**2).mean()).sqrt().item()}')\n",
    "# print(f'RMSE, посчитанное как среднее из criterion для каждого батча: {total_loss.sqrt().item() }')"
   ]
  },
  {
   "cell_type": "markdown",
   "metadata": {
    "id": "bine9EES6TIn"
   },
   "source": [
    "## Задание 3. (0 баллов, но при невыполнении максимум за все задание &mdash; 0 баллов)\n",
    "\n",
    "Напишите небольшой отчет о том, как вы добились полученного качества: какие средства использовали и какие эксперименты проводили. Подробно расскажите об архитектурах и значениях гиперпараметров, а также какие метрики на тесте они показывали. Чтобы отчет был зачтен, необходимо привести хотя бы 3 эксперимента."
   ]
  },
  {
   "cell_type": "markdown",
   "metadata": {},
   "source": [
    "**Отчет**: Изначально, я написал модель (class Model) с 1 линейным преобразованием (nn.Linear), причем я не нормировал таргет и остальные данные. Модель мгновенно начинала переобучаться, да так, что на выходе были просто nan, потому что в какой-то момент значения весов достигали бесконечности (выводилось это, как inf). Я пытался менять архетикртуру модели, делал несколько линейных слоев, добавлял регуляризацию в виде Dropout с разными вероятностями (даже 0.9 в надежде, что это остановит переобучение), менял шаг градиентного спуска, увеличивал и уменьшал количество батчей, но ничего не помогала. После 3-4 батча, веса улетали в бесконечность. После этого я все-таки отнормировал весь массив данных, то есть таргет и все признаки. Сделав это, качество модели сразу же улучшилось (как минимум, на выходе больше не было nan). По сути, это был самый важный шаг. Касательно архетиктуры модели, я остановился на двух линейных слоях (Linear), после первого добавив нелинейность в виде ReLU и регуляризацию Dropout с вероятностью выброса нейрона 0.5 (т.к. на семинаре говорилось о том, что это оптимальное значение и особо экспериментировать с ним нет смысла), чтобы модель не переобучалась. Я также пробовал добавлять nn.BatchNorm1d после первого линейного слоя, но, поскольку данные уже были отнормированы, это не имело особого смысла и на качество модели почти никак не повлияло. Размер батча выбрал 100, так как это не слишком много и не очень мало, чтобы модель не так долго обучалась. Пробовал еще 2 разных шага для градиента: 0.01 и 0.05. Выяснилось, что при меньшем шаге качество модели лучше, поэтому остановился на 0.01.  "
   ]
  }
 ],
 "metadata": {
  "colab": {
   "provenance": []
  },
  "kernelspec": {
   "display_name": "Python 3 (ipykernel)",
   "language": "python",
   "name": "python3"
  },
  "language_info": {
   "codemirror_mode": {
    "name": "ipython",
    "version": 3
   },
   "file_extension": ".py",
   "mimetype": "text/x-python",
   "name": "python",
   "nbconvert_exporter": "python",
   "pygments_lexer": "ipython3",
   "version": "3.9.7"
  }
 },
 "nbformat": 4,
 "nbformat_minor": 1
}
